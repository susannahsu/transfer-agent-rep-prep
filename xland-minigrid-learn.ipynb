{
 "cells": [
  {
   "cell_type": "code",
   "execution_count": 1,
   "id": "2d95ab0a-47ca-4349-85c5-e1dc6e7903b7",
   "metadata": {
    "scrolled": true
   },
   "outputs": [
    {
     "name": "stdout",
     "output_type": "stream",
     "text": [
      "Collecting xminigrid\n",
      "  Downloading xminigrid-0.7.1-py3-none-any.whl.metadata (31 kB)\n",
      "Requirement already satisfied: jax>=0.4.16 in /Library/Frameworks/Python.framework/Versions/3.11/lib/python3.11/site-packages (from xminigrid) (0.4.25)\n",
      "Requirement already satisfied: jaxlib>=0.4.16 in /Library/Frameworks/Python.framework/Versions/3.11/lib/python3.11/site-packages (from xminigrid) (0.4.25)\n",
      "Requirement already satisfied: flax>=0.8.0 in /Library/Frameworks/Python.framework/Versions/3.11/lib/python3.11/site-packages (from xminigrid) (0.8.2)\n",
      "Requirement already satisfied: rich>=13.4.2 in /Library/Frameworks/Python.framework/Versions/3.11/lib/python3.11/site-packages (from xminigrid) (13.7.1)\n",
      "Requirement already satisfied: chex>=0.1.85 in /Library/Frameworks/Python.framework/Versions/3.11/lib/python3.11/site-packages (from xminigrid) (0.1.86)\n",
      "Requirement already satisfied: imageio>=2.31.2 in /Library/Frameworks/Python.framework/Versions/3.11/lib/python3.11/site-packages (from xminigrid) (2.34.0)\n",
      "Collecting imageio-ffmpeg>=0.4.9 (from xminigrid)\n",
      "  Downloading imageio-ffmpeg-0.4.9.tar.gz (17 kB)\n",
      "  Preparing metadata (setup.py) ... \u001b[?25ldone\n",
      "\u001b[?25hRequirement already satisfied: absl-py>=0.9.0 in /Library/Frameworks/Python.framework/Versions/3.11/lib/python3.11/site-packages (from chex>=0.1.85->xminigrid) (1.4.0)\n",
      "Requirement already satisfied: typing-extensions>=4.2.0 in /Library/Frameworks/Python.framework/Versions/3.11/lib/python3.11/site-packages (from chex>=0.1.85->xminigrid) (4.10.0)\n",
      "Requirement already satisfied: numpy>=1.24.1 in /Library/Frameworks/Python.framework/Versions/3.11/lib/python3.11/site-packages (from chex>=0.1.85->xminigrid) (1.24.3)\n",
      "Requirement already satisfied: toolz>=0.9.0 in /Library/Frameworks/Python.framework/Versions/3.11/lib/python3.11/site-packages (from chex>=0.1.85->xminigrid) (0.12.1)\n",
      "Requirement already satisfied: msgpack in /Library/Frameworks/Python.framework/Versions/3.11/lib/python3.11/site-packages (from flax>=0.8.0->xminigrid) (1.0.8)\n",
      "Requirement already satisfied: optax in /Library/Frameworks/Python.framework/Versions/3.11/lib/python3.11/site-packages (from flax>=0.8.0->xminigrid) (0.2.1)\n",
      "Requirement already satisfied: orbax-checkpoint in /Library/Frameworks/Python.framework/Versions/3.11/lib/python3.11/site-packages (from flax>=0.8.0->xminigrid) (0.5.6)\n",
      "Requirement already satisfied: tensorstore in /Library/Frameworks/Python.framework/Versions/3.11/lib/python3.11/site-packages (from flax>=0.8.0->xminigrid) (0.1.56)\n",
      "Requirement already satisfied: PyYAML>=5.4.1 in /Library/Frameworks/Python.framework/Versions/3.11/lib/python3.11/site-packages (from flax>=0.8.0->xminigrid) (6.0.1)\n",
      "Requirement already satisfied: pillow>=8.3.2 in /Library/Frameworks/Python.framework/Versions/3.11/lib/python3.11/site-packages (from imageio>=2.31.2->xminigrid) (10.0.0)\n",
      "Requirement already satisfied: setuptools in /Library/Frameworks/Python.framework/Versions/3.11/lib/python3.11/site-packages (from imageio-ffmpeg>=0.4.9->xminigrid) (65.5.0)\n",
      "Requirement already satisfied: ml-dtypes>=0.2.0 in /Library/Frameworks/Python.framework/Versions/3.11/lib/python3.11/site-packages (from jax>=0.4.16->xminigrid) (0.3.2)\n",
      "Requirement already satisfied: opt-einsum in /Library/Frameworks/Python.framework/Versions/3.11/lib/python3.11/site-packages (from jax>=0.4.16->xminigrid) (3.3.0)\n",
      "Requirement already satisfied: scipy>=1.9 in /Library/Frameworks/Python.framework/Versions/3.11/lib/python3.11/site-packages (from jax>=0.4.16->xminigrid) (1.11.2)\n",
      "Requirement already satisfied: markdown-it-py>=2.2.0 in /Library/Frameworks/Python.framework/Versions/3.11/lib/python3.11/site-packages (from rich>=13.4.2->xminigrid) (3.0.0)\n",
      "Requirement already satisfied: pygments<3.0.0,>=2.13.0 in /Library/Frameworks/Python.framework/Versions/3.11/lib/python3.11/site-packages (from rich>=13.4.2->xminigrid) (2.16.1)\n",
      "Requirement already satisfied: mdurl~=0.1 in /Library/Frameworks/Python.framework/Versions/3.11/lib/python3.11/site-packages (from markdown-it-py>=2.2.0->rich>=13.4.2->xminigrid) (0.1.2)\n",
      "Requirement already satisfied: etils[epath,epy] in /Library/Frameworks/Python.framework/Versions/3.11/lib/python3.11/site-packages (from orbax-checkpoint->flax>=0.8.0->xminigrid) (1.8.0)\n",
      "Requirement already satisfied: nest_asyncio in /Library/Frameworks/Python.framework/Versions/3.11/lib/python3.11/site-packages (from orbax-checkpoint->flax>=0.8.0->xminigrid) (1.6.0)\n",
      "Requirement already satisfied: protobuf in /Library/Frameworks/Python.framework/Versions/3.11/lib/python3.11/site-packages (from orbax-checkpoint->flax>=0.8.0->xminigrid) (4.24.2)\n",
      "Requirement already satisfied: fsspec in /Library/Frameworks/Python.framework/Versions/3.11/lib/python3.11/site-packages (from etils[epath,epy]->orbax-checkpoint->flax>=0.8.0->xminigrid) (2024.2.0)\n",
      "Requirement already satisfied: importlib_resources in /Library/Frameworks/Python.framework/Versions/3.11/lib/python3.11/site-packages (from etils[epath,epy]->orbax-checkpoint->flax>=0.8.0->xminigrid) (6.3.2)\n",
      "Requirement already satisfied: zipp in /Library/Frameworks/Python.framework/Versions/3.11/lib/python3.11/site-packages (from etils[epath,epy]->orbax-checkpoint->flax>=0.8.0->xminigrid) (3.17.0)\n",
      "Downloading xminigrid-0.7.1-py3-none-any.whl (57 kB)\n",
      "\u001b[2K   \u001b[90m━━━━━━━━━━━━━━━━━━━━━━━━━━━━━━━━━━━━━━━━\u001b[0m \u001b[32m57.3/57.3 kB\u001b[0m \u001b[31m4.3 MB/s\u001b[0m eta \u001b[36m0:00:00\u001b[0m\n",
      "\u001b[?25hBuilding wheels for collected packages: imageio-ffmpeg\n",
      "  Building wheel for imageio-ffmpeg (setup.py) ... \u001b[?25ldone\n",
      "\u001b[?25h  Created wheel for imageio-ffmpeg: filename=imageio_ffmpeg-0.4.9-py3-none-any.whl size=16367 sha256=a6fff2611d63fc7337653bd6801efeff8c412ccd89de5a8c5ff0dc4138ac9df0\n",
      "  Stored in directory: /Users/susannahsu/Library/Caches/pip/wheels/c2/59/44/0cbb1f424d0220bd91b6c046e6ddef47722ba718c9051865b4\n",
      "Successfully built imageio-ffmpeg\n",
      "Installing collected packages: imageio-ffmpeg, xminigrid\n",
      "Successfully installed imageio-ffmpeg-0.4.9 xminigrid-0.7.1\n"
     ]
    }
   ],
   "source": [
    "#!pip install xminigrid"
   ]
  },
  {
   "cell_type": "code",
   "execution_count": 2,
   "id": "313ce4d0-e80e-4df1-9113-8101f2581b92",
   "metadata": {},
   "outputs": [],
   "source": [
    "import jax\n",
    "import xminigrid"
   ]
  },
  {
   "cell_type": "code",
   "execution_count": 7,
   "id": "3099d699-554b-49ce-891b-9642be3fb885",
   "metadata": {},
   "outputs": [],
   "source": [
    "key = jax.random.PRNGKey(0)\n",
    "reset_key, ruleset_key = jax.random.split(key)"
   ]
  },
  {
   "cell_type": "code",
   "execution_count": 4,
   "id": "a43e865a-e6c3-4943-8a5d-735237259960",
   "metadata": {
    "scrolled": true
   },
   "outputs": [
    {
     "data": {
      "text/plain": [
       "('XLand-MiniGrid-R1-9x9',\n",
       " 'XLand-MiniGrid-R1-13x13',\n",
       " 'XLand-MiniGrid-R1-17x17',\n",
       " 'XLand-MiniGrid-R2-9x9',\n",
       " 'XLand-MiniGrid-R2-13x13',\n",
       " 'XLand-MiniGrid-R2-17x17',\n",
       " 'XLand-MiniGrid-R4-9x9',\n",
       " 'XLand-MiniGrid-R4-13x13',\n",
       " 'XLand-MiniGrid-R4-17x17',\n",
       " 'XLand-MiniGrid-R6-13x13',\n",
       " 'XLand-MiniGrid-R6-17x17',\n",
       " 'XLand-MiniGrid-R6-19x19',\n",
       " 'XLand-MiniGrid-R9-16x16',\n",
       " 'XLand-MiniGrid-R9-19x19',\n",
       " 'XLand-MiniGrid-R9-25x25',\n",
       " 'MiniGrid-BlockedUnlockPickUp',\n",
       " 'MiniGrid-DoorKey-5x5',\n",
       " 'MiniGrid-DoorKey-6x6',\n",
       " 'MiniGrid-DoorKey-8x8',\n",
       " 'MiniGrid-DoorKey-16x16',\n",
       " 'MiniGrid-Empty-5x5',\n",
       " 'MiniGrid-Empty-6x6',\n",
       " 'MiniGrid-Empty-8x8',\n",
       " 'MiniGrid-Empty-16x16',\n",
       " 'MiniGrid-EmptyRandom-5x5',\n",
       " 'MiniGrid-EmptyRandom-6x6',\n",
       " 'MiniGrid-EmptyRandom-8x8',\n",
       " 'MiniGrid-EmptyRandom-16x16',\n",
       " 'MiniGrid-FourRooms',\n",
       " 'MiniGrid-LockedRoom',\n",
       " 'MiniGrid-MemoryS8',\n",
       " 'MiniGrid-MemoryS16',\n",
       " 'MiniGrid-MemoryS32',\n",
       " 'MiniGrid-MemoryS64',\n",
       " 'MiniGrid-MemoryS128',\n",
       " 'MiniGrid-Playground',\n",
       " 'MiniGrid-Unlock',\n",
       " 'MiniGrid-UnlockPickUp')"
      ]
     },
     "execution_count": 4,
     "metadata": {},
     "output_type": "execute_result"
    }
   ],
   "source": [
    "# to list available environments\n",
    "xminigrid.registered_environments()"
   ]
  },
  {
   "cell_type": "code",
   "execution_count": 5,
   "id": "9913569a-5ea5-4d04-a8a0-9217be4cd8df",
   "metadata": {},
   "outputs": [],
   "source": [
    "# create env instance\n",
    "env, env_params = xminigrid.make(\"XLand-MiniGrid-R9-25x25\")"
   ]
  },
  {
   "cell_type": "code",
   "execution_count": 8,
   "id": "808d8afb-572d-4eda-b1a3-d9339277ca74",
   "metadata": {},
   "outputs": [],
   "source": [
    "# fully jit-compatible step and reset methods\n",
    "timestep = jax.jit(env.reset)(env_params, reset_key)\n",
    "timestep = jax.jit(env.step)(env_params, timestep, action=0)"
   ]
  },
  {
   "cell_type": "code",
   "execution_count": 9,
   "id": "7d1ae38f-7f8d-4e15-b59f-52bb94c46335",
   "metadata": {
    "scrolled": true
   },
   "outputs": [
    {
     "data": {
      "text/plain": [
       "array([[[100, 100, 100],\n",
       "        [100, 100, 100],\n",
       "        [100, 100, 100],\n",
       "        ...,\n",
       "        [100, 100, 100],\n",
       "        [100, 100, 100],\n",
       "        [100, 100, 100]],\n",
       "\n",
       "       [[100, 100, 100],\n",
       "        [100, 100, 100],\n",
       "        [100, 100, 100],\n",
       "        ...,\n",
       "        [100, 100, 100],\n",
       "        [100, 100, 100],\n",
       "        [100, 100, 100]],\n",
       "\n",
       "       [[100, 100, 100],\n",
       "        [100, 100, 100],\n",
       "        [100, 100, 100],\n",
       "        ...,\n",
       "        [100, 100, 100],\n",
       "        [100, 100, 100],\n",
       "        [100, 100, 100]],\n",
       "\n",
       "       ...,\n",
       "\n",
       "       [[100, 100, 100],\n",
       "        [100, 100, 100],\n",
       "        [100, 100, 100],\n",
       "        ...,\n",
       "        [100, 100, 100],\n",
       "        [100, 100, 100],\n",
       "        [100, 100, 100]],\n",
       "\n",
       "       [[100, 100, 100],\n",
       "        [100, 100, 100],\n",
       "        [100, 100, 100],\n",
       "        ...,\n",
       "        [100, 100, 100],\n",
       "        [100, 100, 100],\n",
       "        [100, 100, 100]],\n",
       "\n",
       "       [[100, 100, 100],\n",
       "        [100, 100, 100],\n",
       "        [100, 100, 100],\n",
       "        ...,\n",
       "        [100, 100, 100],\n",
       "        [100, 100, 100],\n",
       "        [100, 100, 100]]], dtype=uint8)"
      ]
     },
     "execution_count": 9,
     "metadata": {},
     "output_type": "execute_result"
    }
   ],
   "source": [
    "# render the state\n",
    "env.render(env_params, timestep)"
   ]
  },
  {
   "cell_type": "code",
   "execution_count": null,
   "id": "e46b2472-3296-4329-ac36-025712f8c5c5",
   "metadata": {},
   "outputs": [],
   "source": []
  }
 ],
 "metadata": {
  "kernelspec": {
   "display_name": "Python 3 (ipykernel)",
   "language": "python",
   "name": "python3"
  },
  "language_info": {
   "codemirror_mode": {
    "name": "ipython",
    "version": 3
   },
   "file_extension": ".py",
   "mimetype": "text/x-python",
   "name": "python",
   "nbconvert_exporter": "python",
   "pygments_lexer": "ipython3",
   "version": "3.11.5"
  }
 },
 "nbformat": 4,
 "nbformat_minor": 5
}
