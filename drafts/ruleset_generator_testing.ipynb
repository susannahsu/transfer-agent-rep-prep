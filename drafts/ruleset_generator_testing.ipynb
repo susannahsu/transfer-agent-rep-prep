{
 "cells": [
  {
   "cell_type": "code",
   "execution_count": 48,
   "id": "656a69d9-6e1e-4321-913c-1a459638721a",
   "metadata": {},
   "outputs": [],
   "source": [
    "import jax\n",
    "import jax.numpy as jnp\n",
    "import xminigrid\n",
    "import os\n",
    "from xminigrid.types import RuleSet\n",
    "from xminigrid.benchmarks import Benchmark, load_benchmark, load_benchmark_from_path, load_bz2_pickle, DATA_PATH, NAME2HFFILENAME\n",
    "from xminigrid.rendering.text_render import print_ruleset\n",
    "\n",
    "# utils for the demonstration\n",
    "from xminigrid.core.grid import room\n",
    "from xminigrid.types import AgentState\n",
    "from xminigrid.core.actions import take_action\n",
    "from xminigrid.core.constants import Tiles, Colors, TILES_REGISTRY\n",
    "from xminigrid.rendering.rgb_render import render\n",
    "\n",
    "# rules and goals\n",
    "from xminigrid.core.goals import check_goal, AgentNearGoal, TileNearGoal\n",
    "from xminigrid.core.rules import check_rule, AgentNearRule, TileNearRule, TileNearRightRule, AgentNearRightRule, AgentNearUpRule"
   ]
  },
  {
   "cell_type": "code",
   "execution_count": 16,
   "id": "96524edf-73f8-4622-90dd-b6d534b7a66c",
   "metadata": {},
   "outputs": [],
   "source": [
    "def encode(ruleset):\n",
    "    flatten_encoding = jnp.concatenate([ruleset[\"goal\"].encode(), *[r.encode() for r in ruleset[\"rules\"]]]).tolist()\n",
    "    return tuple(flatten_encoding)"
   ]
  },
  {
   "cell_type": "code",
   "execution_count": 24,
   "id": "88b06c82-6d86-4a66-a93d-b26839a77f3e",
   "metadata": {},
   "outputs": [],
   "source": [
    "# GOAL: AgentNear(purple square)\n",
    "goal = AgentNearGoal(tile=TILES_REGISTRY[Tiles.SQUARE, Colors.PURPLE])"
   ]
  },
  {
   "cell_type": "code",
   "execution_count": 25,
   "id": "c1a75374-debb-4373-a1c8-4cda15d718a3",
   "metadata": {},
   "outputs": [],
   "source": [
    "# RULES: AgentNear(yellow ball) -> purple square\n",
    "rule1 = AgentNearRule(\n",
    "    tile=TILES_REGISTRY[Tiles.BALL, Colors.YELLOW],\n",
    "    prod_tile=TILES_REGISTRY[Tiles.SQUARE, Colors.PURPLE],\n",
    ")"
   ]
  },
  {
   "cell_type": "code",
   "execution_count": 26,
   "id": "45a99153-2466-4efe-a830-de582fba04b0",
   "metadata": {},
   "outputs": [],
   "source": [
    "rule2 = AgentNearRule(\n",
    "    tile=TILES_REGISTRY[Tiles.BALL, Colors.GREEN],\n",
    "    prod_tile=TILES_REGISTRY[Tiles.BALL, Colors.YELLOW],\n",
    ")"
   ]
  },
  {
   "cell_type": "code",
   "execution_count": 27,
   "id": "b5281e9a-e72c-4989-b3a9-de4e5792fa86",
   "metadata": {},
   "outputs": [],
   "source": [
    "rules = jnp.array([rule.encode(), rule2.encode()])"
   ]
  },
  {
   "cell_type": "code",
   "execution_count": 34,
   "id": "f7594180-7270-4db7-ac92-6088b71b7349",
   "metadata": {},
   "outputs": [],
   "source": [
    "ruleset = RuleSet(\n",
    "    goal=goal.encode(),\n",
    "    rules=rules,\n",
    "    init_tiles=jnp.array((\n",
    "        TILES_REGISTRY[Tiles.BALL, Colors.GREEN],\n",
    "        TILES_REGISTRY[Tiles.SQUARE, Colors.GREEN],\n",
    "        TILES_REGISTRY[Tiles.PYRAMID, Colors.YELLOW]\n",
    "    ))\n",
    ")"
   ]
  },
  {
   "cell_type": "code",
   "execution_count": 35,
   "id": "55bf93a7-579a-4e38-8d76-1b4f7591017e",
   "metadata": {},
   "outputs": [
    {
     "name": "stdout",
     "output_type": "stream",
     "text": [
      "GOAL:\n",
      "AgentNear(purple square)\n",
      "\n",
      "RULES:\n",
      "AgentNear(yellow ball) -> purple square\n",
      "AgentNear(green ball) -> yellow ball\n",
      "\n",
      "INIT TILES:\n",
      "green ball\n",
      "green square\n",
      "yellow pyramid\n"
     ]
    }
   ],
   "source": [
    "print_ruleset(ruleset)"
   ]
  },
  {
   "cell_type": "code",
   "execution_count": 39,
   "id": "169b123e-359b-46ad-86ed-7134555a4367",
   "metadata": {},
   "outputs": [],
   "source": [
    "goal = TileNearGoal(tile_a=TILES_REGISTRY[Tiles.BALL, Colors.GREEN], tile_b=TILES_REGISTRY[Tiles.BALL, Colors.BLUE])"
   ]
  },
  {
   "cell_type": "code",
   "execution_count": 42,
   "id": "6cd7bccb-cd0a-4a98-aa4a-f7e861c7622e",
   "metadata": {},
   "outputs": [],
   "source": [
    "rule_1 = TileNearRightRule(\n",
    "    tile_a=TILES_REGISTRY[Tiles.SQUARE, Colors.BROWN],\n",
    "    tile_b=TILES_REGISTRY[Tiles.SQUARE, Colors.BROWN],\n",
    "    prod_tile=TILES_REGISTRY[Tiles.BALL, Colors.BLUE],\n",
    ")"
   ]
  },
  {
   "cell_type": "code",
   "execution_count": 45,
   "id": "9cb1ef99-c23e-4a83-a81f-591ac96a93db",
   "metadata": {},
   "outputs": [],
   "source": [
    "rule_2 = AgentNearRightRule(\n",
    "    tile=TILES_REGISTRY[Tiles.BALL, Colors.BROWN],\n",
    "    prod_tile=TILES_REGISTRY[Tiles.BALL, Colors.GREEN],\n",
    ")"
   ]
  },
  {
   "cell_type": "code",
   "execution_count": 46,
   "id": "3927db24-b6ec-4e00-b5bf-6c694d414c3a",
   "metadata": {},
   "outputs": [],
   "source": [
    "rule_3 = TileNearRule(\n",
    "    tile_a=TILES_REGISTRY[Tiles.KEY, Colors.YELLOW],\n",
    "    tile_b=TILES_REGISTRY[Tiles.KEY, Colors.BLUE],\n",
    "    prod_tile=TILES_REGISTRY[Tiles.BALL, Colors.BROWN],\n",
    ")"
   ]
  },
  {
   "cell_type": "code",
   "execution_count": 49,
   "id": "e8270809-d219-480a-b35f-db50a8e44790",
   "metadata": {},
   "outputs": [],
   "source": [
    "rule_4 = AgentNearUpRule(\n",
    "    tile=TILES_REGISTRY[Tiles.SQUARE, Colors.WHITE],\n",
    "    prod_tile=TILES_REGISTRY[Tiles.SQUARE, Colors.BROWN],\n",
    ")"
   ]
  },
  {
   "cell_type": "code",
   "execution_count": 50,
   "id": "d0a21722-ec8c-4930-b890-065c386f4c6e",
   "metadata": {},
   "outputs": [],
   "source": [
    "rule_5 = AgentNearRule(\n",
    "    tile=TILES_REGISTRY[Tiles.SQUARE, Colors.PURPLE],\n",
    "    prod_tile=TILES_REGISTRY[Tiles.SQUARE, Colors.YELLOW],\n",
    ")"
   ]
  },
  {
   "cell_type": "code",
   "execution_count": 53,
   "id": "ab9c1651-a38a-4b9a-84d1-1635c09da299",
   "metadata": {},
   "outputs": [],
   "source": [
    "rules = jnp.array([rule_1.encode(), rule_2.encode(), rule_3.encode(), rule_4.encode(), rule_5.encode()])"
   ]
  },
  {
   "cell_type": "code",
   "execution_count": 52,
   "id": "5d1798f4-363a-4287-b377-0aca0d6021c4",
   "metadata": {},
   "outputs": [],
   "source": [
    "initial_tiles = jnp.array((\n",
    "    TILES_REGISTRY[Tiles.KEY, Colors.YELLOW],\n",
    "    TILES_REGISTRY[Tiles.KEY, Colors.BLUE],\n",
    "    TILES_REGISTRY[Tiles.SQUARE, Colors.WHITE],\n",
    "    TILES_REGISTRY[Tiles.SQUARE, Colors.BROWN],\n",
    "    TILES_REGISTRY[Tiles.GOAL, Colors.GREEN],\n",
    "    TILES_REGISTRY[Tiles.GOAL, Colors.WHITE],\n",
    "    TILES_REGISTRY[Tiles.SQUARE, Colors.PURPLE],\n",
    "))"
   ]
  },
  {
   "cell_type": "code",
   "execution_count": 55,
   "id": "3b75403d-f3ef-43e2-b553-dc280a27391c",
   "metadata": {},
   "outputs": [],
   "source": [
    "ruleset = RuleSet(\n",
    "    goal=goal.encode(),\n",
    "    rules=rules,\n",
    "    init_tiles=initial_tiles\n",
    ")"
   ]
  },
  {
   "cell_type": "code",
   "execution_count": 56,
   "id": "1af36ad8-f0e7-4241-9e97-f905f10bb467",
   "metadata": {},
   "outputs": [
    {
     "name": "stdout",
     "output_type": "stream",
     "text": [
      "GOAL:\n",
      "TileNear(green ball, blue ball)\n",
      "\n",
      "RULES:\n",
      "TileNearRightRule(brown square, brown square) -> blue ball\n",
      "AgentNearRightRule(brown ball) -> green ball\n",
      "TileNear(yellow key, blue key) -> brown ball\n",
      "AgentNearUpRule(white square) -> brown square\n",
      "AgentNear(purple square) -> yellow square\n",
      "\n",
      "INIT TILES:\n",
      "yellow key\n",
      "blue key\n",
      "white square\n",
      "brown square\n",
      "green goal\n",
      "white goal\n",
      "purple square\n"
     ]
    }
   ],
   "source": [
    "print_ruleset(ruleset)"
   ]
  },
  {
   "cell_type": "markdown",
   "id": "aa8cd6e7-8870-4cb7-9408-8dfa2637a496",
   "metadata": {},
   "source": [
    "### Benchmarks"
   ]
  },
  {
   "cell_type": "code",
   "execution_count": null,
   "id": "43de57a2-c7cd-4a10-b852-d8dd55355c5b",
   "metadata": {},
   "outputs": [],
   "source": [
    "print(\"Benchmarks available:\", xminigrid.registered_benchmarks())"
   ]
  },
  {
   "cell_type": "code",
   "execution_count": 5,
   "id": "7168b462-ae3c-4180-a626-cf1cf788a5e9",
   "metadata": {},
   "outputs": [
    {
     "name": "stdout",
     "output_type": "stream",
     "text": [
      "Total rulesets: 1000000\n",
      "Ruleset with id 128: \n",
      " RuleSet(goal=Array([ 9, 12,  3,  5,  3], dtype=int32), rules=Array([[0, 0, 0, 0, 0, 0, 0]], dtype=uint8), init_tiles=Array([[12,  3],\n",
      "       [ 5,  3],\n",
      "       [ 5,  9],\n",
      "       [ 5,  6],\n",
      "       [ 3,  9]], dtype=uint8))\n",
      "Random ruleset: \n",
      " RuleSet(goal=Array([ 7,  7, 10,  5,  8], dtype=int32), rules=Array([[0, 0, 0, 0, 0, 0, 0]], dtype=uint8), init_tiles=Array([[ 7, 10],\n",
      "       [ 5,  8],\n",
      "       [ 6,  2],\n",
      "       [ 5, 10],\n",
      "       [ 7,  1]], dtype=uint8))\n"
     ]
    }
   ],
   "source": [
    "benchmark_trivial = xminigrid.load_benchmark(name=\"trivial-1m\")\n",
    "print(\"Total rulesets:\", benchmark_trivial.num_rulesets())\n",
    "print(\"Ruleset with id 128: \\n\", benchmark_trivial.get_ruleset(ruleset_id=128))\n",
    "print(\"Random ruleset: \\n\", benchmark_trivial.sample_ruleset(jax.random.PRNGKey(0)))"
   ]
  },
  {
   "cell_type": "code",
   "execution_count": 6,
   "id": "fcf5ba04-e661-4a04-94d7-5a058cdc7111",
   "metadata": {
    "scrolled": true
   },
   "outputs": [
    {
     "name": "stdout",
     "output_type": "stream",
     "text": [
      "Total rulesets: 1000000\n",
      "Ruleset with id 128: \n",
      " RuleSet(goal=Array([12,  7,  8,  0,  0], dtype=int32), rules=Array([[10, 12, 10, 11,  2,  0,  0],\n",
      "       [ 0,  0,  0,  0,  0,  0,  0],\n",
      "       [ 0,  0,  0,  0,  0,  0,  0],\n",
      "       [ 0,  0,  0,  0,  0,  0,  0]], dtype=uint8), init_tiles=Array([[ 7,  8],\n",
      "       [ 7, 10],\n",
      "       [11,  3],\n",
      "       [12, 10],\n",
      "       [ 0,  0],\n",
      "       [ 0,  0],\n",
      "       [ 0,  0],\n",
      "       [ 0,  0],\n",
      "       [ 0,  0],\n",
      "       [ 0,  0]], dtype=uint8))\n",
      "Random ruleset: \n",
      " RuleSet(goal=Array([3, 6, 4, 0, 0], dtype=int32), rules=Array([[11,  3,  6,  6,  4,  0,  0],\n",
      "       [ 0,  0,  0,  0,  0,  0,  0],\n",
      "       [ 0,  0,  0,  0,  0,  0,  0],\n",
      "       [ 0,  0,  0,  0,  0,  0,  0]], dtype=uint8), init_tiles=Array([[3, 6],\n",
      "       [3, 8],\n",
      "       [5, 8],\n",
      "       [0, 0],\n",
      "       [0, 0],\n",
      "       [0, 0],\n",
      "       [0, 0],\n",
      "       [0, 0],\n",
      "       [0, 0],\n",
      "       [0, 0]], dtype=uint8))\n"
     ]
    }
   ],
   "source": [
    "benchmark_small = xminigrid.load_benchmark(name=\"small-1m\")\n",
    "print(\"Total rulesets:\", benchmark_small.num_rulesets())\n",
    "print(\"Ruleset with id 128: \\n\", benchmark_small.get_ruleset(ruleset_id=128))\n",
    "print(\"Random ruleset: \\n\", benchmark_small.sample_ruleset(jax.random.PRNGKey(0)))"
   ]
  },
  {
   "cell_type": "code",
   "execution_count": 7,
   "id": "12ec8749-20ba-477d-9c23-0b7e50753f98",
   "metadata": {
    "scrolled": true
   },
   "outputs": [
    {
     "name": "stdout",
     "output_type": "stream",
     "text": [
      "Total rulesets: 1000000\n",
      "Ruleset with id 128: \n",
      " RuleSet(goal=Array([12,  3,  3,  0,  0], dtype=int32), rules=Array([[ 7,  3,  9,  5,  2,  3,  3],\n",
      "       [ 3, 11, 11,  4,  2,  5,  2],\n",
      "       [10,  3,  2,  3,  9,  0,  0],\n",
      "       [ 8,  5,  5,  5,  3,  0,  0],\n",
      "       [ 2, 11,  4,  5,  5,  0,  0],\n",
      "       [ 0,  0,  0,  0,  0,  0,  0],\n",
      "       [ 0,  0,  0,  0,  0,  0,  0],\n",
      "       [ 0,  0,  0,  0,  0,  0,  0],\n",
      "       [ 0,  0,  0,  0,  0,  0,  0]], dtype=uint8), init_tiles=Array([[11, 11],\n",
      "       [ 4,  2],\n",
      "       [ 3,  2],\n",
      "       [12, 11],\n",
      "       [ 4,  1],\n",
      "       [ 5,  5],\n",
      "       [11,  4],\n",
      "       [ 0,  0],\n",
      "       [ 0,  0],\n",
      "       [ 0,  0],\n",
      "       [ 0,  0],\n",
      "       [ 0,  0],\n",
      "       [ 0,  0],\n",
      "       [ 0,  0],\n",
      "       [ 0,  0],\n",
      "       [ 0,  0]], dtype=uint8))\n",
      "Random ruleset: \n",
      " RuleSet(goal=Array([ 8,  7,  6, 11,  9], dtype=int32), rules=Array([[11,  4,  1, 11,  9,  0,  0],\n",
      "       [ 6, 12,  4, 12, 11,  7,  6],\n",
      "       [10,  3,  4, 12,  4,  0,  0],\n",
      "       [ 7, 12,  3,  3, 11,  4,  1],\n",
      "       [ 4,  4,  8, 11,  8, 12,  9],\n",
      "       [ 0,  0,  0,  0,  0,  0,  0],\n",
      "       [ 0,  0,  0,  0,  0,  0,  0],\n",
      "       [ 0,  0,  0,  0,  0,  0,  0],\n",
      "       [ 0,  0,  0,  0,  0,  0,  0]], dtype=uint8), init_tiles=Array([[12, 11],\n",
      "       [ 3,  4],\n",
      "       [12,  3],\n",
      "       [ 3, 11],\n",
      "       [ 6,  5],\n",
      "       [11,  3],\n",
      "       [ 4,  8],\n",
      "       [11,  8],\n",
      "       [ 0,  0],\n",
      "       [ 0,  0],\n",
      "       [ 0,  0],\n",
      "       [ 0,  0],\n",
      "       [ 0,  0],\n",
      "       [ 0,  0],\n",
      "       [ 0,  0],\n",
      "       [ 0,  0]], dtype=uint8))\n"
     ]
    }
   ],
   "source": [
    "benchmark_medium = xminigrid.load_benchmark(name=\"medium-1m\")\n",
    "print(\"Total rulesets:\", benchmark_medium.num_rulesets())\n",
    "print(\"Ruleset with id 128: \\n\", benchmark_medium.get_ruleset(ruleset_id=128))\n",
    "print(\"Random ruleset: \\n\", benchmark_medium.sample_ruleset(jax.random.PRNGKey(0)))"
   ]
  },
  {
   "cell_type": "code",
   "execution_count": 8,
   "id": "6efbfe2f-2c6a-43a3-bb74-ebd1b819b443",
   "metadata": {},
   "outputs": [
    {
     "name": "stdout",
     "output_type": "stream",
     "text": [
      "GOAL:\n",
      "TileNearDownGoal(blue star, blue pyramid)\n",
      "\n",
      "RULES:\n",
      "\n",
      "INIT TILES:\n",
      "blue star\n",
      "blue pyramid\n",
      "white pyramid\n",
      "grey pyramid\n",
      "white ball\n"
     ]
    }
   ],
   "source": [
    "print_ruleset(benchmark_trivial.get_ruleset(ruleset_id=128))"
   ]
  },
  {
   "cell_type": "code",
   "execution_count": 9,
   "id": "ca347c6e-3f4c-4cad-961e-adfb1606bc20",
   "metadata": {},
   "outputs": [
    {
     "name": "stdout",
     "output_type": "stream",
     "text": [
      "GOAL:\n",
      "AgentNearRightGoal(orange key)\n",
      "\n",
      "RULES:\n",
      "AgentNearDownRule(brown star) -> green hexagon\n",
      "\n",
      "INIT TILES:\n",
      "orange key\n",
      "brown key\n",
      "blue hexagon\n",
      "brown star\n"
     ]
    }
   ],
   "source": [
    "print_ruleset(benchmark_small.get_ruleset(ruleset_id=128))"
   ]
  },
  {
   "cell_type": "code",
   "execution_count": 33,
   "id": "f9670217-eb6a-45b3-b064-92f4bc6e8ed0",
   "metadata": {},
   "outputs": [
    {
     "name": "stdout",
     "output_type": "stream",
     "text": [
      "GOAL:\n",
      "TileNear(green ball, blue ball)\n",
      "\n",
      "RULES:\n",
      "TileNearRightRule(brown square, brown square) -> blue ball\n",
      "AgentNearRightRule(brown ball) -> green ball\n",
      "TileNear(yellow key, blue key) -> brown ball\n",
      "AgentNearUpRule(white square) -> brown square\n",
      "AgentNear(purple square) -> yellow square\n",
      "\n",
      "INIT TILES:\n",
      "yellow key\n",
      "blue key\n",
      "white square\n",
      "brown square\n",
      "green goal\n",
      "white goal\n",
      "purple square\n"
     ]
    }
   ],
   "source": [
    "print_ruleset(benchmark_medium.get_ruleset(ruleset_id=2000))"
   ]
  },
  {
   "cell_type": "markdown",
   "id": "b0f67007-3cd7-40e1-b1b5-ffcc24be1b3d",
   "metadata": {},
   "source": [
    "### Trying own script"
   ]
  },
  {
   "cell_type": "code",
   "execution_count": null,
   "id": "441442a6-51ba-4902-ab44-b2d845f79109",
   "metadata": {},
   "outputs": [],
   "source": [
    "import random\n",
    "from itertools import product\n",
    "\n",
    "import jax.numpy as jnp\n",
    "from tqdm.auto import tqdm, trange\n",
    "from xminigrid.benchmarks import save_bz2_pickle\n",
    "from xminigrid.core.constants import Colors, Tiles\n",
    "from xminigrid.core.goals import (\n",
    "    AgentHoldGoal,\n",
    "    AgentNearDownGoal,\n",
    "    AgentNearGoal,\n",
    "    AgentNearLeftGoal,\n",
    "    AgentNearRightGoal,\n",
    "    AgentNearUpGoal,\n",
    "    TileNearDownGoal,\n",
    "    TileNearGoal,\n",
    "    TileNearLeftGoal,\n",
    "    TileNearRightGoal,\n",
    "    TileNearUpGoal,\n",
    ")\n",
    "from xminigrid.core.grid import pad_along_axis\n",
    "from xminigrid.core.rules import (\n",
    "    AgentHoldRule,\n",
    "    AgentNearDownRule,\n",
    "    AgentNearLeftRule,\n",
    "    AgentNearRightRule,\n",
    "    AgentNearRule,\n",
    "    AgentNearUpRule,\n",
    "    EmptyRule,\n",
    "    TileNearDownRule,\n",
    "    TileNearLeftRule,\n",
    "    TileNearRightRule,\n",
    "    TileNearRule,\n",
    "    TileNearUpRule,\n",
    ")"
   ]
  },
  {
   "cell_type": "code",
   "execution_count": null,
   "id": "97254b03-b983-4484-a7d4-526be5f76740",
   "metadata": {},
   "outputs": [],
   "source": [
    "COLORS = [\n",
    "    Colors.RED,\n",
    "    Colors.GREEN,\n",
    "    Colors.BLUE,\n",
    "    Colors.PURPLE,\n",
    "    Colors.YELLOW,\n",
    "    Colors.GREY,\n",
    "    Colors.WHITE,\n",
    "    Colors.BROWN,\n",
    "    Colors.PINK,\n",
    "    Colors.ORANGE,\n",
    "]"
   ]
  },
  {
   "cell_type": "code",
   "execution_count": null,
   "id": "58061a97-f50e-4512-a54d-bacff1855ab5",
   "metadata": {},
   "outputs": [],
   "source": [
    "# we need to distinguish between them, to avoid sampling\n",
    "# near(goal, goal) goal or rule as goal tiles are not pickable\n",
    "NEAR_TILES_LHS = list(\n",
    "    product([Tiles.BALL, Tiles.SQUARE, Tiles.PYRAMID, Tiles.KEY, Tiles.STAR, Tiles.HEX, Tiles.GOAL], COLORS)\n",
    ")\n",
    "# these are pickable!\n",
    "NEAR_TILES_RHS = list(product([Tiles.BALL, Tiles.SQUARE, Tiles.PYRAMID, Tiles.KEY, Tiles.STAR, Tiles.HEX], COLORS))\n",
    "\n",
    "HOLD_TILES = list(product([Tiles.BALL, Tiles.SQUARE, Tiles.PYRAMID, Tiles.KEY, Tiles.STAR, Tiles.HEX], COLORS))\n",
    "\n",
    "# to imitate disappearance production rule\n",
    "PROD_TILES = list(product([Tiles.BALL, Tiles.SQUARE, Tiles.PYRAMID, Tiles.KEY, Tiles.STAR, Tiles.HEX], COLORS))\n",
    "PROD_TILES = PROD_TILES + [(Tiles.FLOOR, Colors.BLACK)]"
   ]
  },
  {
   "cell_type": "code",
   "execution_count": null,
   "id": "209ea1e9-8e28-430a-983d-4b81faca3a72",
   "metadata": {},
   "outputs": [],
   "source": [
    "def encode(ruleset):\n",
    "    flatten_encoding = jnp.concatenate([ruleset[\"goal\"].encode(), *[r.encode() for r in ruleset[\"rules\"]]]).tolist()\n",
    "    return tuple(flatten_encoding)"
   ]
  },
  {
   "cell_type": "code",
   "execution_count": null,
   "id": "9e4d7f75-61d9-4014-aaae-cef2394d2f8f",
   "metadata": {},
   "outputs": [],
   "source": [
    "def diff(list1, list2):\n",
    "    return list(set(list1) - set(list2))"
   ]
  },
  {
   "cell_type": "code",
   "execution_count": null,
   "id": "8f731483-805d-4684-bef7-921971722c0d",
   "metadata": {},
   "outputs": [],
   "source": [
    "goals = (\n",
    "        AgentHoldGoal,\n",
    "        # agent near variations\n",
    "        AgentNearGoal,\n",
    "        AgentNearUpGoal,\n",
    "        AgentNearDownGoal,\n",
    "        AgentNearLeftGoal,\n",
    "        AgentNearRightGoal,\n",
    "        # tile near variations\n",
    "        TileNearGoal,\n",
    "        TileNearUpGoal,\n",
    "        TileNearDownGoal,\n",
    "        TileNearLeftGoal,\n",
    "        TileNearRightGoal,\n",
    "    )"
   ]
  },
  {
   "cell_type": "code",
   "execution_count": null,
   "id": "cb650e98-4363-414b-9ce9-254dd44fd036",
   "metadata": {},
   "outputs": [],
   "source": [
    "rules = (\n",
    "        AgentHoldRule,\n",
    "        # agent near variations\n",
    "        AgentNearRule,\n",
    "        AgentNearUpRule,\n",
    "        AgentNearDownRule,\n",
    "        AgentNearLeftRule,\n",
    "        AgentNearRightRule,\n",
    "        # tile near variations\n",
    "        TileNearRule,\n",
    "        TileNearUpRule,\n",
    "        TileNearDownRule,\n",
    "        TileNearLeftRule,\n",
    "        TileNearRightRule,\n",
    "    )"
   ]
  },
  {
   "cell_type": "code",
   "execution_count": null,
   "id": "b4ccd1bd-453d-4f92-8814-67be6b33e0b4",
   "metadata": {},
   "outputs": [],
   "source": [
    "goals[1]"
   ]
  },
  {
   "cell_type": "code",
   "execution_count": null,
   "id": "38f1e3c9-a2e3-455d-bcaa-2795957f575d",
   "metadata": {},
   "outputs": [],
   "source": [
    "tile_goal = NEAR_TILES_LHS[1]\n",
    "print(f\"tile_goal: {tile_goal}\")"
   ]
  },
  {
   "cell_type": "code",
   "execution_count": null,
   "id": "277fa320-a859-42ee-86b5-5a0bcb3897c3",
   "metadata": {},
   "outputs": [],
   "source": [
    "goal = goals[1](tile=jnp.array(tile_goal))\n",
    "goal"
   ]
  },
  {
   "cell_type": "code",
   "execution_count": null,
   "id": "91ea8d6d-9f7c-46fc-a780-000942382c4e",
   "metadata": {},
   "outputs": [],
   "source": [
    "used_tiles = []\n",
    "chain_tiles = []"
   ]
  },
  {
   "cell_type": "code",
   "execution_count": null,
   "id": "51faec30-82f3-4ab8-b5df-35fe059126c0",
   "metadata": {},
   "outputs": [],
   "source": [
    "used_tiles.extend(tile_goal)\n",
    "chain_tiles.extend(tile_goal)"
   ]
  },
  {
   "cell_type": "code",
   "execution_count": null,
   "id": "2b64dbe7-7de3-45bc-abbc-b01293d2996d",
   "metadata": {},
   "outputs": [],
   "source": [
    "used_tiles"
   ]
  },
  {
   "cell_type": "code",
   "execution_count": null,
   "id": "51c3a9b4-58cc-4af2-bd45-542a4e758a26",
   "metadata": {},
   "outputs": [],
   "source": [
    "chain_tiles"
   ]
  },
  {
   "cell_type": "code",
   "execution_count": null,
   "id": "227c6780-e4be-4cb5-bfb4-e1be52104fbf",
   "metadata": {},
   "outputs": [],
   "source": [
    "rules = []\n",
    "init_tiles = []"
   ]
  },
  {
   "cell_type": "code",
   "execution_count": null,
   "id": "64abb64e-339d-4072-b5ee-ebe921abcf0a",
   "metadata": {},
   "outputs": [],
   "source": [
    "prod_tile = chain_tiles[1]\n"
   ]
  },
  {
   "cell_type": "code",
   "execution_count": null,
   "id": "16c76f28-0217-48ab-bbb8-e3c131e0378c",
   "metadata": {},
   "outputs": [],
   "source": [
    "tile_rule = HOLD_TILES[3]\n",
    "print(f\"tile_rule: {tile_rule}\")"
   ]
  },
  {
   "cell_type": "code",
   "execution_count": null,
   "id": "3898b036-40b6-4fc4-b810-d08a9a50d5ad",
   "metadata": {},
   "outputs": [],
   "source": [
    "rule = rules[1](tile=jnp.array(tile), prod_tile=jnp.array(prod_tile))"
   ]
  },
  {
   "cell_type": "code",
   "execution_count": null,
   "id": "4e316e22-7f5f-400a-8289-4317f57f03f3",
   "metadata": {},
   "outputs": [],
   "source": []
  },
  {
   "cell_type": "code",
   "execution_count": null,
   "id": "cb34d7f1-5c1f-4771-98a4-10e9d830149d",
   "metadata": {},
   "outputs": [],
   "source": []
  },
  {
   "cell_type": "markdown",
   "id": "54350b61-fa4b-4942-add7-ba93011f78b8",
   "metadata": {},
   "source": [
    "### My Own Script"
   ]
  },
  {
   "cell_type": "code",
   "execution_count": 59,
   "id": "dc09d5ca-7b8a-4d07-a67d-b746ec21ee99",
   "metadata": {},
   "outputs": [],
   "source": [
    "import random\n",
    "import jax.numpy as jnp\n",
    "\n",
    "from xminigrid.core.constants import Colors, Tiles\n",
    "from xminigrid.core.goals import *\n",
    "from xminigrid.core.rules import *\n",
    "from xminigrid.types import RuleSet\n",
    "\n",
    "from itertools import product"
   ]
  },
  {
   "cell_type": "code",
   "execution_count": 61,
   "id": "d0feeba9-c948-4d96-926e-8a0afc86d7c6",
   "metadata": {},
   "outputs": [],
   "source": [
    "COLORS = [\n",
    "    Colors.RED,\n",
    "    Colors.GREEN,\n",
    "    Colors.BLUE,\n",
    "    Colors.PURPLE,\n",
    "    Colors.YELLOW,\n",
    "    Colors.GREY,\n",
    "    Colors.WHITE,\n",
    "    Colors.BROWN,\n",
    "    Colors.PINK,\n",
    "    Colors.ORANGE,\n",
    "]"
   ]
  },
  {
   "cell_type": "code",
   "execution_count": 62,
   "id": "ce948b76-2600-4516-8e66-756ceefdd11c",
   "metadata": {},
   "outputs": [],
   "source": [
    "# Define tiles and colors\n",
    "tiles = list(product([Tiles.BALL, Tiles.SQUARE, Tiles.PYRAMID, Tiles.KEY, Tiles.STAR, Tiles.HEX], COLORS))"
   ]
  },
  {
   "cell_type": "code",
   "execution_count": 86,
   "id": "f17a8b6f-1516-4fc3-9d6c-29e7bb76209e",
   "metadata": {},
   "outputs": [],
   "source": [
    "def generate_subtree(depth, prod_tile):\n",
    "    rules = []\n",
    "    current_prod_tiles = [prod_tile]\n",
    "\n",
    "    for i in range(depth):\n",
    "        next_prod_tiles = []\n",
    "        for pt in current_prod_tiles:\n",
    "            tile_a = random.choice(tiles)\n",
    "            tile_b = random.choice(tiles)\n",
    "\n",
    "            # Example rule: tiles near each other cause a production\n",
    "            rule = TileNearRule(tile_a=jnp.array(tile_a), tile_b=jnp.array(tile_b), prod_tile=jnp.array(pt))\n",
    "            rules.append(rule)\n",
    "            next_prod_tiles.append(tile_a)  # Chaining the effect\n",
    "            next_prod_tiles.append(tile_b)\n",
    "\n",
    "        current_prod_tiles = next_prod_tiles\n",
    "\n",
    "    return rules"
   ]
  },
  {
   "cell_type": "code",
   "execution_count": 99,
   "id": "f90bf9f5-b88f-4d09-986c-adf3fb048b12",
   "metadata": {},
   "outputs": [],
   "source": [
    "prod_tile = (Tiles.KEY, Colors.BLUE)"
   ]
  },
  {
   "cell_type": "code",
   "execution_count": 100,
   "id": "658937ee-f7dc-4c05-8814-4666fe1a6f54",
   "metadata": {},
   "outputs": [],
   "source": [
    "# Generate a shared subtree\n",
    "shared_subtree = generate_subtree(2, prod_tile)"
   ]
  },
  {
   "cell_type": "code",
   "execution_count": 101,
   "id": "d2fa7bde-d7a1-464a-8ccc-62b6b06761f5",
   "metadata": {},
   "outputs": [
    {
     "data": {
      "text/plain": [
       "[TileNearRule(tile_a=Array([3, 8], dtype=int32), tile_b=Array([7, 4], dtype=int32), prod_tile=Array([7, 3], dtype=int32)),\n",
       " TileNearRule(tile_a=Array([3, 5], dtype=int32), tile_b=Array([5, 1], dtype=int32), prod_tile=Array([3, 8], dtype=int32)),\n",
       " TileNearRule(tile_a=Array([12,  6], dtype=int32), tile_b=Array([12, 10], dtype=int32), prod_tile=Array([7, 4], dtype=int32))]"
      ]
     },
     "execution_count": 101,
     "metadata": {},
     "output_type": "execute_result"
    }
   ],
   "source": [
    "shared_subtree"
   ]
  },
  {
   "cell_type": "code",
   "execution_count": 102,
   "id": "9c0cd736-17be-4e52-86fe-75873610687f",
   "metadata": {},
   "outputs": [],
   "source": [
    "def generate_ruleset_with_shared_subtree(subtree, goal, init_tiles):\n",
    "    rules = subtree.copy()  # Use the pre-generated subtree\n",
    "    return RuleSet(\n",
    "        goal=goal.encode(),\n",
    "        rules=jnp.array([r.encode() for r in rules]),\n",
    "        init_tiles=jnp.array(init_tiles)  # Ensure this is correctly formatted\n",
    "    )"
   ]
  },
  {
   "cell_type": "code",
   "execution_count": 103,
   "id": "4f555a79-be43-48a9-800e-99ecfa418cef",
   "metadata": {},
   "outputs": [],
   "source": [
    "random_init_tiles = [random.choice(tiles) for _ in range(5)]"
   ]
  },
  {
   "cell_type": "code",
   "execution_count": 105,
   "id": "434e231f-9906-4497-a7ee-9856f7a4d28f",
   "metadata": {},
   "outputs": [],
   "source": [
    "goals = [\n",
    "    AgentNearGoal(tile=jnp.array(prod_tile)),\n",
    "    AgentNearUpGoal(tile=jnp.array(prod_tile)),\n",
    "    AgentNearDownGoal(tile=jnp.array(prod_tile))\n",
    "]"
   ]
  },
  {
   "cell_type": "code",
   "execution_count": 106,
   "id": "87a3f3b9-a015-45d6-98ce-0b08ec5f7249",
   "metadata": {},
   "outputs": [],
   "source": [
    "rulesets = [generate_ruleset_with_shared_subtree(shared_subtree, goal, random_init_tiles) for goal in goals]"
   ]
  },
  {
   "cell_type": "code",
   "execution_count": 107,
   "id": "91fa4b4a-b01f-42aa-8117-19879b02d3f1",
   "metadata": {},
   "outputs": [
    {
     "data": {
      "text/plain": [
       "[RuleSet(goal=Array([3, 7, 3, 0, 0], dtype=uint8), rules=Array([[ 3,  3,  8,  7,  4,  7,  3],\n",
       "        [ 3,  3,  5,  5,  1,  3,  8],\n",
       "        [ 3, 12,  6, 12, 10,  7,  4]], dtype=uint8), init_tiles=Array([[ 7,  3],\n",
       "        [ 3,  1],\n",
       "        [11,  8],\n",
       "        [ 5, 11],\n",
       "        [ 5,  4]], dtype=int32)),\n",
       " RuleSet(goal=Array([11,  7,  3,  0,  0], dtype=int32), rules=Array([[ 3,  3,  8,  7,  4,  7,  3],\n",
       "        [ 3,  3,  5,  5,  1,  3,  8],\n",
       "        [ 3, 12,  6, 12, 10,  7,  4]], dtype=uint8), init_tiles=Array([[ 7,  3],\n",
       "        [ 3,  1],\n",
       "        [11,  8],\n",
       "        [ 5, 11],\n",
       "        [ 5,  4]], dtype=int32)),\n",
       " RuleSet(goal=Array([13,  7,  3,  0,  0], dtype=int32), rules=Array([[ 3,  3,  8,  7,  4,  7,  3],\n",
       "        [ 3,  3,  5,  5,  1,  3,  8],\n",
       "        [ 3, 12,  6, 12, 10,  7,  4]], dtype=uint8), init_tiles=Array([[ 7,  3],\n",
       "        [ 3,  1],\n",
       "        [11,  8],\n",
       "        [ 5, 11],\n",
       "        [ 5,  4]], dtype=int32))]"
      ]
     },
     "execution_count": 107,
     "metadata": {},
     "output_type": "execute_result"
    }
   ],
   "source": [
    "rulesets"
   ]
  },
  {
   "cell_type": "code",
   "execution_count": 108,
   "id": "f8f1cc64-9a98-47c0-b6b2-27b96469a335",
   "metadata": {},
   "outputs": [
    {
     "name": "stdout",
     "output_type": "stream",
     "text": [
      "GOAL:\n",
      "AgentNear(blue key)\n",
      "\n",
      "RULES:\n",
      "TileNear(orange ball, purple key) -> blue key\n",
      "TileNear(yellow ball, red pyramid) -> orange ball\n",
      "TileNear(grey star, brown star) -> purple key\n",
      "\n",
      "INIT TILES:\n",
      "blue key\n",
      "red ball\n",
      "orange hexagon\n",
      "pink pyramid\n",
      "purple pyramid\n",
      "\n",
      "===============\n",
      "GOAL:\n",
      "AgentNearUpGoal(blue key)\n",
      "\n",
      "RULES:\n",
      "TileNear(orange ball, purple key) -> blue key\n",
      "TileNear(yellow ball, red pyramid) -> orange ball\n",
      "TileNear(grey star, brown star) -> purple key\n",
      "\n",
      "INIT TILES:\n",
      "blue key\n",
      "red ball\n",
      "orange hexagon\n",
      "pink pyramid\n",
      "purple pyramid\n",
      "\n",
      "===============\n",
      "GOAL:\n",
      "AgentNearDownGoal(blue key)\n",
      "\n",
      "RULES:\n",
      "TileNear(orange ball, purple key) -> blue key\n",
      "TileNear(yellow ball, red pyramid) -> orange ball\n",
      "TileNear(grey star, brown star) -> purple key\n",
      "\n",
      "INIT TILES:\n",
      "blue key\n",
      "red ball\n",
      "orange hexagon\n",
      "pink pyramid\n",
      "purple pyramid\n",
      "\n",
      "===============\n"
     ]
    }
   ],
   "source": [
    "for ruleset in rulesets:\n",
    "    print_ruleset(ruleset)\n",
    "    print(\"\\n===============\")"
   ]
  },
  {
   "cell_type": "code",
   "execution_count": 109,
   "id": "5d0f6d06-dda1-480c-9f1b-6c29d7aae37f",
   "metadata": {},
   "outputs": [],
   "source": [
    "prod_tile_2 = (Tiles.SQUARE, Colors.RED)"
   ]
  },
  {
   "cell_type": "code",
   "execution_count": 118,
   "id": "3f440cb1-a877-4f0e-bfc1-4612f207f09a",
   "metadata": {},
   "outputs": [],
   "source": [
    "# Generate a shared subtree\n",
    "shared_subtree_2 = generate_subtree(3, prod_tile_2)"
   ]
  },
  {
   "cell_type": "code",
   "execution_count": 119,
   "id": "8770e343-d997-4f6e-958d-3c2f35433e0a",
   "metadata": {},
   "outputs": [],
   "source": [
    "goals_2 = [\n",
    "    AgentNearGoal(tile=jnp.array(prod_tile_2)),\n",
    "    AgentNearUpGoal(tile=jnp.array(prod_tile_2)),\n",
    "    AgentNearDownGoal(tile=jnp.array(prod_tile_2))\n",
    "]"
   ]
  },
  {
   "cell_type": "code",
   "execution_count": 120,
   "id": "63dc2ec8-f5c0-4826-8dc9-bfb18446c7e3",
   "metadata": {},
   "outputs": [],
   "source": [
    "rulesets = [generate_ruleset_with_shared_subtree(shared_subtree_2, goal, random_init_tiles) for goal in goals_2]"
   ]
  },
  {
   "cell_type": "code",
   "execution_count": 121,
   "id": "93715418-fcb2-4669-a9c7-b95d952098f5",
   "metadata": {},
   "outputs": [
    {
     "name": "stdout",
     "output_type": "stream",
     "text": [
      "GOAL:\n",
      "AgentNear(red square)\n",
      "\n",
      "RULES:\n",
      "TileNear(green square, blue hexagon) -> red square\n",
      "TileNear(yellow star, brown key) -> green square\n",
      "TileNear(pink pyramid, red ball) -> blue hexagon\n",
      "TileNear(pink key, grey star) -> yellow star\n",
      "TileNear(orange pyramid, brown key) -> brown key\n",
      "TileNear(blue pyramid, grey key) -> pink pyramid\n",
      "TileNear(red ball, orange ball) -> red ball\n",
      "\n",
      "INIT TILES:\n",
      "blue key\n",
      "red ball\n",
      "orange hexagon\n",
      "pink pyramid\n",
      "purple pyramid\n",
      "\n",
      "===============\n",
      "GOAL:\n",
      "AgentNearUpGoal(red square)\n",
      "\n",
      "RULES:\n",
      "TileNear(green square, blue hexagon) -> red square\n",
      "TileNear(yellow star, brown key) -> green square\n",
      "TileNear(pink pyramid, red ball) -> blue hexagon\n",
      "TileNear(pink key, grey star) -> yellow star\n",
      "TileNear(orange pyramid, brown key) -> brown key\n",
      "TileNear(blue pyramid, grey key) -> pink pyramid\n",
      "TileNear(red ball, orange ball) -> red ball\n",
      "\n",
      "INIT TILES:\n",
      "blue key\n",
      "red ball\n",
      "orange hexagon\n",
      "pink pyramid\n",
      "purple pyramid\n",
      "\n",
      "===============\n",
      "GOAL:\n",
      "AgentNearDownGoal(red square)\n",
      "\n",
      "RULES:\n",
      "TileNear(green square, blue hexagon) -> red square\n",
      "TileNear(yellow star, brown key) -> green square\n",
      "TileNear(pink pyramid, red ball) -> blue hexagon\n",
      "TileNear(pink key, grey star) -> yellow star\n",
      "TileNear(orange pyramid, brown key) -> brown key\n",
      "TileNear(blue pyramid, grey key) -> pink pyramid\n",
      "TileNear(red ball, orange ball) -> red ball\n",
      "\n",
      "INIT TILES:\n",
      "blue key\n",
      "red ball\n",
      "orange hexagon\n",
      "pink pyramid\n",
      "purple pyramid\n",
      "\n",
      "===============\n"
     ]
    }
   ],
   "source": [
    "for ruleset in rulesets:\n",
    "    print_ruleset(ruleset)\n",
    "    print(\"\\n===============\")"
   ]
  },
  {
   "cell_type": "code",
   "execution_count": null,
   "id": "2acac096-1bf6-481f-b924-760b24fa5236",
   "metadata": {},
   "outputs": [],
   "source": []
  },
  {
   "cell_type": "code",
   "execution_count": null,
   "id": "060a71eb-6d2e-4edd-9300-5aa0dee0a550",
   "metadata": {},
   "outputs": [],
   "source": []
  },
  {
   "cell_type": "code",
   "execution_count": null,
   "id": "66a05d53-d1a2-49a6-b36c-87a899ab5425",
   "metadata": {},
   "outputs": [],
   "source": []
  },
  {
   "cell_type": "code",
   "execution_count": 122,
   "id": "962ed8b8-d990-44a8-950f-4bb982bfbcfd",
   "metadata": {},
   "outputs": [],
   "source": [
    "import random\n",
    "from itertools import product\n",
    "\n",
    "import jax.numpy as jnp\n",
    "from tqdm.auto import tqdm, trange\n",
    "from xminigrid.benchmarks import save_bz2_pickle\n",
    "from xminigrid.core.constants import Colors, Tiles\n",
    "from xminigrid.core.goals import (\n",
    "    AgentHoldGoal,\n",
    "    AgentNearDownGoal,\n",
    "    AgentNearGoal,\n",
    "    AgentNearLeftGoal,\n",
    "    AgentNearRightGoal,\n",
    "    AgentNearUpGoal,\n",
    "    TileNearDownGoal,\n",
    "    TileNearGoal,\n",
    "    TileNearLeftGoal,\n",
    "    TileNearRightGoal,\n",
    "    TileNearUpGoal,\n",
    ")\n",
    "from xminigrid.core.grid import pad_along_axis\n",
    "from xminigrid.core.rules import (\n",
    "    AgentHoldRule,\n",
    "    AgentNearDownRule,\n",
    "    AgentNearLeftRule,\n",
    "    AgentNearRightRule,\n",
    "    AgentNearRule,\n",
    "    AgentNearUpRule,\n",
    "    EmptyRule,\n",
    "    TileNearDownRule,\n",
    "    TileNearLeftRule,\n",
    "    TileNearRightRule,\n",
    "    TileNearRule,\n",
    "    TileNearUpRule,\n",
    ")"
   ]
  },
  {
   "cell_type": "code",
   "execution_count": 123,
   "id": "bbe4bccc-0364-49d4-b02d-5e0819cb9dcf",
   "metadata": {},
   "outputs": [],
   "source": [
    "COLORS = [\n",
    "    Colors.RED,\n",
    "    Colors.GREEN,\n",
    "    Colors.BLUE,\n",
    "    Colors.PURPLE,\n",
    "    Colors.YELLOW,\n",
    "    Colors.GREY,\n",
    "    Colors.WHITE,\n",
    "    Colors.BROWN,\n",
    "    Colors.PINK,\n",
    "    Colors.ORANGE,\n",
    "]"
   ]
  },
  {
   "cell_type": "code",
   "execution_count": 124,
   "id": "26ccefd1-b90f-437c-8d51-45da37926120",
   "metadata": {},
   "outputs": [],
   "source": [
    "# we need to distinguish between them, to avoid sampling\n",
    "# near(goal, goal) goal or rule as goal tiles are not pickable\n",
    "NEAR_TILES_LHS = list(\n",
    "    product([Tiles.BALL, Tiles.SQUARE, Tiles.PYRAMID, Tiles.KEY, Tiles.STAR, Tiles.HEX, Tiles.GOAL], COLORS)\n",
    ")\n",
    "# these are pickable!\n",
    "NEAR_TILES_RHS = list(product([Tiles.BALL, Tiles.SQUARE, Tiles.PYRAMID, Tiles.KEY, Tiles.STAR, Tiles.HEX], COLORS))\n",
    "\n",
    "HOLD_TILES = list(product([Tiles.BALL, Tiles.SQUARE, Tiles.PYRAMID, Tiles.KEY, Tiles.STAR, Tiles.HEX], COLORS))\n",
    "\n",
    "# to imitate disappearance production rule\n",
    "PROD_TILES = list(product([Tiles.BALL, Tiles.SQUARE, Tiles.PYRAMID, Tiles.KEY, Tiles.STAR, Tiles.HEX], COLORS))\n",
    "PROD_TILES = PROD_TILES + [(Tiles.FLOOR, Colors.BLACK)]"
   ]
  },
  {
   "cell_type": "code",
   "execution_count": 125,
   "id": "3fb1c435-b1c4-44a3-b055-e5a627204996",
   "metadata": {},
   "outputs": [],
   "source": [
    "def encode(ruleset):\n",
    "    flatten_encoding = jnp.concatenate([ruleset[\"goal\"].encode(), *[r.encode() for r in ruleset[\"rules\"]]]).tolist()\n",
    "    return tuple(flatten_encoding)\n",
    "\n",
    "\n",
    "def diff(list1, list2):\n",
    "    return list(set(list1) - set(list2))"
   ]
  },
  {
   "cell_type": "code",
   "execution_count": 138,
   "id": "d09acbe3-65eb-4c5b-9ec7-ac760c9da2f5",
   "metadata": {},
   "outputs": [],
   "source": [
    "import jax\n",
    "import jax.numpy as jnp\n",
    "\n",
    "from xminigrid.core.constants import Colors, Tiles\n",
    "from xminigrid.types import AgentState, RuleSet\n",
    "\n",
    "COLOR_NAMES = {\n",
    "    Colors.EMPTY: \"white\",\n",
    "    Colors.RED: \"red\",\n",
    "    Colors.GREEN: \"green\",\n",
    "    Colors.BLUE: \"blue\",\n",
    "    Colors.PURPLE: \"purple\",\n",
    "    Colors.YELLOW: \"yellow\",\n",
    "    Colors.GREY: \"grey\",\n",
    "    Colors.BLACK: \"black\",\n",
    "    Colors.ORANGE: \"orange\",\n",
    "    Colors.WHITE: \"white\",\n",
    "    Colors.BROWN: \"brown\",\n",
    "    Colors.PINK: \"pink\",\n",
    "}\n",
    "\n",
    "TILE_STR = {\n",
    "    Tiles.EMPTY: \" \",\n",
    "    Tiles.FLOOR: \".\",\n",
    "    Tiles.WALL: \"☰\",\n",
    "    Tiles.BALL: \"⏺\",\n",
    "    Tiles.SQUARE: \"▪\",\n",
    "    Tiles.PYRAMID: \"▲\",\n",
    "    Tiles.HEX: \"⬢\",\n",
    "    Tiles.STAR: \"★\",\n",
    "    Tiles.GOAL: \"■\",\n",
    "    Tiles.DOOR_LOCKED: \"L\",\n",
    "    Tiles.DOOR_CLOSED: \"C\",\n",
    "    Tiles.DOOR_OPEN: \"O\",\n",
    "    Tiles.KEY: \"K\",\n",
    "}\n",
    "\n",
    "# for ruleset printing\n",
    "RULE_TILE_STR = {\n",
    "    Tiles.FLOOR: \"floor\",\n",
    "    Tiles.BALL: \"ball\",\n",
    "    Tiles.SQUARE: \"square\",\n",
    "    Tiles.PYRAMID: \"pyramid\",\n",
    "    Tiles.GOAL: \"goal\",\n",
    "    Tiles.KEY: \"key\",\n",
    "    Tiles.HEX: \"hexagon\",\n",
    "    Tiles.STAR: \"star\",\n",
    "}\n",
    "\n",
    "PLAYER_STR = {0: \"^\", 1: \">\", 2: \"V\", 3: \"<\"}\n",
    "\n",
    "\n",
    "def _wrap_with_color(string: str, color: str) -> str:\n",
    "    return f\"[bold {color}]{string}[/bold {color}]\"\n",
    "\n",
    "\n",
    "# WARN: will NOT work under jit and needed for debugging mainly.\n",
    "def render(grid: jax.Array, agent: AgentState | None = None) -> str:\n",
    "    string = \"\"\n",
    "\n",
    "    for y in range(grid.shape[0]):\n",
    "        for x in range(grid.shape[1]):\n",
    "            tile_id, tile_color = grid[y, x]\n",
    "            tile_str = TILE_STR[tile_id.item()]\n",
    "            tile_color = COLOR_NAMES[tile_color.item()]\n",
    "\n",
    "            if agent is not None and jnp.all(agent.position == jnp.array((y, x))):\n",
    "                tile_str = PLAYER_STR[agent.direction.item()]\n",
    "                tile_color = COLOR_NAMES[Colors.RED]\n",
    "\n",
    "            string += _wrap_with_color(tile_str, tile_color)\n",
    "\n",
    "        if y < grid.shape[0] - 1:\n",
    "            string += \"\\n\"\n",
    "\n",
    "    return string\n",
    "\n",
    "\n",
    "# WARN: This is for debugging mainly! Will refactor later if needed.\n",
    "def _encode_tile(tile: list[int]) -> str:\n",
    "    return f\"{COLOR_NAMES[tile[1]]} {RULE_TILE_STR[tile[0]]}\"\n",
    "\n",
    "\n",
    "def _text_encode_goal(goal: list[int]) -> str:\n",
    "    goal_id = goal[0]\n",
    "    if goal_id == 1:\n",
    "        return f\"AgentHold({_encode_tile(goal[1:3])})\"\n",
    "    elif goal_id == 3:\n",
    "        return f\"AgentNear({_encode_tile(goal[1:3])})\"\n",
    "    elif goal_id == 4:\n",
    "        return f\"TileNear({_encode_tile(goal[1:3])}, {_encode_tile(goal[3:5])})\"\n",
    "    elif goal_id == 7:\n",
    "        return f\"TileNearUpGoal({_encode_tile(goal[1:3])}, {_encode_tile(goal[3:5])})\"\n",
    "    elif goal_id == 8:\n",
    "        return f\"TileNearRightGoal({_encode_tile(goal[1:3])}, {_encode_tile(goal[3:5])})\"\n",
    "    elif goal_id == 9:\n",
    "        return f\"TileNearDownGoal({_encode_tile(goal[1:3])}, {_encode_tile(goal[3:5])})\"\n",
    "    elif goal_id == 10:\n",
    "        return f\"TileNearLeftGoal({_encode_tile(goal[1:3])}, {_encode_tile(goal[3:5])})\"\n",
    "    elif goal_id == 11:\n",
    "        return f\"AgentNearUpGoal({_encode_tile(goal[1:3])})\"\n",
    "    elif goal_id == 12:\n",
    "        return f\"AgentNearRightGoal({_encode_tile(goal[1:3])})\"\n",
    "    elif goal_id == 13:\n",
    "        return f\"AgentNearDownGoal({_encode_tile(goal[1:3])})\"\n",
    "    elif goal_id == 14:\n",
    "        return f\"AgentNearLeftGoal({_encode_tile(goal[1:3])})\"\n",
    "    else:\n",
    "        raise RuntimeError(f\"Rendering: Unknown goal id: {goal_id}\")\n",
    "\n",
    "\n",
    "def _text_encode_rule(rule: list[int]) -> str:\n",
    "    rule_id = rule[0]\n",
    "    if rule_id == 1:\n",
    "        return f\"AgentHold({_encode_tile(rule[1:3])}) -> {_encode_tile(rule[3:5])}\"\n",
    "    elif rule_id == 2:\n",
    "        return f\"AgentNear({_encode_tile(rule[1:3])}) -> {_encode_tile(rule[3:5])}\"\n",
    "    elif rule_id == 3:\n",
    "        return f\"TileNear({_encode_tile(rule[1:3])}, {_encode_tile(rule[3:5])}) -> {_encode_tile(rule[5:7])}\"\n",
    "    elif rule_id == 4:\n",
    "        return f\"TileNearUpRule({_encode_tile(rule[1:3])}, {_encode_tile(rule[3:5])}) -> {_encode_tile(rule[5:7])}\"\n",
    "    elif rule_id == 5:\n",
    "        return f\"TileNearRightRule({_encode_tile(rule[1:3])}, {_encode_tile(rule[3:5])}) -> {_encode_tile(rule[5:7])}\"\n",
    "    elif rule_id == 6:\n",
    "        return f\"TileNearDownRule({_encode_tile(rule[1:3])}, {_encode_tile(rule[3:5])}) -> {_encode_tile(rule[5:7])}\"\n",
    "    elif rule_id == 7:\n",
    "        return f\"TileNearLeftRule({_encode_tile(rule[1:3])}, {_encode_tile(rule[3:5])}) -> {_encode_tile(rule[5:7])}\"\n",
    "    elif rule_id == 8:\n",
    "        return f\"AgentNearUpRule({_encode_tile(rule[1:3])}) -> {_encode_tile(rule[3:5])}\"\n",
    "    elif rule_id == 9:\n",
    "        return f\"AgentNearRightRule({_encode_tile(rule[1:3])}) -> {_encode_tile(rule[3:5])}\"\n",
    "    elif rule_id == 10:\n",
    "        return f\"AgentNearDownRule({_encode_tile(rule[1:3])}) -> {_encode_tile(rule[3:5])}\"\n",
    "    elif rule_id == 11:\n",
    "        return f\"AgentNearLeftRule({_encode_tile(rule[1:3])}) -> {_encode_tile(rule[3:5])}\"\n",
    "    else:\n",
    "        raise RuntimeError(f\"Rendering: Unknown rule id: {rule_id}\")\n",
    "\n",
    "\n",
    "def print_ruleset(ruleset: RuleSet) -> None:\n",
    "    print(\"GOAL:\")\n",
    "    print(_text_encode_goal(ruleset.goal.tolist()))\n",
    "    print()\n",
    "    print(\"RULES:\")\n",
    "    for rule in ruleset.rules.tolist():\n",
    "        if rule[0] != 0:\n",
    "            print(_text_encode_rule(rule))\n",
    "    print()\n",
    "    print(\"INIT TILES:\")\n",
    "    for tile in ruleset.init_tiles.tolist():\n",
    "        if tile[0] != 0:\n",
    "            print(_encode_tile(tile))"
   ]
  },
  {
   "cell_type": "code",
   "execution_count": 192,
   "id": "8d3dd633-66f5-4ba4-9793-ffa99699d88a",
   "metadata": {},
   "outputs": [],
   "source": [
    "def sample_goal():\n",
    "    goals = (\n",
    "        AgentHoldGoal,\n",
    "        # agent near variations\n",
    "        AgentNearGoal,\n",
    "        AgentNearUpGoal,\n",
    "        AgentNearDownGoal,\n",
    "        AgentNearLeftGoal,\n",
    "        AgentNearRightGoal,\n",
    "        # tile near variations\n",
    "        TileNearGoal,\n",
    "        TileNearUpGoal,\n",
    "        TileNearDownGoal,\n",
    "        TileNearLeftGoal,\n",
    "        TileNearRightGoal,\n",
    "    )\n",
    "    goal_idx = random.randint(0, 10)\n",
    "    if goal_idx == 0:\n",
    "        tile = random.choice(HOLD_TILES)\n",
    "        goal = goals[0](tile=jnp.array(tile))\n",
    "        print(goals[goal_idx], _encode_tile(tile))\n",
    "        return goal, (tile,)\n",
    "    elif 1 <= goal_idx <= 5:\n",
    "        tile = random.choice(NEAR_TILES_LHS)\n",
    "        goal = goals[goal_idx](tile=jnp.array(tile))\n",
    "        print(goals[goal_idx], _encode_tile(tile))\n",
    "        return goal, (tile,)\n",
    "    elif 6 <= goal_idx <= 10:\n",
    "        tile_a = random.choice(NEAR_TILES_LHS)\n",
    "        tile_b = random.choice(NEAR_TILES_RHS)\n",
    "        goal = goals[goal_idx](tile_a=jnp.array(tile_a), tile_b=jnp.array(tile_b))\n",
    "        print(goals[goal_idx], _encode_tile(tile_a), _encode_tile(tile_b))\n",
    "        return goal, (tile_a, tile_b)\n",
    "    else:\n",
    "        raise RuntimeError(\"Unknown goal\")"
   ]
  },
  {
   "cell_type": "code",
   "execution_count": 194,
   "id": "9a8698ad-0822-477c-b252-0624fbad10b1",
   "metadata": {},
   "outputs": [
    {
     "name": "stdout",
     "output_type": "stream",
     "text": [
      "<class 'xminigrid.core.goals.AgentNearLeftGoal'> blue ball\n"
     ]
    },
    {
     "data": {
      "text/plain": [
       "(AgentNearLeftGoal(tile=Array([3, 3], dtype=int32)), ((3, 3),))"
      ]
     },
     "execution_count": 194,
     "metadata": {},
     "output_type": "execute_result"
    }
   ],
   "source": [
    "sample_goal()"
   ]
  },
  {
   "cell_type": "code",
   "execution_count": null,
   "id": "10bd0a81-3b23-4c86-97c9-12c586664f27",
   "metadata": {},
   "outputs": [],
   "source": []
  },
  {
   "cell_type": "code",
   "execution_count": null,
   "id": "9bac071e-432f-4914-b706-ae4a1d13ac61",
   "metadata": {},
   "outputs": [],
   "source": []
  },
  {
   "cell_type": "code",
   "execution_count": null,
   "id": "24da9164-fd4b-46ab-b34f-739999268a12",
   "metadata": {},
   "outputs": [],
   "source": []
  },
  {
   "cell_type": "code",
   "execution_count": 196,
   "id": "da7fff4f-4409-4c99-8528-492b2e37dca0",
   "metadata": {},
   "outputs": [],
   "source": [
    "import random\n",
    "from itertools import product\n",
    "\n",
    "import jax.numpy as jnp\n",
    "from tqdm.auto import tqdm, trange\n",
    "from xminigrid.benchmarks import save_bz2_pickle\n",
    "from xminigrid.core.constants import Colors, Tiles\n",
    "from xminigrid.core.goals import (\n",
    "    AgentHoldGoal,\n",
    "    AgentNearDownGoal,\n",
    "    AgentNearGoal,\n",
    "    AgentNearLeftGoal,\n",
    "    AgentNearRightGoal,\n",
    "    AgentNearUpGoal,\n",
    "    TileNearDownGoal,\n",
    "    TileNearGoal,\n",
    "    TileNearLeftGoal,\n",
    "    TileNearRightGoal,\n",
    "    TileNearUpGoal,\n",
    ")\n",
    "from xminigrid.core.grid import pad_along_axis\n",
    "from xminigrid.core.rules import (\n",
    "    AgentHoldRule,\n",
    "    AgentNearDownRule,\n",
    "    AgentNearLeftRule,\n",
    "    AgentNearRightRule,\n",
    "    AgentNearRule,\n",
    "    AgentNearUpRule,\n",
    "    EmptyRule,\n",
    "    TileNearDownRule,\n",
    "    TileNearLeftRule,\n",
    "    TileNearRightRule,\n",
    "    TileNearRule,\n",
    "    TileNearUpRule,\n",
    ")"
   ]
  },
  {
   "cell_type": "code",
   "execution_count": 197,
   "id": "18dc3754-f5e9-449c-a423-3ae493bcdccf",
   "metadata": {},
   "outputs": [],
   "source": [
    "COLORS = [\n",
    "    Colors.RED,\n",
    "    Colors.GREEN,\n",
    "    Colors.BLUE,\n",
    "    Colors.PURPLE,\n",
    "    Colors.YELLOW,\n",
    "    Colors.GREY,\n",
    "    Colors.WHITE,\n",
    "    Colors.BROWN,\n",
    "    Colors.PINK,\n",
    "    Colors.ORANGE,\n",
    "]"
   ]
  },
  {
   "cell_type": "code",
   "execution_count": 198,
   "id": "9eb11dcd-54f7-4ed4-8b0b-01b8b7f54ebb",
   "metadata": {},
   "outputs": [],
   "source": [
    "# we need to distinguish between them, to avoid sampling\n",
    "# near(goal, goal) goal or rule as goal tiles are not pickable\n",
    "NEAR_TILES_LHS = list(\n",
    "    product([Tiles.BALL, Tiles.SQUARE, Tiles.PYRAMID, Tiles.KEY, Tiles.STAR, Tiles.HEX, Tiles.GOAL], COLORS)\n",
    ")\n",
    "# these are pickable!\n",
    "NEAR_TILES_RHS = list(product([Tiles.BALL, Tiles.SQUARE, Tiles.PYRAMID, Tiles.KEY, Tiles.STAR, Tiles.HEX], COLORS))\n",
    "\n",
    "HOLD_TILES = list(product([Tiles.BALL, Tiles.SQUARE, Tiles.PYRAMID, Tiles.KEY, Tiles.STAR, Tiles.HEX], COLORS))\n",
    "\n",
    "# to imitate disappearance production rule\n",
    "PROD_TILES = list(product([Tiles.BALL, Tiles.SQUARE, Tiles.PYRAMID, Tiles.KEY, Tiles.STAR, Tiles.HEX], COLORS))\n",
    "PROD_TILES = PROD_TILES + [(Tiles.FLOOR, Colors.BLACK)]"
   ]
  },
  {
   "cell_type": "code",
   "execution_count": 199,
   "id": "ec853e13-cccc-4deb-8e4b-b86633e57d8d",
   "metadata": {},
   "outputs": [],
   "source": [
    "def encode(ruleset):\n",
    "    flatten_encoding = jnp.concatenate([ruleset[\"goal\"].encode(), *[r.encode() for r in ruleset[\"rules\"]]]).tolist()\n",
    "    return tuple(flatten_encoding)\n",
    "\n",
    "\n",
    "def diff(list1, list2):\n",
    "    return list(set(list1) - set(list2))"
   ]
  },
  {
   "cell_type": "code",
   "execution_count": 201,
   "id": "335f96f4-e057-4ea1-952a-5f07f4808396",
   "metadata": {},
   "outputs": [],
   "source": [
    "def sample_rule(prod_tile, used_tiles):\n",
    "    rules = (\n",
    "        AgentHoldRule,\n",
    "        # agent near variations\n",
    "        AgentNearRule,\n",
    "        AgentNearUpRule,\n",
    "        AgentNearDownRule,\n",
    "        AgentNearLeftRule,\n",
    "        AgentNearRightRule,\n",
    "        # tile near variations\n",
    "        TileNearRule,\n",
    "        TileNearUpRule,\n",
    "        TileNearDownRule,\n",
    "        TileNearLeftRule,\n",
    "        TileNearRightRule,\n",
    "    )\n",
    "    rule_idx = random.randint(0, 10)\n",
    "\n",
    "    if rule_idx == 0:\n",
    "        tile = random.choice(diff(HOLD_TILES, used_tiles))\n",
    "        rule = rules[rule_idx](tile=jnp.array(tile), prod_tile=jnp.array(prod_tile))\n",
    "        return rule, (tile,)\n",
    "    elif 1 <= rule_idx <= 5:\n",
    "        tile = random.choice(diff(HOLD_TILES, used_tiles))\n",
    "        rule = rules[rule_idx](tile=jnp.array(tile), prod_tile=jnp.array(prod_tile))\n",
    "        return rule, (tile,)\n",
    "    elif 6 <= rule_idx <= 10:\n",
    "        tile_a = random.choice(diff(NEAR_TILES_LHS, used_tiles))\n",
    "        tile_b = random.choice(diff(NEAR_TILES_RHS, used_tiles))\n",
    "        rule = rules[rule_idx](tile_a=jnp.array(tile_a), tile_b=jnp.array(tile_b), prod_tile=jnp.array(prod_tile))\n",
    "        return rule, (tile_a, tile_b)\n",
    "    else:\n",
    "        raise RuntimeError(\"Unknown rule\")"
   ]
  },
  {
   "cell_type": "code",
   "execution_count": 406,
   "id": "a8ca98ac-54a2-4bee-98bd-71ada4a027c2",
   "metadata": {},
   "outputs": [],
   "source": [
    "def sample_goal_tiles():\n",
    "    # This function now returns just the tiles, not the goal object\n",
    "    goal_idx = random.randint(0, 10)\n",
    "    print(goal_idx)\n",
    "    if goal_idx == 0:\n",
    "        tile = random.choice(HOLD_TILES)\n",
    "    elif 1 <= goal_idx <= 5:\n",
    "        tile = random.choice(NEAR_TILES_LHS)\n",
    "    else:\n",
    "        tile_a = random.choice(NEAR_TILES_LHS)\n",
    "        tile_b = random.choice(NEAR_TILES_RHS)\n",
    "        return goal_idx, (tile_a, tile_b)\n",
    "    return goal_idx, (tile,)"
   ]
  },
  {
   "cell_type": "code",
   "execution_count": 407,
   "id": "5947fdbb-9bb5-40f8-8554-a13e0cf1c9ef",
   "metadata": {},
   "outputs": [],
   "source": [
    "def sample_goal(goal_idx, goal_tiles):\n",
    "    goals = (\n",
    "        AgentHoldGoal,\n",
    "        # Agent near variations\n",
    "        AgentNearGoal,\n",
    "        AgentNearUpGoal,\n",
    "        AgentNearDownGoal,\n",
    "        AgentNearLeftGoal,\n",
    "        AgentNearRightGoal,\n",
    "        # Tile near variations\n",
    "        TileNearGoal,\n",
    "        TileNearUpGoal,\n",
    "        TileNearDownGoal,\n",
    "        TileNearLeftGoal,\n",
    "        TileNearRightGoal,\n",
    "    )\n",
    "    \n",
    "    if goal_idx == 0:\n",
    "        return goals[0](tile=jnp.array(goal_tiles[0]))\n",
    "    elif 1 <= goal_idx <= 5:\n",
    "        selected_goal = random.choice(goals[1:6])\n",
    "        return selected_goal(tile=jnp.array(goal_tiles[0]))\n",
    "    elif 6 <= goal_idx <= 10:\n",
    "        selected_goal = random.choice(goals[6:])\n",
    "        return selected_goal(tile_a=jnp.array(goal_tiles[0]), tile_b=jnp.array(goal_tiles[1]))\n"
   ]
  },
  {
   "cell_type": "code",
   "execution_count": 409,
   "id": "e023aa5d-8930-40bc-b850-6c4e7bd16720",
   "metadata": {},
   "outputs": [
    {
     "name": "stdout",
     "output_type": "stream",
     "text": [
      "7\n"
     ]
    },
    {
     "data": {
      "text/plain": [
       "((12, 8), (12, 1))"
      ]
     },
     "execution_count": 409,
     "metadata": {},
     "output_type": "execute_result"
    }
   ],
   "source": [
    "goal_idx, goal_tiles = sample_goal_tiles()\n",
    "goal_tiles"
   ]
  },
  {
   "cell_type": "code",
   "execution_count": 415,
   "id": "00418c51-53de-4318-a0bd-86faecce5f75",
   "metadata": {},
   "outputs": [
    {
     "data": {
      "text/plain": [
       "7"
      ]
     },
     "execution_count": 415,
     "metadata": {},
     "output_type": "execute_result"
    }
   ],
   "source": [
    "goal_idx"
   ]
  },
  {
   "cell_type": "code",
   "execution_count": 423,
   "id": "90e0991b-3c65-40cd-88e1-3f03b703d00d",
   "metadata": {},
   "outputs": [
    {
     "data": {
      "text/plain": [
       "TileNearRightGoal(tile_a=Array([12,  8], dtype=int32), tile_b=Array([12,  1], dtype=int32))"
      ]
     },
     "execution_count": 423,
     "metadata": {},
     "output_type": "execute_result"
    }
   ],
   "source": [
    "goal = sample_goal(goal_idx, goal_tiles)\n",
    "goal"
   ]
  },
  {
   "cell_type": "code",
   "execution_count": 437,
   "id": "dfd119ed-4893-4f33-8743-f0db912b1acb",
   "metadata": {},
   "outputs": [],
   "source": [
    "def pre_sample_rules(\n",
    "    chain_depth: int, \n",
    "    num_distractor_rules: int,\n",
    "    num_distractor_objects: int,\n",
    "    sample_depth: bool,\n",
    "    sample_distractor_rules: bool,\n",
    "    prune_chain: bool,\n",
    "    prune_prob: float = 0.0\n",
    "):\n",
    "    used_tiles = []\n",
    "    rules = []\n",
    "    init_tiles = []\n",
    "    chain_tiles = [random.choice(PROD_TILES)]  # Start chain with a random product tile\n",
    "\n",
    "    num_levels = random.randint(0, chain_depth) if sample_depth else chain_depth\n",
    "\n",
    "    for level in range(num_levels):\n",
    "        next_chain_tiles = []\n",
    "        while chain_tiles:\n",
    "            prod_tile = chain_tiles.pop()\n",
    "            if prune_chain and random.random() < prune_prob:\n",
    "                init_tiles.append(prod_tile)\n",
    "                continue\n",
    "\n",
    "            rule, rule_tiles = sample_rule(prod_tile, used_tiles)\n",
    "            used_tiles.extend(rule_tiles)\n",
    "            next_chain_tiles.extend(rule_tiles)\n",
    "            rules.append(rule)\n",
    "\n",
    "        chain_tiles = next_chain_tiles\n",
    "\n",
    "    if sample_distractor_rules:\n",
    "        for _ in range(num_distractor_rules):\n",
    "            prod_tile = random.choice(diff(PROD_TILES, used_tiles))\n",
    "            rule, rule_tiles = sample_rule(prod_tile, [])\n",
    "            rules.append(rule)\n",
    "            init_tiles.extend(rule_tiles)\n",
    "\n",
    "    if not rules:  # Ensure there's at least one rule\n",
    "        rules.append(EmptyRule())\n",
    "\n",
    "    return rules, used_tiles, init_tiles"
   ]
  },
  {
   "cell_type": "code",
   "execution_count": 440,
   "id": "0ed24164-b752-4b86-8d4f-bb8a4c907e85",
   "metadata": {},
   "outputs": [],
   "source": [
    "def sample_ruleset(goal_idx, goal_tiles, pre_sampled_rules, pre_sampled_init_tiles, num_distractor_objects):\n",
    "    goal = sample_goal(goal_idx, goal_tiles)  # Dynamic goal sampling\n",
    "    init_tiles = list(pre_sampled_init_tiles)  # Start with pre-sampled initial tiles\n",
    "\n",
    "    # Adding goal tiles to initial tiles ensuring they don't overlap with used tiles\n",
    "    init_tiles.extend([tile for tile in goal_tiles if tile not in init_tiles])\n",
    "\n",
    "    # Adding a few more distractor objects if needed\n",
    "    init_tiles.extend(random.choices(diff(NEAR_TILES_LHS, init_tiles), k=num_distractor_objects))\n",
    "\n",
    "    return {\n",
    "        \"goal\": goal,\n",
    "        \"rules\": pre_sampled_rules,  # Use pre-sampled rules\n",
    "        \"init_tiles\": init_tiles,\n",
    "        \"num_rules\": len([r for r in pre_sampled_rules if not isinstance(r, EmptyRule)]),\n",
    "    }"
   ]
  },
  {
   "cell_type": "code",
   "execution_count": 461,
   "id": "49f9461d-610c-43d0-ae83-62d8352d8f88",
   "metadata": {},
   "outputs": [],
   "source": [
    "# Example of using the modified functions\n",
    "pre_sampled_rules, used_tiles, pre_sampled_init_tiles = pre_sample_rules(chain_depth=3, \n",
    "                                                                         num_distractor_rules=0, \n",
    "                                                                         num_distractor_objects=0, \n",
    "                                                                         sample_depth=False, \n",
    "                                                                         sample_distractor_rules=False, \n",
    "                                                                         prune_chain=False, \n",
    "                                                                         prune_prob=0.0)\n",
    "\n",
    "rulesets = []\n",
    "for _ in range(5):\n",
    "    ruleset = sample_ruleset(goal_idx, goal_tiles, pre_sampled_rules, pre_sampled_init_tiles, num_distractor_objects=0)\n",
    "    rulesets.append({\n",
    "                \"goal\": ruleset[\"goal\"].encode(),\n",
    "                \"rules\": jnp.vstack([r.encode() for r in ruleset[\"rules\"]]),\n",
    "                \"init_tiles\": jnp.array(ruleset[\"init_tiles\"], dtype=jnp.uint8),\n",
    "                \"num_rules\": jnp.asarray(ruleset[\"num_rules\"], dtype=jnp.uint8),\n",
    "    })"
   ]
  },
  {
   "cell_type": "code",
   "execution_count": 462,
   "id": "24f51846-9a8e-4cb9-9f32-42f4beb3cb61",
   "metadata": {
    "scrolled": true
   },
   "outputs": [
    {
     "data": {
      "text/plain": [
       "[{'goal': Array([ 4,  6,  6, 11, 11], dtype=uint8),\n",
       "  'rules': Array([[ 3,  6,  8, 11,  5, 12,  6],\n",
       "         [ 4,  4,  3,  7,  6, 11,  5],\n",
       "         [ 4, 11,  2,  7,  9,  6,  8],\n",
       "         [ 8,  5,  4,  7,  9,  0,  0],\n",
       "         [ 4,  4, 10,  5, 11, 11,  2],\n",
       "         [ 7,  5,  2,  3,  4,  7,  6],\n",
       "         [ 2,  7,  4,  4,  3,  0,  0]], dtype=uint8),\n",
       "  'init_tiles': Array([[ 6,  6],\n",
       "         [11, 11]], dtype=uint8),\n",
       "  'num_rules': Array(7, dtype=uint8)},\n",
       " {'goal': Array([ 7,  6,  6, 11, 11], dtype=int32),\n",
       "  'rules': Array([[ 3,  6,  8, 11,  5, 12,  6],\n",
       "         [ 4,  4,  3,  7,  6, 11,  5],\n",
       "         [ 4, 11,  2,  7,  9,  6,  8],\n",
       "         [ 8,  5,  4,  7,  9,  0,  0],\n",
       "         [ 4,  4, 10,  5, 11, 11,  2],\n",
       "         [ 7,  5,  2,  3,  4,  7,  6],\n",
       "         [ 2,  7,  4,  4,  3,  0,  0]], dtype=uint8),\n",
       "  'init_tiles': Array([[ 6,  6],\n",
       "         [11, 11]], dtype=uint8),\n",
       "  'num_rules': Array(7, dtype=uint8)},\n",
       " {'goal': Array([ 7,  6,  6, 11, 11], dtype=int32),\n",
       "  'rules': Array([[ 3,  6,  8, 11,  5, 12,  6],\n",
       "         [ 4,  4,  3,  7,  6, 11,  5],\n",
       "         [ 4, 11,  2,  7,  9,  6,  8],\n",
       "         [ 8,  5,  4,  7,  9,  0,  0],\n",
       "         [ 4,  4, 10,  5, 11, 11,  2],\n",
       "         [ 7,  5,  2,  3,  4,  7,  6],\n",
       "         [ 2,  7,  4,  4,  3,  0,  0]], dtype=uint8),\n",
       "  'init_tiles': Array([[ 6,  6],\n",
       "         [11, 11]], dtype=uint8),\n",
       "  'num_rules': Array(7, dtype=uint8)},\n",
       " {'goal': Array([ 8,  6,  6, 11, 11], dtype=int32),\n",
       "  'rules': Array([[ 3,  6,  8, 11,  5, 12,  6],\n",
       "         [ 4,  4,  3,  7,  6, 11,  5],\n",
       "         [ 4, 11,  2,  7,  9,  6,  8],\n",
       "         [ 8,  5,  4,  7,  9,  0,  0],\n",
       "         [ 4,  4, 10,  5, 11, 11,  2],\n",
       "         [ 7,  5,  2,  3,  4,  7,  6],\n",
       "         [ 2,  7,  4,  4,  3,  0,  0]], dtype=uint8),\n",
       "  'init_tiles': Array([[ 6,  6],\n",
       "         [11, 11]], dtype=uint8),\n",
       "  'num_rules': Array(7, dtype=uint8)},\n",
       " {'goal': Array([10,  6,  6, 11, 11], dtype=int32),\n",
       "  'rules': Array([[ 3,  6,  8, 11,  5, 12,  6],\n",
       "         [ 4,  4,  3,  7,  6, 11,  5],\n",
       "         [ 4, 11,  2,  7,  9,  6,  8],\n",
       "         [ 8,  5,  4,  7,  9,  0,  0],\n",
       "         [ 4,  4, 10,  5, 11, 11,  2],\n",
       "         [ 7,  5,  2,  3,  4,  7,  6],\n",
       "         [ 2,  7,  4,  4,  3,  0,  0]], dtype=uint8),\n",
       "  'init_tiles': Array([[ 6,  6],\n",
       "         [11, 11]], dtype=uint8),\n",
       "  'num_rules': Array(7, dtype=uint8)}]"
      ]
     },
     "execution_count": 462,
     "metadata": {},
     "output_type": "execute_result"
    }
   ],
   "source": [
    "rulesets"
   ]
  },
  {
   "cell_type": "code",
   "execution_count": 463,
   "id": "dc432905-b229-409f-92d7-f959a7736670",
   "metadata": {},
   "outputs": [
    {
     "name": "stdout",
     "output_type": "stream",
     "text": [
      "GOAL:\n",
      "TileNear(grey goal, pink hexagon)\n",
      "\n",
      "RULES:\n",
      "TileNear(orange goal, yellow hexagon) -> grey star\n",
      "TileNearUpRule(blue square, grey key) -> yellow hexagon\n",
      "TileNearUpRule(green hexagon, white key) -> orange goal\n",
      "AgentNearUpRule(purple pyramid) -> white key\n",
      "TileNearUpRule(brown square, pink pyramid) -> green hexagon\n",
      "TileNearLeftRule(green pyramid, purple ball) -> grey key\n",
      "AgentNear(purple key) -> blue square\n",
      "\n",
      "INIT TILES:\n",
      "grey goal\n",
      "pink hexagon\n",
      "\n",
      "===============================\n",
      "GOAL:\n",
      "TileNearUpGoal(grey goal, pink hexagon)\n",
      "\n",
      "RULES:\n",
      "TileNear(orange goal, yellow hexagon) -> grey star\n",
      "TileNearUpRule(blue square, grey key) -> yellow hexagon\n",
      "TileNearUpRule(green hexagon, white key) -> orange goal\n",
      "AgentNearUpRule(purple pyramid) -> white key\n",
      "TileNearUpRule(brown square, pink pyramid) -> green hexagon\n",
      "TileNearLeftRule(green pyramid, purple ball) -> grey key\n",
      "AgentNear(purple key) -> blue square\n",
      "\n",
      "INIT TILES:\n",
      "grey goal\n",
      "pink hexagon\n",
      "\n",
      "===============================\n",
      "GOAL:\n",
      "TileNearUpGoal(grey goal, pink hexagon)\n",
      "\n",
      "RULES:\n",
      "TileNear(orange goal, yellow hexagon) -> grey star\n",
      "TileNearUpRule(blue square, grey key) -> yellow hexagon\n",
      "TileNearUpRule(green hexagon, white key) -> orange goal\n",
      "AgentNearUpRule(purple pyramid) -> white key\n",
      "TileNearUpRule(brown square, pink pyramid) -> green hexagon\n",
      "TileNearLeftRule(green pyramid, purple ball) -> grey key\n",
      "AgentNear(purple key) -> blue square\n",
      "\n",
      "INIT TILES:\n",
      "grey goal\n",
      "pink hexagon\n",
      "\n",
      "===============================\n",
      "GOAL:\n",
      "TileNearRightGoal(grey goal, pink hexagon)\n",
      "\n",
      "RULES:\n",
      "TileNear(orange goal, yellow hexagon) -> grey star\n",
      "TileNearUpRule(blue square, grey key) -> yellow hexagon\n",
      "TileNearUpRule(green hexagon, white key) -> orange goal\n",
      "AgentNearUpRule(purple pyramid) -> white key\n",
      "TileNearUpRule(brown square, pink pyramid) -> green hexagon\n",
      "TileNearLeftRule(green pyramid, purple ball) -> grey key\n",
      "AgentNear(purple key) -> blue square\n",
      "\n",
      "INIT TILES:\n",
      "grey goal\n",
      "pink hexagon\n",
      "\n",
      "===============================\n",
      "GOAL:\n",
      "TileNearLeftGoal(grey goal, pink hexagon)\n",
      "\n",
      "RULES:\n",
      "TileNear(orange goal, yellow hexagon) -> grey star\n",
      "TileNearUpRule(blue square, grey key) -> yellow hexagon\n",
      "TileNearUpRule(green hexagon, white key) -> orange goal\n",
      "AgentNearUpRule(purple pyramid) -> white key\n",
      "TileNearUpRule(brown square, pink pyramid) -> green hexagon\n",
      "TileNearLeftRule(green pyramid, purple ball) -> grey key\n",
      "AgentNear(purple key) -> blue square\n",
      "\n",
      "INIT TILES:\n",
      "grey goal\n",
      "pink hexagon\n",
      "\n",
      "===============================\n"
     ]
    }
   ],
   "source": [
    "RuleSet = namedtuple('RuleSet', ['goal', 'rules', 'init_tiles'])\n",
    "\n",
    "for ruleset in rulesets:\n",
    "    # Convert dictionary to namedtuple\n",
    "    ruleset_nt = RuleSet(\n",
    "        goal=ruleset['goal'],\n",
    "        rules=ruleset['rules'],\n",
    "        init_tiles=ruleset['init_tiles']\n",
    "    )\n",
    "    print_ruleset(ruleset_nt)\n",
    "    print(\"\\n===============================\")"
   ]
  },
  {
   "cell_type": "code",
   "execution_count": null,
   "id": "1015c4e0-451d-4671-b6a2-07b239d6a42f",
   "metadata": {},
   "outputs": [],
   "source": []
  },
  {
   "cell_type": "code",
   "execution_count": 424,
   "id": "cab497c7-e90c-4274-992f-a08c74ea5a58",
   "metadata": {},
   "outputs": [],
   "source": [
    "def sample_ruleset(\n",
    "    goal_idx,\n",
    "    goal_tiles,\n",
    "    chain_depth: int,\n",
    "    num_distractor_rules: int,\n",
    "    num_distractor_objects: int,\n",
    "    sample_depth: bool,\n",
    "    sample_distractor_rules: bool,\n",
    "    prune_chain: bool,\n",
    "    # actually, we can vary prune_prob on each sample to diversify even further\n",
    "    prune_prob: float = 0.0,\n",
    "):\n",
    "    used_tiles = list(goal_tiles)\n",
    "    goal = sample_goal(goal_idx, goal_tiles)\n",
    "\n",
    "    # sample main rules in a chain\n",
    "    rules = []\n",
    "    init_tiles = []\n",
    "\n",
    "    num_levels = random.randint(0, chain_depth) if sample_depth else chain_depth\n",
    "    # there is no rules, just one goal, thus we need to add goal tiles to init tiles\n",
    "    if num_levels == 0:\n",
    "        # WARN: you really should add distractor objects in this case, as without them goal will be obvious\n",
    "        init_tiles.extend(goal_tiles)\n",
    "        # one empty rule as a placeholder, to fill up \"rule\" key, this will not introduce overhead under jit\n",
    "        rules.append(EmptyRule())\n",
    "\n",
    "    chain_tiles = list(goal_tiles)  # Starting point for chaining rules\n",
    "    \n",
    "    # for logging\n",
    "    for level in range(num_levels):\n",
    "        next_chain_tiles = []\n",
    "\n",
    "        # sampling in a chain, rules inputs from previous layer are rule results from this layer\n",
    "        while chain_tiles:\n",
    "            prod_tile = chain_tiles.pop()\n",
    "            if prune_chain and random.random() < prune_prob:\n",
    "                # prune this branch and add this tile to initial tiles\n",
    "                init_tiles.append(prod_tile)\n",
    "                continue\n",
    "\n",
    "            rule, rule_tiles = sample_rule(prod_tile, used_tiles)\n",
    "            used_tiles.extend(rule_tiles)\n",
    "            next_chain_tiles.extend(rule_tiles)\n",
    "            rules.append(rule)\n",
    "\n",
    "            # inputs to the last rules in the chain are the initial tiles for the current level\n",
    "            if level == num_levels - 1:\n",
    "                init_tiles.extend(rule_tiles)\n",
    "\n",
    "        chain_tiles = next_chain_tiles\n",
    "\n",
    "    # sample distractor objects\n",
    "    init_tiles.extend(random.choices(diff(NEAR_TILES_LHS, used_tiles), k=num_distractor_objects))\n",
    "    # sample distractor rules\n",
    "    if sample_distractor_rules:\n",
    "        num_distractor_rules = random.randint(0, num_distractor_rules)\n",
    "\n",
    "    for _ in range(num_distractor_rules):\n",
    "        prod_tile = random.choice(diff(PROD_TILES, used_tiles))\n",
    "        # distractors can include already sampled tiles, to create dead-end rules\n",
    "        rule, rule_tiles = sample_rule(prod_tile, used_tiles=[])\n",
    "        rules.append(rule)\n",
    "        init_tiles.extend(rule_tiles)\n",
    "\n",
    "    # if for some reason there are no rules, add one empty (we will ignore it later)\n",
    "    if len(rules) == 0:\n",
    "        rules.append(EmptyRule())\n",
    "\n",
    "    return {\n",
    "        \"goal\": goal,\n",
    "        \"rules\": rules,\n",
    "        \"init_tiles\": init_tiles,\n",
    "        # additional info (for example for biasing sampling by number of rules)\n",
    "        # you can add other field if needed, just copy-paste this file!\n",
    "        # saving counts, as later they will be padded to the same size\n",
    "        \"num_rules\": len([r for r in rules if not isinstance(r, EmptyRule)]),\n",
    "    }"
   ]
  },
  {
   "cell_type": "code",
   "execution_count": 425,
   "id": "ce1ec32e-70ca-47c8-8559-65be46bdbf63",
   "metadata": {},
   "outputs": [
    {
     "name": "stdout",
     "output_type": "stream",
     "text": [
      "7\n"
     ]
    }
   ],
   "source": [
    "# Sample goal tiles once, outside the ruleset generation loop\n",
    "goal_idx, goal_tiles = sample_goal_tiles()"
   ]
  },
  {
   "cell_type": "code",
   "execution_count": 429,
   "id": "4cb4d3ff-98ea-4f17-88b6-ea1e76931a6b",
   "metadata": {},
   "outputs": [],
   "source": [
    "chain_depth = 2\n",
    "num_distractor_rules = 0\n",
    "num_distractor_objects = 0\n",
    "sample_depth = False\n",
    "sample_distractor_rules = False\n",
    "prune_chain = True\n",
    "prune_prob = 0"
   ]
  },
  {
   "cell_type": "code",
   "execution_count": 430,
   "id": "156e9486-aeeb-4bbc-8d8b-aa47b1f4700d",
   "metadata": {},
   "outputs": [],
   "source": [
    "# Generate multiple rulesets with the same goal tiles but potentially different goals\n",
    "rulesets = []\n",
    "for _ in range(10):  # Creating 10 different rulesets\n",
    "    ruleset = sample_ruleset(\n",
    "        goal_idx, goal_tiles, chain_depth, num_distractor_rules,\n",
    "        num_distractor_objects, sample_depth, sample_distractor_rules,\n",
    "        prune_chain, prune_prob\n",
    "    )\n",
    "    rulesets.append(\n",
    "            {\n",
    "                \"goal\": ruleset[\"goal\"].encode(),\n",
    "                \"rules\": jnp.vstack([r.encode() for r in ruleset[\"rules\"]]),\n",
    "                \"init_tiles\": jnp.array(ruleset[\"init_tiles\"], dtype=jnp.uint8),\n",
    "                \"num_rules\": jnp.asarray(ruleset[\"num_rules\"], dtype=jnp.uint8),\n",
    "            }\n",
    "    )"
   ]
  },
  {
   "cell_type": "code",
   "execution_count": 431,
   "id": "15d9dd24-4fa0-4253-89dd-928352b3ad37",
   "metadata": {},
   "outputs": [
    {
     "name": "stdout",
     "output_type": "stream",
     "text": [
      "GOAL:\n",
      "TileNearDownGoal(grey goal, pink hexagon)\n",
      "\n",
      "RULES:\n",
      "AgentNearDownRule(green ball) -> pink hexagon\n",
      "AgentHold(red pyramid) -> grey goal\n",
      "AgentNearRightRule(pink ball) -> red pyramid\n",
      "TileNearLeftRule(orange star, yellow square) -> green ball\n",
      "\n",
      "INIT TILES:\n",
      "pink ball\n",
      "orange star\n",
      "yellow square\n",
      "\n",
      "===============================\n",
      "GOAL:\n",
      "TileNear(grey goal, pink hexagon)\n",
      "\n",
      "RULES:\n",
      "AgentHold(white pyramid) -> pink hexagon\n",
      "TileNearDownRule(pink square, purple pyramid) -> grey goal\n",
      "TileNearDownRule(orange star, grey pyramid) -> purple pyramid\n",
      "TileNearRightRule(purple square, brown pyramid) -> pink square\n",
      "AgentNearRightRule(green ball) -> white pyramid\n",
      "\n",
      "INIT TILES:\n",
      "orange star\n",
      "grey pyramid\n",
      "purple square\n",
      "brown pyramid\n",
      "green ball\n",
      "\n",
      "===============================\n",
      "GOAL:\n",
      "TileNearLeftGoal(grey goal, pink hexagon)\n",
      "\n",
      "RULES:\n",
      "TileNearUpRule(blue key, grey square) -> pink hexagon\n",
      "AgentNearDownRule(grey star) -> grey goal\n",
      "AgentNearRightRule(white key) -> grey star\n",
      "TileNearDownRule(green key, pink square) -> grey square\n",
      "TileNear(red hexagon, orange ball) -> blue key\n",
      "\n",
      "INIT TILES:\n",
      "white key\n",
      "green key\n",
      "pink square\n",
      "red hexagon\n",
      "orange ball\n",
      "\n",
      "===============================\n",
      "GOAL:\n",
      "TileNearRightGoal(grey goal, pink hexagon)\n",
      "\n",
      "RULES:\n",
      "AgentHold(green square) -> pink hexagon\n",
      "TileNear(white goal, red key) -> grey goal\n",
      "TileNear(white hexagon, red star) -> red key\n",
      "TileNearRightRule(purple square, grey ball) -> white goal\n",
      "TileNearRightRule(blue key, brown hexagon) -> green square\n",
      "\n",
      "INIT TILES:\n",
      "white hexagon\n",
      "red star\n",
      "purple square\n",
      "grey ball\n",
      "blue key\n",
      "brown hexagon\n",
      "\n",
      "===============================\n",
      "GOAL:\n",
      "TileNearUpGoal(grey goal, pink hexagon)\n",
      "\n",
      "RULES:\n",
      "TileNearDownRule(green ball, yellow key) -> pink hexagon\n",
      "AgentNearUpRule(yellow square) -> grey goal\n",
      "AgentNearRightRule(blue square) -> yellow square\n",
      "AgentNearDownRule(blue hexagon) -> yellow key\n",
      "AgentNearRightRule(red ball) -> green ball\n",
      "\n",
      "INIT TILES:\n",
      "blue square\n",
      "blue hexagon\n",
      "red ball\n",
      "\n",
      "===============================\n",
      "GOAL:\n",
      "TileNear(grey goal, pink hexagon)\n",
      "\n",
      "RULES:\n",
      "TileNearDownRule(brown key, purple ball) -> pink hexagon\n",
      "AgentHold(grey star) -> grey goal\n",
      "AgentNearDownRule(yellow star) -> grey star\n",
      "AgentNearLeftRule(green ball) -> purple ball\n",
      "AgentNearUpRule(blue square) -> brown key\n",
      "\n",
      "INIT TILES:\n",
      "yellow star\n",
      "green ball\n",
      "blue square\n",
      "\n",
      "===============================\n",
      "GOAL:\n",
      "TileNear(grey goal, pink hexagon)\n",
      "\n",
      "RULES:\n",
      "AgentNearLeftRule(orange key) -> pink hexagon\n",
      "TileNearUpRule(red hexagon, blue hexagon) -> grey goal\n",
      "AgentNearRightRule(white star) -> blue hexagon\n",
      "TileNearUpRule(purple pyramid, green hexagon) -> red hexagon\n",
      "AgentNearRightRule(blue ball) -> orange key\n",
      "\n",
      "INIT TILES:\n",
      "white star\n",
      "purple pyramid\n",
      "green hexagon\n",
      "blue ball\n",
      "\n",
      "===============================\n",
      "GOAL:\n",
      "TileNear(grey goal, pink hexagon)\n",
      "\n",
      "RULES:\n",
      "TileNear(grey pyramid, pink key) -> pink hexagon\n",
      "TileNear(green star, red key) -> grey goal\n",
      "TileNearDownRule(brown hexagon, orange key) -> red key\n",
      "TileNearUpRule(white hexagon, grey star) -> green star\n",
      "AgentNearLeftRule(grey square) -> pink key\n",
      "AgentHold(red ball) -> grey pyramid\n",
      "\n",
      "INIT TILES:\n",
      "brown hexagon\n",
      "orange key\n",
      "white hexagon\n",
      "grey star\n",
      "grey square\n",
      "red ball\n",
      "\n",
      "===============================\n",
      "GOAL:\n",
      "TileNearDownGoal(grey goal, pink hexagon)\n",
      "\n",
      "RULES:\n",
      "TileNearUpRule(blue goal, grey key) -> pink hexagon\n",
      "TileNearRightRule(yellow square, green pyramid) -> grey goal\n",
      "TileNearUpRule(orange star, yellow hexagon) -> green pyramid\n",
      "AgentNearRightRule(red key) -> yellow square\n",
      "TileNearDownRule(grey pyramid, grey hexagon) -> grey key\n",
      "TileNearLeftRule(pink goal, yellow ball) -> blue goal\n",
      "\n",
      "INIT TILES:\n",
      "orange star\n",
      "yellow hexagon\n",
      "red key\n",
      "grey pyramid\n",
      "grey hexagon\n",
      "pink goal\n",
      "yellow ball\n",
      "\n",
      "===============================\n",
      "GOAL:\n",
      "TileNear(grey goal, pink hexagon)\n",
      "\n",
      "RULES:\n",
      "TileNearLeftRule(pink star, brown square) -> pink hexagon\n",
      "TileNearDownRule(blue key, brown star) -> grey goal\n",
      "AgentNearLeftRule(blue pyramid) -> brown star\n",
      "TileNear(red square, red square) -> blue key\n",
      "AgentNearDownRule(orange pyramid) -> brown square\n",
      "TileNearDownRule(yellow star, purple square) -> pink star\n",
      "\n",
      "INIT TILES:\n",
      "blue pyramid\n",
      "red square\n",
      "red square\n",
      "orange pyramid\n",
      "yellow star\n",
      "purple square\n",
      "\n",
      "===============================\n"
     ]
    }
   ],
   "source": [
    "from collections import namedtuple\n",
    "\n",
    "RuleSet = namedtuple('RuleSet', ['goal', 'rules', 'init_tiles'])\n",
    "\n",
    "for ruleset in rulesets:\n",
    "    # Convert dictionary to namedtuple\n",
    "    ruleset_nt = RuleSet(\n",
    "        goal=ruleset['goal'],\n",
    "        rules=ruleset['rules'],\n",
    "        init_tiles=ruleset['init_tiles']\n",
    "    )\n",
    "    print_ruleset(ruleset_nt)\n",
    "    print(\"\\n===============================\")\n"
   ]
  },
  {
   "cell_type": "code",
   "execution_count": null,
   "id": "3b25978a-6ed5-42b2-ab6a-b686394fa897",
   "metadata": {},
   "outputs": [],
   "source": []
  },
  {
   "cell_type": "code",
   "execution_count": null,
   "id": "d8adbca2-3ee8-44d2-850b-e8e9f8caa8a1",
   "metadata": {},
   "outputs": [],
   "source": []
  },
  {
   "cell_type": "code",
   "execution_count": 386,
   "id": "8a498451-46f3-40d2-9982-d120ba4af8df",
   "metadata": {},
   "outputs": [],
   "source": [
    "def sample_fixed_rules(goal_tiles, chain_depth, used_tiles):\n",
    "    rules = []\n",
    "    init_tiles = []\n",
    "    chain_tiles = list(goal_tiles)\n",
    "\n",
    "    for level in range(chain_depth):\n",
    "        next_chain_tiles = []\n",
    "        while chain_tiles:\n",
    "            prod_tile = chain_tiles.pop()\n",
    "            rule, rule_tiles = sample_rule(prod_tile, used_tiles)\n",
    "            used_tiles.extend(rule_tiles)\n",
    "            next_chain_tiles.extend(rule_tiles)\n",
    "            rules.append(rule)\n",
    "        chain_tiles = next_chain_tiles\n",
    "\n",
    "    return rules, used_tiles, init_tiles"
   ]
  },
  {
   "cell_type": "code",
   "execution_count": 387,
   "id": "c10f3825-729b-4a9d-8ec0-65fbffb8cec7",
   "metadata": {},
   "outputs": [],
   "source": [
    "# Pre-sample rules\n",
    "used_tiles = list(goal_tiles)  # This could be an empty list if you want completely independent rules\n",
    "fixed_rules, used_tiles, init_tiles = sample_fixed_rules(goal_tiles, chain_depth, used_tiles)"
   ]
  },
  {
   "cell_type": "code",
   "execution_count": 388,
   "id": "f5239332-69d5-4dbe-8d04-4c10d6ac1250",
   "metadata": {},
   "outputs": [],
   "source": [
    "def sample_ruleset(goal_idx, goal_tiles):\n",
    "    goal = sample_goal(goal_idx, goal_tiles)\n",
    "    return {\n",
    "        \"goal\": goal,\n",
    "        \"rules\": fixed_rules,  # Use the pre-sampled fixed rules\n",
    "        \"init_tiles\": init_tiles,\n",
    "        \"num_rules\": len([r for r in fixed_rules if not isinstance(r, EmptyRule)]),\n",
    "    }"
   ]
  },
  {
   "cell_type": "code",
   "execution_count": 391,
   "id": "5ab96d5c-3287-47dc-a9c2-5074e4d8b602",
   "metadata": {},
   "outputs": [],
   "source": [
    "# Generate multiple rulesets with different goals\n",
    "rulesets = []\n",
    "for _ in range(10):  # Creating 10 different rulesets\n",
    "    ruleset = sample_ruleset(goal_idx, goal_tiles)\n",
    "    rulesets.append({\n",
    "        \"goal\": ruleset[\"goal\"].encode(),\n",
    "        \"rules\": jnp.vstack([r.encode() for r in ruleset[\"rules\"]]),\n",
    "        \"init_tiles\": jnp.array(ruleset[\"init_tiles\"], dtype=jnp.uint8),\n",
    "        \"num_rules\": jnp.asarray(ruleset[\"num_rules\"], dtype=jnp.uint8),\n",
    "    })"
   ]
  },
  {
   "cell_type": "code",
   "execution_count": 392,
   "id": "c358206c-bacd-486a-aa1e-dfa1fb8e2fd9",
   "metadata": {},
   "outputs": [
    {
     "name": "stdout",
     "output_type": "stream",
     "text": [
      "GOAL:\n",
      "AgentNearRightGoal(pink goal)\n",
      "\n",
      "RULES:\n",
      "TileNearUpRule(orange square, purple star) -> pink goal\n",
      "AgentNearRightRule(orange hexagon) -> purple star\n",
      "TileNearUpRule(purple key, yellow ball) -> orange square\n",
      "\n",
      "INIT TILES:\n",
      "\n",
      "===============================\n",
      "GOAL:\n",
      "AgentNearRightGoal(pink goal)\n",
      "\n",
      "RULES:\n",
      "TileNearUpRule(orange square, purple star) -> pink goal\n",
      "AgentNearRightRule(orange hexagon) -> purple star\n",
      "TileNearUpRule(purple key, yellow ball) -> orange square\n",
      "\n",
      "INIT TILES:\n",
      "\n",
      "===============================\n",
      "GOAL:\n",
      "AgentNearLeftGoal(pink goal)\n",
      "\n",
      "RULES:\n",
      "TileNearUpRule(orange square, purple star) -> pink goal\n",
      "AgentNearRightRule(orange hexagon) -> purple star\n",
      "TileNearUpRule(purple key, yellow ball) -> orange square\n",
      "\n",
      "INIT TILES:\n",
      "\n",
      "===============================\n",
      "GOAL:\n",
      "AgentNear(pink goal)\n",
      "\n",
      "RULES:\n",
      "TileNearUpRule(orange square, purple star) -> pink goal\n",
      "AgentNearRightRule(orange hexagon) -> purple star\n",
      "TileNearUpRule(purple key, yellow ball) -> orange square\n",
      "\n",
      "INIT TILES:\n",
      "\n",
      "===============================\n",
      "GOAL:\n",
      "AgentNearUpGoal(pink goal)\n",
      "\n",
      "RULES:\n",
      "TileNearUpRule(orange square, purple star) -> pink goal\n",
      "AgentNearRightRule(orange hexagon) -> purple star\n",
      "TileNearUpRule(purple key, yellow ball) -> orange square\n",
      "\n",
      "INIT TILES:\n",
      "\n",
      "===============================\n",
      "GOAL:\n",
      "AgentNearUpGoal(pink goal)\n",
      "\n",
      "RULES:\n",
      "TileNearUpRule(orange square, purple star) -> pink goal\n",
      "AgentNearRightRule(orange hexagon) -> purple star\n",
      "TileNearUpRule(purple key, yellow ball) -> orange square\n",
      "\n",
      "INIT TILES:\n",
      "\n",
      "===============================\n",
      "GOAL:\n",
      "AgentNearLeftGoal(pink goal)\n",
      "\n",
      "RULES:\n",
      "TileNearUpRule(orange square, purple star) -> pink goal\n",
      "AgentNearRightRule(orange hexagon) -> purple star\n",
      "TileNearUpRule(purple key, yellow ball) -> orange square\n",
      "\n",
      "INIT TILES:\n",
      "\n",
      "===============================\n",
      "GOAL:\n",
      "AgentNear(pink goal)\n",
      "\n",
      "RULES:\n",
      "TileNearUpRule(orange square, purple star) -> pink goal\n",
      "AgentNearRightRule(orange hexagon) -> purple star\n",
      "TileNearUpRule(purple key, yellow ball) -> orange square\n",
      "\n",
      "INIT TILES:\n",
      "\n",
      "===============================\n",
      "GOAL:\n",
      "AgentNear(pink goal)\n",
      "\n",
      "RULES:\n",
      "TileNearUpRule(orange square, purple star) -> pink goal\n",
      "AgentNearRightRule(orange hexagon) -> purple star\n",
      "TileNearUpRule(purple key, yellow ball) -> orange square\n",
      "\n",
      "INIT TILES:\n",
      "\n",
      "===============================\n",
      "GOAL:\n",
      "AgentNearDownGoal(pink goal)\n",
      "\n",
      "RULES:\n",
      "TileNearUpRule(orange square, purple star) -> pink goal\n",
      "AgentNearRightRule(orange hexagon) -> purple star\n",
      "TileNearUpRule(purple key, yellow ball) -> orange square\n",
      "\n",
      "INIT TILES:\n",
      "\n",
      "===============================\n"
     ]
    }
   ],
   "source": [
    "from collections import namedtuple\n",
    "\n",
    "RuleSet = namedtuple('RuleSet', ['goal', 'rules', 'init_tiles'])\n",
    "\n",
    "for ruleset in rulesets:\n",
    "    # Convert dictionary to namedtuple\n",
    "    ruleset_nt = RuleSet(\n",
    "        goal=ruleset['goal'],\n",
    "        rules=ruleset['rules'],\n",
    "        init_tiles=ruleset['init_tiles']\n",
    "    )\n",
    "    print_ruleset(ruleset_nt)\n",
    "    print(\"\\n===============================\")\n"
   ]
  },
  {
   "cell_type": "code",
   "execution_count": null,
   "id": "4f20cb52-15fb-4031-acd0-7932160bc1fd",
   "metadata": {},
   "outputs": [],
   "source": []
  }
 ],
 "metadata": {
  "kernelspec": {
   "display_name": "Python 3 (ipykernel)",
   "language": "python",
   "name": "python3"
  },
  "language_info": {
   "codemirror_mode": {
    "name": "ipython",
    "version": 3
   },
   "file_extension": ".py",
   "mimetype": "text/x-python",
   "name": "python",
   "nbconvert_exporter": "python",
   "pygments_lexer": "ipython3",
   "version": "3.11.5"
  }
 },
 "nbformat": 4,
 "nbformat_minor": 5
}
