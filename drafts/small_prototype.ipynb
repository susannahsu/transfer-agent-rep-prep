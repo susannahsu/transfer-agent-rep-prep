{
 "cells": [
  {
   "cell_type": "markdown",
   "id": "5b7c3fbe-ccad-4ad8-a482-0abb7847be2d",
   "metadata": {},
   "source": [
    "### Utils for printing"
   ]
  },
  {
   "cell_type": "code",
   "execution_count": null,
   "id": "48b9e54b-e63a-4175-93c5-f327a861bd7c",
   "metadata": {},
   "outputs": [],
   "source": [
    "import jax\n",
    "import jax.numpy as jnp\n",
    "\n",
    "from xminigrid.core.constants import Colors, Tiles\n",
    "from xminigrid.types import AgentState, RuleSet"
   ]
  },
  {
   "cell_type": "code",
   "execution_count": null,
   "id": "b1be372f-a7a6-4c5c-a58b-ee931bcbdf6d",
   "metadata": {},
   "outputs": [],
   "source": [
    "COLOR_NAMES = {\n",
    "    Colors.EMPTY: \"white\",\n",
    "    Colors.RED: \"red\",\n",
    "    Colors.GREEN: \"green\",\n",
    "    Colors.BLUE: \"blue\",\n",
    "    Colors.PURPLE: \"purple\",\n",
    "    Colors.YELLOW: \"yellow\",\n",
    "    Colors.GREY: \"grey\",\n",
    "    Colors.BLACK: \"black\",\n",
    "    Colors.ORANGE: \"orange\",\n",
    "    Colors.WHITE: \"white\",\n",
    "    Colors.BROWN: \"brown\",\n",
    "    Colors.PINK: \"pink\",\n",
    "}\n",
    "\n",
    "TILE_STR = {\n",
    "    Tiles.EMPTY: \" \",\n",
    "    Tiles.FLOOR: \".\",\n",
    "    Tiles.WALL: \"☰\",\n",
    "    Tiles.BALL: \"⏺\",\n",
    "    Tiles.SQUARE: \"▪\",\n",
    "    Tiles.PYRAMID: \"▲\",\n",
    "    Tiles.HEX: \"⬢\",\n",
    "    Tiles.STAR: \"★\",\n",
    "    Tiles.GOAL: \"■\",\n",
    "    Tiles.DOOR_LOCKED: \"L\",\n",
    "    Tiles.DOOR_CLOSED: \"C\",\n",
    "    Tiles.DOOR_OPEN: \"O\",\n",
    "    Tiles.KEY: \"K\",\n",
    "}\n",
    "\n",
    "# for ruleset printing\n",
    "RULE_TILE_STR = {\n",
    "    Tiles.FLOOR: \"floor\",\n",
    "    Tiles.BALL: \"ball\",\n",
    "    Tiles.SQUARE: \"square\",\n",
    "    Tiles.PYRAMID: \"pyramid\",\n",
    "    Tiles.GOAL: \"goal\",\n",
    "    Tiles.KEY: \"key\",\n",
    "    Tiles.HEX: \"hexagon\",\n",
    "    Tiles.STAR: \"star\",\n",
    "}\n",
    "\n",
    "PLAYER_STR = {0: \"^\", 1: \">\", 2: \"V\", 3: \"<\"}"
   ]
  },
  {
   "cell_type": "code",
   "execution_count": null,
   "id": "481ba511-3d41-45c0-b121-3b41f6a8d8b5",
   "metadata": {},
   "outputs": [],
   "source": [
    "def _wrap_with_color(string: str, color: str) -> str:\n",
    "    return f\"[bold {color}]{string}[/bold {color}]\"\n",
    "\n",
    "\n",
    "# WARN: will NOT work under jit and needed for debugging mainly.\n",
    "def render(grid: jax.Array, agent: AgentState | None = None) -> str:\n",
    "    string = \"\"\n",
    "\n",
    "    for y in range(grid.shape[0]):\n",
    "        for x in range(grid.shape[1]):\n",
    "            tile_id, tile_color = grid[y, x]\n",
    "            tile_str = TILE_STR[tile_id.item()]\n",
    "            tile_color = COLOR_NAMES[tile_color.item()]\n",
    "\n",
    "            if agent is not None and jnp.all(agent.position == jnp.array((y, x))):\n",
    "                tile_str = PLAYER_STR[agent.direction.item()]\n",
    "                tile_color = COLOR_NAMES[Colors.RED]\n",
    "\n",
    "            string += _wrap_with_color(tile_str, tile_color)\n",
    "\n",
    "        if y < grid.shape[0] - 1:\n",
    "            string += \"\\n\"\n",
    "\n",
    "    return string"
   ]
  },
  {
   "cell_type": "code",
   "execution_count": null,
   "id": "e7417c67-934e-4662-bc3f-b1c765fb8feb",
   "metadata": {},
   "outputs": [],
   "source": [
    "# WARN: This is for debugging mainly! Will refactor later if needed.\n",
    "def _encode_tile(tile: list[int]) -> str:\n",
    "    return f\"{COLOR_NAMES[tile[1]]} {RULE_TILE_STR[tile[0]]}\""
   ]
  },
  {
   "cell_type": "code",
   "execution_count": null,
   "id": "d227887b-b16a-4ba9-805e-cb4197a2d8f7",
   "metadata": {},
   "outputs": [],
   "source": [
    "def _text_encode_goal(goal: list[int]) -> str:\n",
    "    goal_id = goal[0]\n",
    "    if goal_id == 1:\n",
    "        return f\"AgentHold({_encode_tile(goal[1:3])})\"\n",
    "    elif goal_id == 3:\n",
    "        return f\"AgentNear({_encode_tile(goal[1:3])})\"\n",
    "    elif goal_id == 4:\n",
    "        return f\"TileNear({_encode_tile(goal[1:3])}, {_encode_tile(goal[3:5])})\"\n",
    "    elif goal_id == 7:\n",
    "        return f\"TileNearUpGoal({_encode_tile(goal[1:3])}, {_encode_tile(goal[3:5])})\"\n",
    "    elif goal_id == 8:\n",
    "        return f\"TileNearRightGoal({_encode_tile(goal[1:3])}, {_encode_tile(goal[3:5])})\"\n",
    "    elif goal_id == 9:\n",
    "        return f\"TileNearDownGoal({_encode_tile(goal[1:3])}, {_encode_tile(goal[3:5])})\"\n",
    "    elif goal_id == 10:\n",
    "        return f\"TileNearLeftGoal({_encode_tile(goal[1:3])}, {_encode_tile(goal[3:5])})\"\n",
    "    elif goal_id == 11:\n",
    "        return f\"AgentNearUpGoal({_encode_tile(goal[1:3])})\"\n",
    "    elif goal_id == 12:\n",
    "        return f\"AgentNearRightGoal({_encode_tile(goal[1:3])})\"\n",
    "    elif goal_id == 13:\n",
    "        return f\"AgentNearDownGoal({_encode_tile(goal[1:3])})\"\n",
    "    elif goal_id == 14:\n",
    "        return f\"AgentNearLeftGoal({_encode_tile(goal[1:3])})\"\n",
    "    else:\n",
    "        raise RuntimeError(f\"Rendering: Unknown goal id: {goal_id}\")"
   ]
  },
  {
   "cell_type": "code",
   "execution_count": null,
   "id": "0e478cfd-5e1e-48e7-9d6b-ba87520df840",
   "metadata": {},
   "outputs": [],
   "source": [
    "def _text_encode_rule(rule: list[int]) -> str:\n",
    "    rule_id = rule[0]\n",
    "    if rule_id == 1:\n",
    "        return f\"AgentHold({_encode_tile(rule[1:3])}) -> {_encode_tile(rule[3:5])}\"\n",
    "    elif rule_id == 2:\n",
    "        return f\"AgentNear({_encode_tile(rule[1:3])}) -> {_encode_tile(rule[3:5])}\"\n",
    "    elif rule_id == 3:\n",
    "        return f\"TileNear({_encode_tile(rule[1:3])}, {_encode_tile(rule[3:5])}) -> {_encode_tile(rule[5:7])}\"\n",
    "    elif rule_id == 4:\n",
    "        return f\"TileNearUpRule({_encode_tile(rule[1:3])}, {_encode_tile(rule[3:5])}) -> {_encode_tile(rule[5:7])}\"\n",
    "    elif rule_id == 5:\n",
    "        return f\"TileNearRightRule({_encode_tile(rule[1:3])}, {_encode_tile(rule[3:5])}) -> {_encode_tile(rule[5:7])}\"\n",
    "    elif rule_id == 6:\n",
    "        return f\"TileNearDownRule({_encode_tile(rule[1:3])}, {_encode_tile(rule[3:5])}) -> {_encode_tile(rule[5:7])}\"\n",
    "    elif rule_id == 7:\n",
    "        return f\"TileNearLeftRule({_encode_tile(rule[1:3])}, {_encode_tile(rule[3:5])}) -> {_encode_tile(rule[5:7])}\"\n",
    "    elif rule_id == 8:\n",
    "        return f\"AgentNearUpRule({_encode_tile(rule[1:3])}) -> {_encode_tile(rule[3:5])}\"\n",
    "    elif rule_id == 9:\n",
    "        return f\"AgentNearRightRule({_encode_tile(rule[1:3])}) -> {_encode_tile(rule[3:5])}\"\n",
    "    elif rule_id == 10:\n",
    "        return f\"AgentNearDownRule({_encode_tile(rule[1:3])}) -> {_encode_tile(rule[3:5])}\"\n",
    "    elif rule_id == 11:\n",
    "        return f\"AgentNearLeftRule({_encode_tile(rule[1:3])}) -> {_encode_tile(rule[3:5])}\"\n",
    "    else:\n",
    "        raise RuntimeError(f\"Rendering: Unknown rule id: {rule_id}\")"
   ]
  },
  {
   "cell_type": "code",
   "execution_count": null,
   "id": "c2a78bcd-c8ac-4f1e-b6e1-0a6d8fffff05",
   "metadata": {},
   "outputs": [],
   "source": [
    "def print_ruleset(ruleset: RuleSet) -> None:\n",
    "    print(\"GOAL:\")\n",
    "    print(_text_encode_goal(ruleset.goal.tolist()))\n",
    "    print()\n",
    "    print(\"RULES:\")\n",
    "    for rule in ruleset.rules.tolist():\n",
    "        if rule[0] != 0:\n",
    "            print(_text_encode_rule(rule))\n",
    "    print()\n",
    "    print(\"INIT TILES:\")\n",
    "    for tile in ruleset.init_tiles.tolist():\n",
    "        if tile[0] != 0:\n",
    "            print(_encode_tile(tile))"
   ]
  },
  {
   "cell_type": "markdown",
   "id": "3c61ed11-63c9-4c37-9b22-4c34db9177f2",
   "metadata": {},
   "source": [
    "### Utils for generating"
   ]
  },
  {
   "cell_type": "code",
   "execution_count": 1,
   "id": "4d50fdae-2da5-4d83-ad9d-4d10bdb3f215",
   "metadata": {},
   "outputs": [],
   "source": [
    "import random\n",
    "from itertools import product\n",
    "from collections import namedtuple\n",
    "\n",
    "import jax.numpy as jnp\n",
    "from tqdm.auto import tqdm, trange\n",
    "from xminigrid.benchmarks import save_bz2_pickle\n",
    "from xminigrid.core.constants import Colors, Tiles\n",
    "from xminigrid.rendering.text_render import _encode_tile, _text_encode_goal, _text_encode_rule, print_ruleset\n",
    "from xminigrid.core.goals import (\n",
    "    AgentHoldGoal,\n",
    "    AgentNearDownGoal,\n",
    "    AgentNearGoal,\n",
    "    AgentNearLeftGoal,\n",
    "    AgentNearRightGoal,\n",
    "    AgentNearUpGoal,\n",
    "    TileNearDownGoal,\n",
    "    TileNearGoal,\n",
    "    TileNearLeftGoal,\n",
    "    TileNearRightGoal,\n",
    "    TileNearUpGoal,\n",
    ")\n",
    "from xminigrid.core.grid import pad_along_axis\n",
    "from xminigrid.core.rules import (\n",
    "    AgentHoldRule,\n",
    "    AgentNearDownRule,\n",
    "    AgentNearLeftRule,\n",
    "    AgentNearRightRule,\n",
    "    AgentNearRule,\n",
    "    AgentNearUpRule,\n",
    "    EmptyRule,\n",
    "    TileNearDownRule,\n",
    "    TileNearLeftRule,\n",
    "    TileNearRightRule,\n",
    "    TileNearRule,\n",
    "    TileNearUpRule,\n",
    ")"
   ]
  },
  {
   "cell_type": "code",
   "execution_count": 2,
   "id": "2536c15e-5098-4bf0-a5cc-b1392ac73a35",
   "metadata": {},
   "outputs": [],
   "source": [
    "COLORS = [\n",
    "    Colors.RED,\n",
    "    Colors.GREEN,\n",
    "    Colors.BLUE,\n",
    "    Colors.PURPLE,\n",
    "    Colors.YELLOW,\n",
    "    Colors.GREY,\n",
    "    Colors.WHITE,\n",
    "    Colors.BROWN,\n",
    "    Colors.PINK,\n",
    "    Colors.ORANGE,\n",
    "]\n",
    "\n",
    "# we need to distinguish between them, to avoid sampling\n",
    "# near(goal, goal) goal or rule as goal tiles are not pickable\n",
    "NEAR_TILES_LHS = list(\n",
    "    product([Tiles.BALL, Tiles.SQUARE, Tiles.PYRAMID, Tiles.KEY, Tiles.STAR, Tiles.HEX, Tiles.GOAL], COLORS)\n",
    ")\n",
    "# these are pickable!\n",
    "NEAR_TILES_RHS = list(product([Tiles.BALL, Tiles.SQUARE, Tiles.PYRAMID, Tiles.KEY, Tiles.STAR, Tiles.HEX], COLORS))\n",
    "\n",
    "HOLD_TILES = list(product([Tiles.BALL, Tiles.SQUARE, Tiles.PYRAMID, Tiles.KEY, Tiles.STAR, Tiles.HEX], COLORS))\n",
    "\n",
    "# to imitate disappearance production rule\n",
    "PROD_TILES = list(product([Tiles.BALL, Tiles.SQUARE, Tiles.PYRAMID, Tiles.KEY, Tiles.STAR, Tiles.HEX], COLORS))\n",
    "PROD_TILES = PROD_TILES + [(Tiles.FLOOR, Colors.BLACK)]\n",
    "\n",
    "# all possible tiles for randomly choosing a prod_tile for generating subtrees\n",
    "ALL_TILES = list(\n",
    "    product([Tiles.BALL, Tiles.SQUARE, Tiles.PYRAMID, Tiles.KEY, Tiles.STAR, Tiles.HEX, Tiles.GOAL], COLORS)\n",
    ")"
   ]
  },
  {
   "cell_type": "code",
   "execution_count": 3,
   "id": "ef0a8f68-e580-4578-9a8a-435f2d0bcd26",
   "metadata": {},
   "outputs": [],
   "source": [
    "def encode(ruleset):\n",
    "    flatten_encoding = jnp.concatenate([ruleset[\"goal\"].encode(), *[r.encode() for r in ruleset[\"rules\"]]]).tolist()\n",
    "    return tuple(flatten_encoding)\n",
    "\n",
    "\n",
    "def diff(list1, list2):\n",
    "    return list(set(list1) - set(list2))"
   ]
  },
  {
   "cell_type": "code",
   "execution_count": 4,
   "id": "40ac7f76-13eb-4d5f-b8c4-d182d9816984",
   "metadata": {},
   "outputs": [],
   "source": [
    "def sample_rule(prod_tile, used_tiles):\n",
    "    rules = (\n",
    "        AgentHoldRule,\n",
    "        # agent near variations\n",
    "        AgentNearRule,\n",
    "        AgentNearUpRule,\n",
    "        AgentNearDownRule,\n",
    "        AgentNearLeftRule,\n",
    "        AgentNearRightRule,\n",
    "        # tile near variations\n",
    "        TileNearRule,\n",
    "        TileNearUpRule,\n",
    "        TileNearDownRule,\n",
    "        TileNearLeftRule,\n",
    "        TileNearRightRule,\n",
    "    )\n",
    "    rule_idx = random.randint(0, 10)\n",
    "\n",
    "    if rule_idx == 0:\n",
    "        tile = random.choice(diff(HOLD_TILES, used_tiles))\n",
    "        rule = rules[rule_idx](tile=jnp.array(tile), prod_tile=jnp.array(prod_tile))\n",
    "        return rule, (tile,)\n",
    "    elif 1 <= rule_idx <= 5:\n",
    "        tile = random.choice(diff(HOLD_TILES, used_tiles))\n",
    "        rule = rules[rule_idx](tile=jnp.array(tile), prod_tile=jnp.array(prod_tile))\n",
    "        return rule, (tile,)\n",
    "    elif 6 <= rule_idx <= 10:\n",
    "        tile_a = random.choice(diff(NEAR_TILES_LHS, used_tiles))\n",
    "        tile_b = random.choice(diff(NEAR_TILES_RHS, used_tiles))\n",
    "        rule = rules[rule_idx](tile_a=jnp.array(tile_a), tile_b=jnp.array(tile_b), prod_tile=jnp.array(prod_tile))\n",
    "        return rule, (tile_a, tile_b)\n",
    "    else:\n",
    "        raise RuntimeError(\"Unknown rule\")"
   ]
  },
  {
   "cell_type": "code",
   "execution_count": 5,
   "id": "14e1a0b1-a32f-4dd0-817f-92aed76c13e3",
   "metadata": {},
   "outputs": [],
   "source": [
    "def sample_shared_rules(\n",
    "    prod_tile,\n",
    "    chain_depth: int,\n",
    "    num_distractor_rules: int,\n",
    "    num_distractor_objects: int,\n",
    "    sample_depth: bool,\n",
    "    sample_distractor_rules: bool,\n",
    "    prune_chain: bool,\n",
    "    prune_prob: float = 0.0,\n",
    "):\n",
    "    used_tiles = []\n",
    "    chain_tiles = []\n",
    "\n",
    "    # no sample goal first\n",
    "    # goal, goal_tiles = sample_goal()\n",
    "    # used_tiles.extend(goal_tiles)\n",
    "    # chain_tiles.extend(goal_tiles)\n",
    "\n",
    "    used_tiles.extend((prod_tile, ))\n",
    "    chain_tiles.extend((prod_tile, ))\n",
    "    \n",
    "    # sample main rules in a chain\n",
    "    rules = []\n",
    "    init_tiles = []\n",
    "\n",
    "    num_levels = random.randint(0, chain_depth) if sample_depth else chain_depth\n",
    "\n",
    "    \n",
    "    # there is no rules, thus we need to add prod tiles to init tiles\n",
    "    if num_levels == 0:\n",
    "        # WARN: you really should add distractor objects in this case, as without them goal will be obvious\n",
    "        init_tiles.extend(prod_tile)\n",
    "        # one empty rule as a placeholder, to fill up \"rule\" key, this will not introduce overhead under jit\n",
    "        rules.append(EmptyRule())\n",
    "\n",
    "    for level in range(num_levels):\n",
    "        next_chain_tiles = []\n",
    "\n",
    "        # sampling in a chain, rules inputs from previous layer are rule results from this layer\n",
    "        while chain_tiles:\n",
    "            prod_tile = chain_tiles.pop()\n",
    "            if prune_chain and random.random() < prune_prob:\n",
    "                # prune this branch and add this tile to initial tiles\n",
    "                init_tiles.append(prod_tile)\n",
    "                continue\n",
    "\n",
    "            rule, rule_tiles = sample_rule(prod_tile, used_tiles)\n",
    "            used_tiles.extend(rule_tiles)\n",
    "            #=======================for debugging\n",
    "            # print(\"New layer\")\n",
    "            # print(f\"used tiles: {used_tiles}\")\n",
    "            #=======================for debugging\n",
    "            next_chain_tiles.extend(rule_tiles)\n",
    "            rules.append(rule)\n",
    "\n",
    "            # inputs to the last rules in the chain are the initial tiles for the current level\n",
    "            if level == num_levels - 1:\n",
    "                init_tiles.extend(rule_tiles)\n",
    "\n",
    "        chain_tiles = next_chain_tiles\n",
    "\n",
    "    # sample distractor objects\n",
    "    init_tiles.extend(random.choices(diff(NEAR_TILES_LHS, used_tiles), k=num_distractor_objects))\n",
    "\n",
    "    # sample distractor rules\n",
    "    if sample_distractor_rules:\n",
    "        num_distractor_rules = random.randint(0, num_distractor_rules)\n",
    "\n",
    "    for _ in range(num_distractor_rules):\n",
    "        prod_tile = random.choice(diff(PROD_TILES, used_tiles))\n",
    "        # distractors can include already sampled tiles, to create dead-end rules\n",
    "        rule, rule_tiles = sample_rule(prod_tile, used_tiles=[])\n",
    "        rules.append(rule)\n",
    "        init_tiles.extend(rule_tiles)\n",
    "\n",
    "    # if for some reason there are no rules, add one empty (we will ignore it later)\n",
    "    if len(rules) == 0:\n",
    "        rules.append(EmptyRule())\n",
    "        \n",
    "    return rules, init_tiles\n"
   ]
  },
  {
   "cell_type": "code",
   "execution_count": 6,
   "id": "fd81fdc2-04a4-47fc-a4ae-b83609fb166a",
   "metadata": {},
   "outputs": [],
   "source": [
    "# checking this for the purpose of generating goals;\n",
    "# if the tile type is GOAL, goal_idx has to be compatible with NEAR_TILES_LHS which\n",
    "# is the only list of tiles that has tile type GOAL --> 1 <= goal_idx <= 5\n",
    "def is_goal_tile(tile):\n",
    "    return tile[0] == Tiles.GOAL"
   ]
  },
  {
   "cell_type": "code",
   "execution_count": 7,
   "id": "90b22caf-bb4e-4e2f-b7c3-105aaa1e879d",
   "metadata": {},
   "outputs": [],
   "source": [
    "def generate_goal_idx(prod_tile):\n",
    "    if is_goal_tile:\n",
    "        goal_idx = random.randint(1, 5)\n",
    "    else:\n",
    "        goal_idx = random.randint(0, 5)  # restricting to 5 here cuz haven't figured out multiple prod_tiles\n",
    "    return goal_idx"
   ]
  },
  {
   "cell_type": "code",
   "execution_count": 8,
   "id": "178c8d57-7eea-45b7-b00c-4d1b80fc99dc",
   "metadata": {},
   "outputs": [],
   "source": [
    "def generate_goal(prod_tile):\n",
    "    goals = (\n",
    "        AgentHoldGoal,\n",
    "        # agent near variations\n",
    "        AgentNearGoal,\n",
    "        AgentNearUpGoal,\n",
    "        AgentNearDownGoal,\n",
    "        AgentNearLeftGoal,\n",
    "        AgentNearRightGoal,\n",
    "        # tile near variations\n",
    "        TileNearGoal,\n",
    "        TileNearUpGoal,\n",
    "        TileNearDownGoal,\n",
    "        TileNearLeftGoal,\n",
    "        TileNearRightGoal,\n",
    "    )\n",
    "    \n",
    "    goal_idx = generate_goal_idx(prod_tile)\n",
    "\n",
    "    if goal_idx == 0:\n",
    "        return goals[0](tile=jnp.array(prod_tile))\n",
    "    elif 1 <= goal_idx <= 5:\n",
    "        selected_goal = goals[goal_idx]\n",
    "        return selected_goal(tile=jnp.array(prod_tile))\n",
    "    # commenting out cuz haven't figured out multiple prod tiles yet\n",
    "    # elif 6 <= goal_idx <= 10:\n",
    "    #     selected_goal = random.choice(goals[6:])\n",
    "    #     return selected_goal(tile_a=jnp.array(goal_tiles[0]), tile_b=jnp.array(goal_tiles[1]))\n",
    "    return goals[goal_idx], (prod_tile,)"
   ]
  },
  {
   "cell_type": "code",
   "execution_count": 9,
   "id": "da1b03d2-5bed-4026-b341-588f15453322",
   "metadata": {},
   "outputs": [],
   "source": [
    "# Define the namedtuple for storing ruleset information\n",
    "RuleSet = namedtuple('RuleSet', ['goal', 'rules', 'init_tiles'])\n",
    "\n",
    "def print_rulesets(rulesets):\n",
    "    \"\"\"Converts each ruleset dictionary into a namedtuple and prints it.\"\"\"\n",
    "    for ruleset in rulesets:\n",
    "        # Convert dictionary to namedtuple\n",
    "        ruleset_nt = RuleSet(\n",
    "            goal=ruleset['goal'],\n",
    "            rules=ruleset['rules'],\n",
    "            init_tiles=ruleset['init_tiles']\n",
    "        )\n",
    "        # Print the converted ruleset\n",
    "        print_ruleset(ruleset_nt)\n",
    "        print(\"\\n===============================\")"
   ]
  },
  {
   "cell_type": "markdown",
   "id": "4a00b1c2-3bd0-4107-af9d-ec9809952f48",
   "metadata": {},
   "source": [
    "### Small prototype of sharing entire rule chain"
   ]
  },
  {
   "cell_type": "code",
   "execution_count": 10,
   "id": "4ed155da-99df-498e-a966-8c800df4e26a",
   "metadata": {},
   "outputs": [
    {
     "name": "stdout",
     "output_type": "stream",
     "text": [
      "green ball: (3, 2)\n"
     ]
    }
   ],
   "source": [
    "rand_prod_tile = random.choice(ALL_TILES)\n",
    "print(f\"{_encode_tile(rand_prod_tile)}: {rand_prod_tile}\")"
   ]
  },
  {
   "cell_type": "code",
   "execution_count": 11,
   "id": "e55e4032-0400-4430-b845-a380d84a6662",
   "metadata": {},
   "outputs": [],
   "source": [
    "# following settings of small benchmark\n",
    "chain_depth = 2\n",
    "num_distractor_rules = 0\n",
    "num_distractor_objects = 0\n",
    "sample_depth = False\n",
    "sample_distractor_rules = False\n",
    "prune_chain = False\n",
    "prune_prob = 0.0"
   ]
  },
  {
   "cell_type": "code",
   "execution_count": 12,
   "id": "878e00c5-fbbd-4d83-a2d4-a20e7dbfc84d",
   "metadata": {},
   "outputs": [],
   "source": [
    "rules, init_tiles = sample_shared_rules(\n",
    "    rand_prod_tile,\n",
    "    chain_depth,\n",
    "    num_distractor_rules,\n",
    "    num_distractor_objects,\n",
    "    sample_depth,\n",
    "    sample_distractor_rules,\n",
    "    prune_chain,\n",
    "    prune_prob,\n",
    ")"
   ]
  },
  {
   "cell_type": "code",
   "execution_count": 13,
   "id": "92b44780-bc24-4b39-96c4-95f139eb2f9b",
   "metadata": {},
   "outputs": [],
   "source": [
    "encoded_rules = jnp.vstack([r.encode() for r in rules]).tolist()"
   ]
  },
  {
   "cell_type": "code",
   "execution_count": 14,
   "id": "a9c88e04-96d5-46a7-ac62-2ccb4ce19f39",
   "metadata": {},
   "outputs": [
    {
     "name": "stdout",
     "output_type": "stream",
     "text": [
      "TileNearLeftRule(white square, blue pyramid) -> green ball\n",
      "TileNearRightRule(blue goal, green pyramid) -> blue pyramid\n",
      "AgentNearRightRule(red hexagon) -> white square\n"
     ]
    }
   ],
   "source": [
    "for rule in encoded_rules:\n",
    "    print(_text_encode_rule(rule))"
   ]
  },
  {
   "cell_type": "code",
   "execution_count": 15,
   "id": "e3972dee-a8b3-4f59-9827-3c14b518ffea",
   "metadata": {},
   "outputs": [
    {
     "name": "stdout",
     "output_type": "stream",
     "text": [
      "blue goal\n",
      "green pyramid\n",
      "red hexagon\n"
     ]
    }
   ],
   "source": [
    "for tile in init_tiles:\n",
    "    print(_encode_tile(tile))"
   ]
  },
  {
   "cell_type": "code",
   "execution_count": 16,
   "id": "bc3ed61a-845c-4948-94d3-8f0cd25445e2",
   "metadata": {},
   "outputs": [],
   "source": [
    "num_rulesets = 3"
   ]
  },
  {
   "cell_type": "code",
   "execution_count": 17,
   "id": "d73ce6f6-d122-4498-9348-a3c9ef5d5247",
   "metadata": {},
   "outputs": [],
   "source": [
    "rulesets = []\n",
    "for _ in range(num_rulesets):\n",
    "    ruleset = {\n",
    "        \"goal\": generate_goal(rand_prod_tile),\n",
    "        \"rules\": rules,\n",
    "        \"init_tiles\": init_tiles,\n",
    "    }\n",
    "\n",
    "    rulesets.append({\n",
    "        \"goal\": ruleset[\"goal\"].encode(),\n",
    "        \"rules\": jnp.vstack([r.encode() for r in ruleset[\"rules\"]]),\n",
    "        \"init_tiles\": jnp.array(ruleset[\"init_tiles\"], dtype=jnp.uint8),\n",
    "    })"
   ]
  },
  {
   "cell_type": "code",
   "execution_count": 18,
   "id": "df6b5bbf-c652-4c8e-baac-b8653f9fe8d6",
   "metadata": {
    "scrolled": true
   },
   "outputs": [
    {
     "data": {
      "text/plain": [
       "[{'goal': Array([13,  3,  2,  0,  0], dtype=int32),\n",
       "  'rules': Array([[ 7,  4,  9,  5,  3,  3,  2],\n",
       "         [ 5,  6,  3,  5,  2,  5,  3],\n",
       "         [ 9, 11,  1,  4,  9,  0,  0]], dtype=uint8),\n",
       "  'init_tiles': Array([[ 6,  3],\n",
       "         [ 5,  2],\n",
       "         [11,  1]], dtype=uint8)},\n",
       " {'goal': Array([13,  3,  2,  0,  0], dtype=int32),\n",
       "  'rules': Array([[ 7,  4,  9,  5,  3,  3,  2],\n",
       "         [ 5,  6,  3,  5,  2,  5,  3],\n",
       "         [ 9, 11,  1,  4,  9,  0,  0]], dtype=uint8),\n",
       "  'init_tiles': Array([[ 6,  3],\n",
       "         [ 5,  2],\n",
       "         [11,  1]], dtype=uint8)},\n",
       " {'goal': Array([11,  3,  2,  0,  0], dtype=int32),\n",
       "  'rules': Array([[ 7,  4,  9,  5,  3,  3,  2],\n",
       "         [ 5,  6,  3,  5,  2,  5,  3],\n",
       "         [ 9, 11,  1,  4,  9,  0,  0]], dtype=uint8),\n",
       "  'init_tiles': Array([[ 6,  3],\n",
       "         [ 5,  2],\n",
       "         [11,  1]], dtype=uint8)}]"
      ]
     },
     "execution_count": 18,
     "metadata": {},
     "output_type": "execute_result"
    }
   ],
   "source": [
    "rulesets"
   ]
  },
  {
   "cell_type": "code",
   "execution_count": 19,
   "id": "cc2cb187-a5a8-44c7-8d43-542c526a9606",
   "metadata": {},
   "outputs": [
    {
     "name": "stdout",
     "output_type": "stream",
     "text": [
      "GOAL:\n",
      "AgentNearDownGoal(green ball)\n",
      "\n",
      "RULES:\n",
      "TileNearLeftRule(white square, blue pyramid) -> green ball\n",
      "TileNearRightRule(blue goal, green pyramid) -> blue pyramid\n",
      "AgentNearRightRule(red hexagon) -> white square\n",
      "\n",
      "INIT TILES:\n",
      "blue goal\n",
      "green pyramid\n",
      "red hexagon\n",
      "\n",
      "===============================\n",
      "GOAL:\n",
      "AgentNearDownGoal(green ball)\n",
      "\n",
      "RULES:\n",
      "TileNearLeftRule(white square, blue pyramid) -> green ball\n",
      "TileNearRightRule(blue goal, green pyramid) -> blue pyramid\n",
      "AgentNearRightRule(red hexagon) -> white square\n",
      "\n",
      "INIT TILES:\n",
      "blue goal\n",
      "green pyramid\n",
      "red hexagon\n",
      "\n",
      "===============================\n",
      "GOAL:\n",
      "AgentNearUpGoal(green ball)\n",
      "\n",
      "RULES:\n",
      "TileNearLeftRule(white square, blue pyramid) -> green ball\n",
      "TileNearRightRule(blue goal, green pyramid) -> blue pyramid\n",
      "AgentNearRightRule(red hexagon) -> white square\n",
      "\n",
      "INIT TILES:\n",
      "blue goal\n",
      "green pyramid\n",
      "red hexagon\n",
      "\n",
      "===============================\n"
     ]
    }
   ],
   "source": [
    "print_rulesets(rulesets)"
   ]
  },
  {
   "cell_type": "markdown",
   "id": "99e641a1-535e-436f-a597-fe6af400e68e",
   "metadata": {},
   "source": [
    "#### Generate 1k"
   ]
  },
  {
   "cell_type": "code",
   "execution_count": null,
   "id": "da12c6eb-dc10-4bfb-b3f7-e7f3f7027eff",
   "metadata": {},
   "outputs": [],
   "source": [
    "num_rulesets_1k = 1000"
   ]
  },
  {
   "cell_type": "code",
   "execution_count": null,
   "id": "57d83ee6-ca02-43e4-aab0-503c523f9967",
   "metadata": {},
   "outputs": [],
   "source": [
    "rulesets_1k = []\n",
    "for _ in range(num_rulesets_1k):\n",
    "    ruleset = {\n",
    "        \"goal\": generate_goal(rand_prod_tile),\n",
    "        \"rules\": rules,\n",
    "        \"init_tiles\": init_tiles,\n",
    "    }\n",
    "\n",
    "    rulesets_1k.append({\n",
    "        \"goal\": ruleset[\"goal\"].encode(),\n",
    "        \"rules\": jnp.vstack([r.encode() for r in ruleset[\"rules\"]]),\n",
    "        \"init_tiles\": jnp.array(ruleset[\"init_tiles\"], dtype=jnp.uint8),\n",
    "    })"
   ]
  },
  {
   "cell_type": "code",
   "execution_count": null,
   "id": "9c62fc79-ec2f-4cfc-9fe3-c54c4470eeba",
   "metadata": {
    "scrolled": true
   },
   "outputs": [],
   "source": [
    "print_rulesets(rulesets_1k)"
   ]
  },
  {
   "cell_type": "markdown",
   "id": "e0873ade-0cf3-4206-8954-4e9b49d2e271",
   "metadata": {},
   "source": [
    "### Step-by-step plan for generating multiple rulesets with shared lower-level rules"
   ]
  },
  {
   "cell_type": "markdown",
   "id": "ada62672-96e0-49d2-8f0d-a2d54615f33f",
   "metadata": {},
   "source": [
    "1. **Define Shared Lower-Level Rules:** Instead of generating the entire rule chain anew for each ruleset, generate a common base of rules that can be shared among different rulesets. This base can be the bottom few layers of the rule chain.\n",
    "2. **Add Variation to Top-Level Rules:** After generating the shared lower-level rules, add unique top-level rules to each ruleset. These rules can differ by the type of rule or the tiles involved, ensuring that the production tile of these top-level rules varies, thereby affecting the goal tile.\n",
    "3. **Generate Goals Based on Top Production Tile:** Adjust the goal generation method to dynamically select the goal based on the production tile of the last rule added to the ruleset.\n",
    "4. **Combine and Encode:** Combine the shared and unique rules into multiple rulesets, encode them, and generate goals accordingly."
   ]
  },
  {
   "cell_type": "markdown",
   "id": "fdc024c7-9a77-496f-8daa-1c5ac648f8ef",
   "metadata": {},
   "source": [
    "#### Modifications to Existing Code\n",
    "\n",
    "1. **Split sample_shared_rules Function**\n",
    "* We can reuse the sample_shared_rules function to generate base rules. The tricky part is coming up with a way to generate different top rules. But the function now has to return used_tiles too to feed into the function for generating top rules.\n",
    "* Create a function `generate_top_rules` for generating the varied top levels for each ruleset.\n",
    "* This function will probably start from a random production tile and generate random rules until the last layer of required rules. In the last layer, will have to generate rule that produces the production tile of the base shared rules.\n",
    "\n",
    "2. **Modify Goal Generation**\n",
    "Adjust the generate_goal function to derive the goal from the top production tile, which will now vary between rulesets.\n",
    "\n",
    "3. **Integrate and Test**\n",
    "Once the functions for generating base and top rules are defined, integrate them in a loop to generate multiple rulesets, apply the unique top-level rules, and dynamically generate goals."
   ]
  },
  {
   "cell_type": "code",
   "execution_count": 217,
   "id": "ecca1c1c-5593-4acd-88d5-812015130536",
   "metadata": {},
   "outputs": [],
   "source": [
    "def sample_base_rules(\n",
    "    prod_tile,\n",
    "    chain_depth: int,\n",
    "    num_distractor_rules: int,\n",
    "    num_distractor_objects: int,\n",
    "    sample_depth: bool,\n",
    "    sample_distractor_rules: bool,\n",
    "    prune_chain: bool,\n",
    "    prune_prob: float = 0.0,\n",
    "):\n",
    "    used_tiles = []\n",
    "    chain_tiles = []\n",
    "\n",
    "    # no sample goal first\n",
    "    # goal, goal_tiles = sample_goal()\n",
    "    # used_tiles.extend(goal_tiles)\n",
    "    # chain_tiles.extend(goal_tiles)\n",
    "\n",
    "    used_tiles.extend((prod_tile, ))\n",
    "    chain_tiles.extend((prod_tile, ))\n",
    "    \n",
    "    # sample main rules in a chain\n",
    "    rules = []\n",
    "    init_tiles = []\n",
    "\n",
    "    num_levels = random.randint(0, chain_depth) if sample_depth else chain_depth\n",
    "\n",
    "    \n",
    "    # there is no rules, thus we need to add prod tiles to init tiles\n",
    "    if num_levels == 0:\n",
    "        # WARN: you really should add distractor objects in this case, as without them goal will be obvious\n",
    "        init_tiles.extend(prod_tile)\n",
    "        # one empty rule as a placeholder, to fill up \"rule\" key, this will not introduce overhead under jit\n",
    "        rules.append(EmptyRule())\n",
    "\n",
    "    for level in range(num_levels):\n",
    "        next_chain_tiles = []\n",
    "\n",
    "        # sampling in a chain, rules inputs from previous layer are rule results from this layer\n",
    "        while chain_tiles:\n",
    "            prod_tile = chain_tiles.pop()\n",
    "            if prune_chain and random.random() < prune_prob:\n",
    "                # prune this branch and add this tile to initial tiles\n",
    "                init_tiles.append(prod_tile)\n",
    "                continue\n",
    "\n",
    "            rule, rule_tiles = sample_rule(prod_tile, used_tiles)\n",
    "            used_tiles.extend(rule_tiles)\n",
    "            #=======================for debugging\n",
    "            # print(\"New layer\")\n",
    "            # print(f\"used tiles: {used_tiles}\")\n",
    "            #=======================for debugging\n",
    "            next_chain_tiles.extend(rule_tiles)\n",
    "            rules.append(rule)\n",
    "\n",
    "            # inputs to the last rules in the chain are the initial tiles for the current level\n",
    "            if level == num_levels - 1:\n",
    "                init_tiles.extend(rule_tiles)\n",
    "\n",
    "        chain_tiles = next_chain_tiles\n",
    "\n",
    "    # sample distractor objects\n",
    "    init_tiles.extend(random.choices(diff(NEAR_TILES_LHS, used_tiles), k=num_distractor_objects))\n",
    "\n",
    "    # sample distractor rules\n",
    "    if sample_distractor_rules:\n",
    "        num_distractor_rules = random.randint(0, num_distractor_rules)\n",
    "\n",
    "    for _ in range(num_distractor_rules):\n",
    "        prod_tile = random.choice(diff(PROD_TILES, used_tiles))\n",
    "        # distractors can include already sampled tiles, to create dead-end rules\n",
    "        rule, rule_tiles = sample_rule(prod_tile, used_tiles=[])\n",
    "        rules.append(rule)\n",
    "        init_tiles.extend(rule_tiles)\n",
    "\n",
    "    # if for some reason there are no rules, add one empty (we will ignore it later)\n",
    "    if len(rules) == 0:\n",
    "        rules.append(EmptyRule())\n",
    "        \n",
    "    return rules, init_tiles, used_tiles\n"
   ]
  },
  {
   "cell_type": "code",
   "execution_count": 218,
   "id": "565bd1ce-3fce-4b43-aa39-a06596584165",
   "metadata": {},
   "outputs": [],
   "source": [
    "# following settings of small benchmark\n",
    "base_chain_depth = 2\n",
    "base_num_distractor_rules = 0\n",
    "base_num_distractor_objects = 0\n",
    "base_sample_depth = False\n",
    "base_sample_distractor_rules = False\n",
    "base_prune_chain = False\n",
    "base_prune_prob = 0.0"
   ]
  },
  {
   "cell_type": "code",
   "execution_count": 219,
   "id": "f9e9a0b2-490d-4839-94e8-b14bc457f3b2",
   "metadata": {},
   "outputs": [
    {
     "name": "stdout",
     "output_type": "stream",
     "text": [
      "green hexagon: (11, 2)\n"
     ]
    }
   ],
   "source": [
    "base_rand_prod_tile = random.choice(ALL_TILES)\n",
    "print(f\"{_encode_tile(base_rand_prod_tile)}: {base_rand_prod_tile}\")"
   ]
  },
  {
   "cell_type": "code",
   "execution_count": 220,
   "id": "a2bbe74a-0868-4fe8-aa2a-7d8ed314065b",
   "metadata": {},
   "outputs": [],
   "source": [
    "base_rules, base_init_tiles, base_used_tiles = sample_base_rules(\n",
    "    base_rand_prod_tile,\n",
    "    base_chain_depth,\n",
    "    base_num_distractor_rules,\n",
    "    base_num_distractor_objects,\n",
    "    base_sample_depth,\n",
    "    base_sample_distractor_rules,\n",
    "    base_prune_chain,\n",
    "    base_prune_prob,\n",
    ")"
   ]
  },
  {
   "cell_type": "code",
   "execution_count": 221,
   "id": "d9fdcf89-1700-4fea-a888-620ad7b7f81d",
   "metadata": {},
   "outputs": [
    {
     "name": "stdout",
     "output_type": "stream",
     "text": [
      "purple ball\n",
      "pink hexagon\n"
     ]
    }
   ],
   "source": [
    "for tile in base_init_tiles:\n",
    "    print(_encode_tile(tile))"
   ]
  },
  {
   "cell_type": "code",
   "execution_count": 222,
   "id": "0f18b79e-17d9-4e48-84b5-f81be54b0848",
   "metadata": {},
   "outputs": [
    {
     "name": "stdout",
     "output_type": "stream",
     "text": [
      "green hexagon\n",
      "brown square\n",
      "white hexagon\n",
      "purple ball\n",
      "pink hexagon\n"
     ]
    }
   ],
   "source": [
    "for tile in base_used_tiles:\n",
    "    print(_encode_tile(tile))"
   ]
  },
  {
   "cell_type": "code",
   "execution_count": 223,
   "id": "c48787af-299e-44a8-8b46-a5554bb97e25",
   "metadata": {},
   "outputs": [
    {
     "name": "stdout",
     "output_type": "stream",
     "text": [
      "TileNearLeftRule(brown square, white hexagon) -> green hexagon\n",
      "AgentHold(purple ball) -> white hexagon\n",
      "AgentNear(pink hexagon) -> brown square\n"
     ]
    }
   ],
   "source": [
    "for rule in base_rules:\n",
    "    print(_text_encode_rule(rule.encode().tolist()))"
   ]
  },
  {
   "cell_type": "code",
   "execution_count": 224,
   "id": "b417d8e7-31f0-4d16-a053-201b8d3b7b28",
   "metadata": {},
   "outputs": [],
   "source": [
    "def sample_goal():\n",
    "    goals = (\n",
    "        AgentHoldGoal,\n",
    "        # agent near variations\n",
    "        AgentNearGoal,\n",
    "        AgentNearUpGoal,\n",
    "        AgentNearDownGoal,\n",
    "        AgentNearLeftGoal,\n",
    "        AgentNearRightGoal,\n",
    "        # tile near variations\n",
    "        TileNearGoal,\n",
    "        TileNearUpGoal,\n",
    "        TileNearDownGoal,\n",
    "        TileNearLeftGoal,\n",
    "        TileNearRightGoal,\n",
    "    )\n",
    "    goal_idx = random.randint(0, 10)\n",
    "    if goal_idx == 0:\n",
    "        tile = random.choice(HOLD_TILES)\n",
    "        goal = goals[0](tile=jnp.array(tile))\n",
    "        return goal, (tile,)\n",
    "    elif 1 <= goal_idx <= 5:\n",
    "        tile = random.choice(NEAR_TILES_LHS)\n",
    "        goal = goals[goal_idx](tile=jnp.array(tile))\n",
    "        return goal, (tile,)\n",
    "    elif 6 <= goal_idx <= 10:\n",
    "        tile_a = random.choice(NEAR_TILES_LHS)\n",
    "        tile_b = random.choice(NEAR_TILES_RHS)\n",
    "        goal = goals[goal_idx](tile_a=jnp.array(tile_a), tile_b=jnp.array(tile_b))\n",
    "        return goal, (tile_a, tile_b)\n",
    "    else:\n",
    "        raise RuntimeError(\"Unknown goal\")"
   ]
  },
  {
   "cell_type": "code",
   "execution_count": 225,
   "id": "2d5a1245-782c-4cfd-b44b-d3dbdbc243c0",
   "metadata": {},
   "outputs": [],
   "source": [
    "def sample_rule_with_input(input_tile, prod_tile):\n",
    "    rules = (\n",
    "        AgentHoldRule,\n",
    "        # agent near variations\n",
    "        AgentNearRule,\n",
    "        AgentNearUpRule,\n",
    "        AgentNearDownRule,\n",
    "        AgentNearLeftRule,\n",
    "        AgentNearRightRule,\n",
    "        # tile near variations\n",
    "        TileNearRule,\n",
    "        TileNearUpRule,\n",
    "        TileNearDownRule,\n",
    "        TileNearLeftRule,\n",
    "        TileNearRightRule,\n",
    "    )\n",
    "    \n",
    "    if is_goal_tile(input_tile):\n",
    "        rule_idx = 0\n",
    "    else:\n",
    "        rule_idx = random.randint(1, 5)  # only till 5 cuz i haven't implement multiple tiles logic\n",
    "    \n",
    "    rule = rules[rule_idx](tile=jnp.array(input_tile), prod_tile=jnp.array(prod_tile))\n",
    "    return rule, (input_tile,)"
   ]
  },
  {
   "cell_type": "code",
   "execution_count": 226,
   "id": "7e1e5ca5-4761-4fa5-8792-37621239c4e9",
   "metadata": {},
   "outputs": [],
   "source": [
    "def sample_top_rules(\n",
    "    base_prod_tile,\n",
    "    base_used_tiles,\n",
    "    chain_depth: int,\n",
    "    num_distractor_rules: int,\n",
    "    num_distractor_objects: int,\n",
    "    sample_depth: bool,\n",
    "    sample_distractor_rules: bool,\n",
    "    prune_chain: bool,\n",
    "    prune_prob: float = 0.0,\n",
    "):\n",
    "    # the used tiles start with what was already used in generating base rules\n",
    "    used_tiles = base_used_tiles.copy()\n",
    "    chain_tiles = []\n",
    "\n",
    "    # sample goal first\n",
    "    goal, goal_tiles = sample_goal()\n",
    "    print(f\"goal tiles: {_encode_tile(goal_tiles[0])}\")\n",
    "    used_tiles.extend(goal_tiles)\n",
    "    chain_tiles.extend(goal_tiles)\n",
    "\n",
    "    # sample main rules in a chain\n",
    "    rules = []\n",
    "    init_tiles = []\n",
    "\n",
    "    num_levels = random.randint(0, chain_depth) if sample_depth else chain_depth\n",
    "\n",
    "    # there is no rules, just one goal, thus we need to add goal tiles to init tiles\n",
    "    if num_levels == 0:\n",
    "        # WARN: you really should add distractor objects in this case, as without them goal will be obvious\n",
    "        init_tiles.extend(goal_tiles)\n",
    "        # one empty rule as a placeholder, to fill up \"rule\" key, this will not introduce overhead under jit\n",
    "        rules.append(EmptyRule())\n",
    "\n",
    "    for level in range(num_levels):\n",
    "        next_chain_tiles = []\n",
    "\n",
    "        # sampling in a chain, rules inputs from previous layer are rule results from this layer\n",
    "        while chain_tiles:\n",
    "            prod_tile = chain_tiles.pop()\n",
    "            if prune_chain and random.random() < prune_prob:\n",
    "                # prune this branch and add this tile to initial tiles\n",
    "                init_tiles.append(prod_tile)\n",
    "                continue\n",
    "\n",
    "            #========================== modify to only use original logic for all layers until the last one \n",
    "            if level == num_levels - 1:\n",
    "                # On the last level, modify the rule to ensure it uses the base_prod_tile as input\n",
    "                rule, rule_tiles = sample_rule_with_input(base_prod_tile, prod_tile)\n",
    "            else:\n",
    "                rule, rule_tiles = sample_rule(prod_tile, used_tiles)\n",
    "            #========================== modify to only use original logic for all layers until the last one \n",
    "            used_tiles.extend(rule_tiles)\n",
    "            next_chain_tiles.extend(rule_tiles)\n",
    "            rules.append(rule)\n",
    "\n",
    "            # inputs to the last rules in the chain are the initial tiles for the current level\n",
    "            if level == num_levels - 1:\n",
    "                init_tiles.extend(rule_tiles)\n",
    "\n",
    "        chain_tiles = next_chain_tiles\n",
    "\n",
    "    # sample distractor objects\n",
    "    init_tiles.extend(random.choices(diff(NEAR_TILES_LHS, used_tiles), k=num_distractor_objects))\n",
    "    print(f\"init_tiles: {init_tiles}\")\n",
    "    # sample distractor rules\n",
    "    if sample_distractor_rules:\n",
    "        num_distractor_rules = random.randint(0, num_distractor_rules)\n",
    "\n",
    "    for _ in range(num_distractor_rules):\n",
    "        prod_tile = random.choice(diff(PROD_TILES, used_tiles))\n",
    "        # distractors can include already sampled tiles, to create dead-end rules\n",
    "        rule, rule_tiles = sample_rule(prod_tile, used_tiles=[])\n",
    "        rules.append(rule)\n",
    "        init_tiles.extend(rule_tiles)\n",
    "\n",
    "    # if for some reason there are no rules, add one empty (we will ignore it later)\n",
    "    if len(rules) == 0:\n",
    "        rules.append(EmptyRule())\n",
    "\n",
    "    return goal, rules, init_tiles\n",
    "    "
   ]
  },
  {
   "cell_type": "code",
   "execution_count": 227,
   "id": "fa4dad45-c9ff-4175-91f9-2a7a48fe87cb",
   "metadata": {},
   "outputs": [],
   "source": [
    "# following settings of small benchmark\n",
    "top_chain_depth = 1\n",
    "top_num_distractor_rules = 0\n",
    "top_num_distractor_objects = 0\n",
    "top_sample_depth = False\n",
    "top_sample_distractor_rules = False\n",
    "top_prune_chain = False\n",
    "top_prune_prob = 0.0"
   ]
  },
  {
   "cell_type": "code",
   "execution_count": 228,
   "id": "9ffdf94d-7ad4-455b-b745-09a443657c55",
   "metadata": {},
   "outputs": [
    {
     "name": "stdout",
     "output_type": "stream",
     "text": [
      "goal tiles: brown key\n",
      "init_tiles: [(11, 2), (11, 2)]\n"
     ]
    }
   ],
   "source": [
    "goal, top_rules, top_init_tiles = sample_top_rules(\n",
    "    base_rand_prod_tile,\n",
    "    base_used_tiles,\n",
    "    top_chain_depth,\n",
    "    top_num_distractor_rules,\n",
    "    top_num_distractor_objects,\n",
    "    top_sample_depth,\n",
    "    top_sample_distractor_rules,\n",
    "    top_prune_chain,\n",
    "    top_prune_prob,\n",
    ")"
   ]
  },
  {
   "cell_type": "code",
   "execution_count": 229,
   "id": "17e17627-b5e8-4310-8b08-ca5ea4cc6c98",
   "metadata": {},
   "outputs": [],
   "source": [
    "encoded_top_rules = jnp.vstack([r.encode() for r in top_rules]).tolist()"
   ]
  },
  {
   "cell_type": "code",
   "execution_count": 230,
   "id": "1e8716c1-d79c-4706-885e-edd5f2b7f490",
   "metadata": {},
   "outputs": [
    {
     "name": "stdout",
     "output_type": "stream",
     "text": [
      "AgentNearLeftRule(green hexagon) -> white pyramid\n",
      "AgentNearDownRule(green hexagon) -> brown key\n"
     ]
    }
   ],
   "source": [
    "for rule in encoded_top_rules:\n",
    "    print(_text_encode_rule(rule))"
   ]
  },
  {
   "cell_type": "code",
   "execution_count": 231,
   "id": "f955d18c-2e7d-48f1-9ccd-7cb1cc35a753",
   "metadata": {},
   "outputs": [
    {
     "name": "stdout",
     "output_type": "stream",
     "text": [
      "green hexagon\n",
      "green hexagon\n"
     ]
    }
   ],
   "source": [
    "for tile in top_init_tiles:\n",
    "    print(_encode_tile(tile))"
   ]
  },
  {
   "cell_type": "code",
   "execution_count": 232,
   "id": "bcb1badc-5149-40f9-aedb-2e241998587e",
   "metadata": {},
   "outputs": [
    {
     "data": {
      "text/plain": [
       "'TileNearDownGoal(brown key, white pyramid)'"
      ]
     },
     "execution_count": 232,
     "metadata": {},
     "output_type": "execute_result"
    }
   ],
   "source": [
    "_text_encode_goal(goal.encode().tolist())"
   ]
  },
  {
   "cell_type": "code",
   "execution_count": 233,
   "id": "8d33c618-d751-4a7b-b292-9b7a96f038f7",
   "metadata": {},
   "outputs": [],
   "source": [
    "full_rules = top_rules + base_rules"
   ]
  },
  {
   "cell_type": "code",
   "execution_count": 234,
   "id": "d53611ff-9901-4ec0-b264-585df4c065d1",
   "metadata": {},
   "outputs": [
    {
     "name": "stdout",
     "output_type": "stream",
     "text": [
      "AgentNearLeftRule(green hexagon) -> white pyramid\n",
      "AgentNearDownRule(green hexagon) -> brown key\n",
      "TileNearLeftRule(brown square, white hexagon) -> green hexagon\n",
      "AgentHold(purple ball) -> white hexagon\n",
      "AgentNear(pink hexagon) -> brown square\n"
     ]
    }
   ],
   "source": [
    "for rule in full_rules:\n",
    "    print(_text_encode_rule(rule.encode().tolist()))"
   ]
  },
  {
   "cell_type": "code",
   "execution_count": 235,
   "id": "4fdfeb49-5c44-4b4a-adae-fbe2e2ba1093",
   "metadata": {},
   "outputs": [],
   "source": [
    "num_concat_rulesets = 3"
   ]
  },
  {
   "cell_type": "code",
   "execution_count": 236,
   "id": "5aa3a14d-7ac4-4048-9fb8-9543344a9d82",
   "metadata": {},
   "outputs": [
    {
     "name": "stdout",
     "output_type": "stream",
     "text": [
      "goal tiles: blue square\n",
      "init_tiles: [(11, 2)]\n",
      "goal tiles: blue key\n",
      "init_tiles: [(11, 2)]\n",
      "goal tiles: purple hexagon\n",
      "init_tiles: [(11, 2)]\n"
     ]
    }
   ],
   "source": [
    "concat_rulesets = []\n",
    "\n",
    "for _ in range(num_concat_rulesets):\n",
    "    goal, top_rules, top_init_tiles = sample_top_rules(\n",
    "        base_rand_prod_tile,\n",
    "        base_used_tiles,\n",
    "        top_chain_depth,\n",
    "        top_num_distractor_rules,\n",
    "        top_num_distractor_objects,\n",
    "        top_sample_depth,\n",
    "        top_sample_distractor_rules,\n",
    "        top_prune_chain,\n",
    "        top_prune_prob,\n",
    "    )\n",
    "\n",
    "    full_rules = top_rules + base_rules\n",
    "    full_init_tiles = base_init_tiles\n",
    "    \n",
    "    ruleset = {\n",
    "        \"goal\": goal,\n",
    "        \"rules\": full_rules,\n",
    "        \"init_tiles\": full_init_tiles,\n",
    "    }\n",
    "\n",
    "    concat_rulesets.append({\n",
    "        \"goal\": ruleset[\"goal\"].encode(),\n",
    "        \"rules\": jnp.vstack([r.encode() for r in ruleset[\"rules\"]]),\n",
    "        \"init_tiles\": jnp.array(ruleset[\"init_tiles\"], dtype=jnp.uint8),\n",
    "    })"
   ]
  },
  {
   "cell_type": "code",
   "execution_count": 237,
   "id": "6deb4af4-ee6c-402d-828a-96dc7bb4aed6",
   "metadata": {},
   "outputs": [
    {
     "name": "stdout",
     "output_type": "stream",
     "text": [
      "GOAL:\n",
      "AgentNearRightGoal(blue square)\n",
      "\n",
      "RULES:\n",
      "AgentNear(green hexagon) -> blue square\n",
      "TileNearLeftRule(brown square, white hexagon) -> green hexagon\n",
      "AgentHold(purple ball) -> white hexagon\n",
      "AgentNear(pink hexagon) -> brown square\n",
      "\n",
      "INIT TILES:\n",
      "purple ball\n",
      "pink hexagon\n",
      "\n",
      "===============================\n",
      "GOAL:\n",
      "AgentHold(blue key)\n",
      "\n",
      "RULES:\n",
      "AgentNearUpRule(green hexagon) -> blue key\n",
      "TileNearLeftRule(brown square, white hexagon) -> green hexagon\n",
      "AgentHold(purple ball) -> white hexagon\n",
      "AgentNear(pink hexagon) -> brown square\n",
      "\n",
      "INIT TILES:\n",
      "purple ball\n",
      "pink hexagon\n",
      "\n",
      "===============================\n",
      "GOAL:\n",
      "AgentHold(purple hexagon)\n",
      "\n",
      "RULES:\n",
      "AgentNearDownRule(green hexagon) -> purple hexagon\n",
      "TileNearLeftRule(brown square, white hexagon) -> green hexagon\n",
      "AgentHold(purple ball) -> white hexagon\n",
      "AgentNear(pink hexagon) -> brown square\n",
      "\n",
      "INIT TILES:\n",
      "purple ball\n",
      "pink hexagon\n",
      "\n",
      "===============================\n"
     ]
    }
   ],
   "source": [
    "print_rulesets(concat_rulesets)"
   ]
  },
  {
   "cell_type": "code",
   "execution_count": null,
   "id": "f8d41ac2-c91f-4cd2-8fec-622d69f84990",
   "metadata": {},
   "outputs": [],
   "source": []
  },
  {
   "cell_type": "code",
   "execution_count": null,
   "id": "89f034b1-73fe-4a10-9bb0-8861d1516a18",
   "metadata": {},
   "outputs": [],
   "source": []
  },
  {
   "cell_type": "code",
   "execution_count": 239,
   "id": "73dab522-16cf-43f5-9cf6-5ac38c390f05",
   "metadata": {},
   "outputs": [],
   "source": [
    "top_chain_depth_2 = 3"
   ]
  },
  {
   "cell_type": "code",
   "execution_count": 240,
   "id": "9ad04120-6516-4a43-96fd-998a87307dad",
   "metadata": {},
   "outputs": [
    {
     "name": "stdout",
     "output_type": "stream",
     "text": [
      "goal tiles: grey star\n",
      "init_tiles: [(11, 2)]\n",
      "goal tiles: red star\n",
      "init_tiles: [(11, 2), (11, 2), (11, 2), (11, 2), (11, 2)]\n",
      "goal tiles: yellow pyramid\n",
      "init_tiles: [(11, 2), (11, 2), (11, 2), (11, 2)]\n"
     ]
    }
   ],
   "source": [
    "concat_rulesets_2 = []\n",
    "\n",
    "for _ in range(num_concat_rulesets):\n",
    "    goal, top_rules, top_init_tiles = sample_top_rules(\n",
    "        base_rand_prod_tile,\n",
    "        base_used_tiles,\n",
    "        top_chain_depth_2,\n",
    "        top_num_distractor_rules,\n",
    "        top_num_distractor_objects,\n",
    "        top_sample_depth,\n",
    "        top_sample_distractor_rules,\n",
    "        top_prune_chain,\n",
    "        top_prune_prob,\n",
    "    )\n",
    "\n",
    "    full_rules = top_rules + base_rules\n",
    "    full_init_tiles = base_init_tiles\n",
    "    \n",
    "    ruleset = {\n",
    "        \"goal\": goal,\n",
    "        \"rules\": full_rules,\n",
    "        \"init_tiles\": full_init_tiles,\n",
    "    }\n",
    "\n",
    "    concat_rulesets_2.append({\n",
    "        \"goal\": ruleset[\"goal\"].encode(),\n",
    "        \"rules\": jnp.vstack([r.encode() for r in ruleset[\"rules\"]]),\n",
    "        \"init_tiles\": jnp.array(ruleset[\"init_tiles\"], dtype=jnp.uint8),\n",
    "    })"
   ]
  },
  {
   "cell_type": "code",
   "execution_count": 242,
   "id": "82bddf40-e75c-4d5d-a736-d9851d2b239e",
   "metadata": {},
   "outputs": [
    {
     "name": "stdout",
     "output_type": "stream",
     "text": [
      "GOAL:\n",
      "AgentNearLeftGoal(grey star)\n",
      "\n",
      "RULES:\n",
      "AgentHold(red hexagon) -> grey star\n",
      "AgentNearUpRule(grey key) -> red hexagon\n",
      "AgentNearUpRule(green hexagon) -> grey key\n",
      "TileNearLeftRule(brown square, white hexagon) -> green hexagon\n",
      "AgentHold(purple ball) -> white hexagon\n",
      "AgentNear(pink hexagon) -> brown square\n",
      "\n",
      "INIT TILES:\n",
      "purple ball\n",
      "pink hexagon\n",
      "\n",
      "===============================\n",
      "GOAL:\n",
      "TileNearUpGoal(red star, red ball)\n",
      "\n",
      "RULES:\n",
      "AgentNearDownRule(green pyramid) -> red ball\n",
      "TileNearUpRule(red goal, yellow ball) -> red star\n",
      "AgentNearLeftRule(white key) -> yellow ball\n",
      "TileNearUpRule(blue pyramid, blue hexagon) -> red goal\n",
      "TileNearRightRule(orange star, purple key) -> green pyramid\n",
      "AgentNear(green hexagon) -> purple key\n",
      "AgentNear(green hexagon) -> orange star\n",
      "AgentNear(green hexagon) -> blue hexagon\n",
      "AgentNearLeftRule(green hexagon) -> blue pyramid\n",
      "AgentNearRightRule(green hexagon) -> white key\n",
      "TileNearLeftRule(brown square, white hexagon) -> green hexagon\n",
      "AgentHold(purple ball) -> white hexagon\n",
      "AgentNear(pink hexagon) -> brown square\n",
      "\n",
      "INIT TILES:\n",
      "purple ball\n",
      "pink hexagon\n",
      "\n",
      "===============================\n",
      "GOAL:\n",
      "AgentNearUpGoal(yellow pyramid)\n",
      "\n",
      "RULES:\n",
      "TileNearDownRule(yellow star, orange square) -> yellow pyramid\n",
      "TileNear(blue key, white key) -> orange square\n",
      "TileNearDownRule(purple square, red hexagon) -> yellow star\n",
      "AgentNearUpRule(green hexagon) -> red hexagon\n",
      "AgentNearUpRule(green hexagon) -> purple square\n",
      "AgentNearLeftRule(green hexagon) -> white key\n",
      "AgentNearRightRule(green hexagon) -> blue key\n",
      "TileNearLeftRule(brown square, white hexagon) -> green hexagon\n",
      "AgentHold(purple ball) -> white hexagon\n",
      "AgentNear(pink hexagon) -> brown square\n",
      "\n",
      "INIT TILES:\n",
      "purple ball\n",
      "pink hexagon\n",
      "\n",
      "===============================\n"
     ]
    }
   ],
   "source": [
    "print_rulesets(concat_rulesets_2)"
   ]
  },
  {
   "cell_type": "code",
   "execution_count": null,
   "id": "8a654642-a869-4ebe-8de7-22ab2c49e89e",
   "metadata": {},
   "outputs": [],
   "source": []
  }
 ],
 "metadata": {
  "kernelspec": {
   "display_name": "Python 3 (ipykernel)",
   "language": "python",
   "name": "python3"
  },
  "language_info": {
   "codemirror_mode": {
    "name": "ipython",
    "version": 3
   },
   "file_extension": ".py",
   "mimetype": "text/x-python",
   "name": "python",
   "nbconvert_exporter": "python",
   "pygments_lexer": "ipython3",
   "version": "3.11.5"
  }
 },
 "nbformat": 4,
 "nbformat_minor": 5
}
