{
 "cells": [
  {
   "cell_type": "markdown",
   "id": "5b7c3fbe-ccad-4ad8-a482-0abb7847be2d",
   "metadata": {
    "jp-MarkdownHeadingCollapsed": true
   },
   "source": [
    "### Utils for printing"
   ]
  },
  {
   "cell_type": "code",
   "execution_count": null,
   "id": "48b9e54b-e63a-4175-93c5-f327a861bd7c",
   "metadata": {},
   "outputs": [],
   "source": [
    "import jax\n",
    "import jax.numpy as jnp\n",
    "\n",
    "from xminigrid.core.constants import Colors, Tiles\n",
    "from xminigrid.types import AgentState, RuleSet"
   ]
  },
  {
   "cell_type": "code",
   "execution_count": null,
   "id": "b1be372f-a7a6-4c5c-a58b-ee931bcbdf6d",
   "metadata": {},
   "outputs": [],
   "source": [
    "COLOR_NAMES = {\n",
    "    Colors.EMPTY: \"white\",\n",
    "    Colors.RED: \"red\",\n",
    "    Colors.GREEN: \"green\",\n",
    "    Colors.BLUE: \"blue\",\n",
    "    Colors.PURPLE: \"purple\",\n",
    "    Colors.YELLOW: \"yellow\",\n",
    "    Colors.GREY: \"grey\",\n",
    "    Colors.BLACK: \"black\",\n",
    "    Colors.ORANGE: \"orange\",\n",
    "    Colors.WHITE: \"white\",\n",
    "    Colors.BROWN: \"brown\",\n",
    "    Colors.PINK: \"pink\",\n",
    "}\n",
    "\n",
    "TILE_STR = {\n",
    "    Tiles.EMPTY: \" \",\n",
    "    Tiles.FLOOR: \".\",\n",
    "    Tiles.WALL: \"☰\",\n",
    "    Tiles.BALL: \"⏺\",\n",
    "    Tiles.SQUARE: \"▪\",\n",
    "    Tiles.PYRAMID: \"▲\",\n",
    "    Tiles.HEX: \"⬢\",\n",
    "    Tiles.STAR: \"★\",\n",
    "    Tiles.GOAL: \"■\",\n",
    "    Tiles.DOOR_LOCKED: \"L\",\n",
    "    Tiles.DOOR_CLOSED: \"C\",\n",
    "    Tiles.DOOR_OPEN: \"O\",\n",
    "    Tiles.KEY: \"K\",\n",
    "}\n",
    "\n",
    "# for ruleset printing\n",
    "RULE_TILE_STR = {\n",
    "    Tiles.FLOOR: \"floor\",\n",
    "    Tiles.BALL: \"ball\",\n",
    "    Tiles.SQUARE: \"square\",\n",
    "    Tiles.PYRAMID: \"pyramid\",\n",
    "    Tiles.GOAL: \"goal\",\n",
    "    Tiles.KEY: \"key\",\n",
    "    Tiles.HEX: \"hexagon\",\n",
    "    Tiles.STAR: \"star\",\n",
    "}\n",
    "\n",
    "PLAYER_STR = {0: \"^\", 1: \">\", 2: \"V\", 3: \"<\"}"
   ]
  },
  {
   "cell_type": "code",
   "execution_count": null,
   "id": "481ba511-3d41-45c0-b121-3b41f6a8d8b5",
   "metadata": {},
   "outputs": [],
   "source": [
    "def _wrap_with_color(string: str, color: str) -> str:\n",
    "    return f\"[bold {color}]{string}[/bold {color}]\"\n",
    "\n",
    "\n",
    "# WARN: will NOT work under jit and needed for debugging mainly.\n",
    "def render(grid: jax.Array, agent: AgentState | None = None) -> str:\n",
    "    string = \"\"\n",
    "\n",
    "    for y in range(grid.shape[0]):\n",
    "        for x in range(grid.shape[1]):\n",
    "            tile_id, tile_color = grid[y, x]\n",
    "            tile_str = TILE_STR[tile_id.item()]\n",
    "            tile_color = COLOR_NAMES[tile_color.item()]\n",
    "\n",
    "            if agent is not None and jnp.all(agent.position == jnp.array((y, x))):\n",
    "                tile_str = PLAYER_STR[agent.direction.item()]\n",
    "                tile_color = COLOR_NAMES[Colors.RED]\n",
    "\n",
    "            string += _wrap_with_color(tile_str, tile_color)\n",
    "\n",
    "        if y < grid.shape[0] - 1:\n",
    "            string += \"\\n\"\n",
    "\n",
    "    return string"
   ]
  },
  {
   "cell_type": "code",
   "execution_count": null,
   "id": "e7417c67-934e-4662-bc3f-b1c765fb8feb",
   "metadata": {},
   "outputs": [],
   "source": [
    "# WARN: This is for debugging mainly! Will refactor later if needed.\n",
    "def _encode_tile(tile: list[int]) -> str:\n",
    "    return f\"{COLOR_NAMES[tile[1]]} {RULE_TILE_STR[tile[0]]}\""
   ]
  },
  {
   "cell_type": "code",
   "execution_count": null,
   "id": "d227887b-b16a-4ba9-805e-cb4197a2d8f7",
   "metadata": {},
   "outputs": [],
   "source": [
    "def _text_encode_goal(goal: list[int]) -> str:\n",
    "    goal_id = goal[0]\n",
    "    if goal_id == 1:\n",
    "        return f\"AgentHold({_encode_tile(goal[1:3])})\"\n",
    "    elif goal_id == 3:\n",
    "        return f\"AgentNear({_encode_tile(goal[1:3])})\"\n",
    "    elif goal_id == 4:\n",
    "        return f\"TileNear({_encode_tile(goal[1:3])}, {_encode_tile(goal[3:5])})\"\n",
    "    elif goal_id == 7:\n",
    "        return f\"TileNearUpGoal({_encode_tile(goal[1:3])}, {_encode_tile(goal[3:5])})\"\n",
    "    elif goal_id == 8:\n",
    "        return f\"TileNearRightGoal({_encode_tile(goal[1:3])}, {_encode_tile(goal[3:5])})\"\n",
    "    elif goal_id == 9:\n",
    "        return f\"TileNearDownGoal({_encode_tile(goal[1:3])}, {_encode_tile(goal[3:5])})\"\n",
    "    elif goal_id == 10:\n",
    "        return f\"TileNearLeftGoal({_encode_tile(goal[1:3])}, {_encode_tile(goal[3:5])})\"\n",
    "    elif goal_id == 11:\n",
    "        return f\"AgentNearUpGoal({_encode_tile(goal[1:3])})\"\n",
    "    elif goal_id == 12:\n",
    "        return f\"AgentNearRightGoal({_encode_tile(goal[1:3])})\"\n",
    "    elif goal_id == 13:\n",
    "        return f\"AgentNearDownGoal({_encode_tile(goal[1:3])})\"\n",
    "    elif goal_id == 14:\n",
    "        return f\"AgentNearLeftGoal({_encode_tile(goal[1:3])})\"\n",
    "    else:\n",
    "        raise RuntimeError(f\"Rendering: Unknown goal id: {goal_id}\")"
   ]
  },
  {
   "cell_type": "code",
   "execution_count": null,
   "id": "0e478cfd-5e1e-48e7-9d6b-ba87520df840",
   "metadata": {},
   "outputs": [],
   "source": [
    "def _text_encode_rule(rule: list[int]) -> str:\n",
    "    rule_id = rule[0]\n",
    "    if rule_id == 1:\n",
    "        return f\"AgentHold({_encode_tile(rule[1:3])}) -> {_encode_tile(rule[3:5])}\"\n",
    "    elif rule_id == 2:\n",
    "        return f\"AgentNear({_encode_tile(rule[1:3])}) -> {_encode_tile(rule[3:5])}\"\n",
    "    elif rule_id == 3:\n",
    "        return f\"TileNear({_encode_tile(rule[1:3])}, {_encode_tile(rule[3:5])}) -> {_encode_tile(rule[5:7])}\"\n",
    "    elif rule_id == 4:\n",
    "        return f\"TileNearUpRule({_encode_tile(rule[1:3])}, {_encode_tile(rule[3:5])}) -> {_encode_tile(rule[5:7])}\"\n",
    "    elif rule_id == 5:\n",
    "        return f\"TileNearRightRule({_encode_tile(rule[1:3])}, {_encode_tile(rule[3:5])}) -> {_encode_tile(rule[5:7])}\"\n",
    "    elif rule_id == 6:\n",
    "        return f\"TileNearDownRule({_encode_tile(rule[1:3])}, {_encode_tile(rule[3:5])}) -> {_encode_tile(rule[5:7])}\"\n",
    "    elif rule_id == 7:\n",
    "        return f\"TileNearLeftRule({_encode_tile(rule[1:3])}, {_encode_tile(rule[3:5])}) -> {_encode_tile(rule[5:7])}\"\n",
    "    elif rule_id == 8:\n",
    "        return f\"AgentNearUpRule({_encode_tile(rule[1:3])}) -> {_encode_tile(rule[3:5])}\"\n",
    "    elif rule_id == 9:\n",
    "        return f\"AgentNearRightRule({_encode_tile(rule[1:3])}) -> {_encode_tile(rule[3:5])}\"\n",
    "    elif rule_id == 10:\n",
    "        return f\"AgentNearDownRule({_encode_tile(rule[1:3])}) -> {_encode_tile(rule[3:5])}\"\n",
    "    elif rule_id == 11:\n",
    "        return f\"AgentNearLeftRule({_encode_tile(rule[1:3])}) -> {_encode_tile(rule[3:5])}\"\n",
    "    else:\n",
    "        raise RuntimeError(f\"Rendering: Unknown rule id: {rule_id}\")"
   ]
  },
  {
   "cell_type": "code",
   "execution_count": null,
   "id": "c2a78bcd-c8ac-4f1e-b6e1-0a6d8fffff05",
   "metadata": {},
   "outputs": [],
   "source": [
    "def print_ruleset(ruleset: RuleSet) -> None:\n",
    "    print(\"GOAL:\")\n",
    "    print(_text_encode_goal(ruleset.goal.tolist()))\n",
    "    print()\n",
    "    print(\"RULES:\")\n",
    "    for rule in ruleset.rules.tolist():\n",
    "        if rule[0] != 0:\n",
    "            print(_text_encode_rule(rule))\n",
    "    print()\n",
    "    print(\"INIT TILES:\")\n",
    "    for tile in ruleset.init_tiles.tolist():\n",
    "        if tile[0] != 0:\n",
    "            print(_encode_tile(tile))"
   ]
  },
  {
   "cell_type": "markdown",
   "id": "3c61ed11-63c9-4c37-9b22-4c34db9177f2",
   "metadata": {},
   "source": [
    "### Utils for generating"
   ]
  },
  {
   "cell_type": "code",
   "execution_count": 1,
   "id": "4d50fdae-2da5-4d83-ad9d-4d10bdb3f215",
   "metadata": {},
   "outputs": [],
   "source": [
    "import random\n",
    "from itertools import product\n",
    "from collections import namedtuple\n",
    "\n",
    "import jax.numpy as jnp\n",
    "from tqdm.auto import tqdm, trange\n",
    "from xminigrid.benchmarks import save_bz2_pickle\n",
    "from xminigrid.core.constants import Colors, Tiles\n",
    "from xminigrid.rendering.text_render import _encode_tile, _text_encode_goal, _text_encode_rule, print_ruleset\n",
    "from xminigrid.core.goals import (\n",
    "    AgentHoldGoal,\n",
    "    AgentNearDownGoal,\n",
    "    AgentNearGoal,\n",
    "    AgentNearLeftGoal,\n",
    "    AgentNearRightGoal,\n",
    "    AgentNearUpGoal,\n",
    "    TileNearDownGoal,\n",
    "    TileNearGoal,\n",
    "    TileNearLeftGoal,\n",
    "    TileNearRightGoal,\n",
    "    TileNearUpGoal,\n",
    ")\n",
    "from xminigrid.core.grid import pad_along_axis\n",
    "from xminigrid.core.rules import (\n",
    "    AgentHoldRule,\n",
    "    AgentNearDownRule,\n",
    "    AgentNearLeftRule,\n",
    "    AgentNearRightRule,\n",
    "    AgentNearRule,\n",
    "    AgentNearUpRule,\n",
    "    EmptyRule,\n",
    "    TileNearDownRule,\n",
    "    TileNearLeftRule,\n",
    "    TileNearRightRule,\n",
    "    TileNearRule,\n",
    "    TileNearUpRule,\n",
    ")"
   ]
  },
  {
   "cell_type": "code",
   "execution_count": 2,
   "id": "2536c15e-5098-4bf0-a5cc-b1392ac73a35",
   "metadata": {},
   "outputs": [],
   "source": [
    "COLORS = [\n",
    "    Colors.RED,\n",
    "    Colors.GREEN,\n",
    "    Colors.BLUE,\n",
    "    Colors.PURPLE,\n",
    "    Colors.YELLOW,\n",
    "    Colors.GREY,\n",
    "    Colors.WHITE,\n",
    "    Colors.BROWN,\n",
    "    Colors.PINK,\n",
    "    Colors.ORANGE,\n",
    "]\n",
    "\n",
    "# we need to distinguish between them, to avoid sampling\n",
    "# near(goal, goal) goal or rule as goal tiles are not pickable\n",
    "NEAR_TILES_LHS = list(\n",
    "    product([Tiles.BALL, Tiles.SQUARE, Tiles.PYRAMID, Tiles.KEY, Tiles.STAR, Tiles.HEX, Tiles.GOAL], COLORS)\n",
    ")\n",
    "# these are pickable!\n",
    "NEAR_TILES_RHS = list(product([Tiles.BALL, Tiles.SQUARE, Tiles.PYRAMID, Tiles.KEY, Tiles.STAR, Tiles.HEX], COLORS))\n",
    "\n",
    "HOLD_TILES = list(product([Tiles.BALL, Tiles.SQUARE, Tiles.PYRAMID, Tiles.KEY, Tiles.STAR, Tiles.HEX], COLORS))\n",
    "\n",
    "# to imitate disappearance production rule\n",
    "PROD_TILES = list(product([Tiles.BALL, Tiles.SQUARE, Tiles.PYRAMID, Tiles.KEY, Tiles.STAR, Tiles.HEX], COLORS))\n",
    "PROD_TILES = PROD_TILES + [(Tiles.FLOOR, Colors.BLACK)]\n",
    "\n",
    "# all possible tiles for randomly choosing a prod_tile for generating subtrees\n",
    "ALL_TILES = list(\n",
    "    product([Tiles.BALL, Tiles.SQUARE, Tiles.PYRAMID, Tiles.KEY, Tiles.STAR, Tiles.HEX, Tiles.GOAL], COLORS)\n",
    ")"
   ]
  },
  {
   "cell_type": "code",
   "execution_count": 3,
   "id": "ef0a8f68-e580-4578-9a8a-435f2d0bcd26",
   "metadata": {},
   "outputs": [],
   "source": [
    "def encode(ruleset):\n",
    "    flatten_encoding = jnp.concatenate([ruleset[\"goal\"].encode(), *[r.encode() for r in ruleset[\"rules\"]]]).tolist()\n",
    "    return tuple(flatten_encoding)\n",
    "\n",
    "def diff(list1, list2):\n",
    "    return list(set(list1) - set(list2))"
   ]
  },
  {
   "cell_type": "code",
   "execution_count": 52,
   "id": "54a518fa-f830-4f60-a634-3a08c67a38bc",
   "metadata": {},
   "outputs": [],
   "source": [
    "# checking this for the purpose of generating goals;\n",
    "# if the tile type is GOAL, goal_idx has to be compatible with NEAR_TILES_LHS which\n",
    "# is the only list of tiles that has tile type GOAL --> 1 <= goal_idx <= 5\n",
    "\n",
    "# the encoding of goal types is the following:\n",
    "# Tiles.BALL = 3, Tiles.SQUARE = 4, Tiles.PYRAMID = 5, \n",
    "# Tiles.KEY = 7, Tiles.STAR = 12, Tiles.HEX = 11, Tiles.GOAL = 6\n",
    "def is_goal_tile(tile):\n",
    "    return tile[0] == 6"
   ]
  },
  {
   "cell_type": "code",
   "execution_count": 63,
   "id": "57220a02-b02b-445d-bd46-7e093d7a8143",
   "metadata": {},
   "outputs": [],
   "source": [
    "def sample_goal(goal_tiles):\n",
    "    goals = (\n",
    "        AgentHoldGoal,\n",
    "        # agent near variations\n",
    "        AgentNearGoal,\n",
    "        AgentNearUpGoal,\n",
    "        AgentNearDownGoal,\n",
    "        AgentNearLeftGoal,\n",
    "        AgentNearRightGoal,\n",
    "        # tile near variations\n",
    "        TileNearGoal,\n",
    "        TileNearUpGoal,\n",
    "        TileNearDownGoal,\n",
    "        TileNearLeftGoal,\n",
    "        TileNearRightGoal,\n",
    "    )\n",
    "\n",
    "    if len(goal_tiles) == 1:\n",
    "        print(\"Generating an AgentHoldGoal or AgentNearXXX goal.\")\n",
    "        tile = goal_tiles[0]\n",
    "        if is_goal_tile(tile):\n",
    "            goal_idx = random.randint(1, 5)\n",
    "        else:\n",
    "            goal_idx = random.randint(0, 5)\n",
    "        goal = goals[goal_idx](tile=jnp.array(tile))\n",
    "        return goal, (tile,)\n",
    "    elif len(goal_tiles) == 2:\n",
    "        print(\"Generating a TileNearXXX goal.\")\n",
    "        tile_a, tile_b = goal_tiles\n",
    "        if is_goal_tile(tile_b):\n",
    "            raise RuntimeError(\"Imcompatible goal tile types.\")\n",
    "        else:\n",
    "            goal_idx = random.randint(6, 10)\n",
    "        goal = goals[goal_idx](tile_a=jnp.array(tile_a), tile_b=jnp.array(tile_b))\n",
    "        return goal, (tile_a, tile_b)\n",
    "    else:\n",
    "        raise RuntimeError(\"Unknown goal.\")"
   ]
  },
  {
   "cell_type": "code",
   "execution_count": 80,
   "id": "7186dbb7-cda5-47cb-bd75-8874a0f1f379",
   "metadata": {},
   "outputs": [
    {
     "data": {
      "text/plain": [
       "('pink goal', 'brown pyramid')"
      ]
     },
     "execution_count": 80,
     "metadata": {},
     "output_type": "execute_result"
    }
   ],
   "source": [
    "goal_tiles = random.choice(ALL_TILES), random.choice(ALL_TILES)\n",
    "tile_a, tile_b = goal_tiles\n",
    "_encode_tile(tile_a), _encode_tile(tile_b)"
   ]
  },
  {
   "cell_type": "code",
   "execution_count": 83,
   "id": "000469dd-1e31-4879-accd-bb884845d099",
   "metadata": {},
   "outputs": [
    {
     "name": "stdout",
     "output_type": "stream",
     "text": [
      "Generating a TileNearXXX goal.\n"
     ]
    }
   ],
   "source": [
    "goal, goal_tiles = sample_goal(goal_tiles)"
   ]
  },
  {
   "cell_type": "code",
   "execution_count": 84,
   "id": "e7739ab4-d9a5-4aa9-ac26-c5b4aa14e36c",
   "metadata": {},
   "outputs": [
    {
     "data": {
      "text/plain": [
       "'TileNearUpGoal(pink goal, brown pyramid)'"
      ]
     },
     "execution_count": 84,
     "metadata": {},
     "output_type": "execute_result"
    }
   ],
   "source": [
    "_text_encode_goal(goal.encode().tolist())"
   ]
  },
  {
   "cell_type": "code",
   "execution_count": null,
   "id": "15ead5c6-8cff-489b-bee5-40df5e343512",
   "metadata": {},
   "outputs": [],
   "source": []
  },
  {
   "cell_type": "code",
   "execution_count": null,
   "id": "5dfbd743-b0da-4d70-bfe2-27e77da66e4a",
   "metadata": {},
   "outputs": [],
   "source": []
  },
  {
   "cell_type": "code",
   "execution_count": null,
   "id": "40ac7f76-13eb-4d5f-b8c4-d182d9816984",
   "metadata": {},
   "outputs": [],
   "source": [
    "def sample_rule(prod_tile, used_tiles):\n",
    "    rules = (\n",
    "        AgentHoldRule,\n",
    "        # agent near variations\n",
    "        AgentNearRule,\n",
    "        AgentNearUpRule,\n",
    "        AgentNearDownRule,\n",
    "        AgentNearLeftRule,\n",
    "        AgentNearRightRule,\n",
    "        # tile near variations\n",
    "        TileNearRule,\n",
    "        TileNearUpRule,\n",
    "        TileNearDownRule,\n",
    "        TileNearLeftRule,\n",
    "        TileNearRightRule,\n",
    "    )\n",
    "    rule_idx = random.randint(0, 10)\n",
    "\n",
    "    if rule_idx == 0:\n",
    "        tile = random.choice(diff(HOLD_TILES, used_tiles))\n",
    "        rule = rules[rule_idx](tile=jnp.array(tile), prod_tile=jnp.array(prod_tile))\n",
    "        return rule, (tile,)\n",
    "    elif 1 <= rule_idx <= 5:\n",
    "        tile = random.choice(diff(HOLD_TILES, used_tiles))\n",
    "        rule = rules[rule_idx](tile=jnp.array(tile), prod_tile=jnp.array(prod_tile))\n",
    "        return rule, (tile,)\n",
    "    elif 6 <= rule_idx <= 10:\n",
    "        tile_a = random.choice(diff(NEAR_TILES_LHS, used_tiles))\n",
    "        tile_b = random.choice(diff(NEAR_TILES_RHS, used_tiles))\n",
    "        rule = rules[rule_idx](tile_a=jnp.array(tile_a), tile_b=jnp.array(tile_b), prod_tile=jnp.array(prod_tile))\n",
    "        return rule, (tile_a, tile_b)\n",
    "    else:\n",
    "        raise RuntimeError(\"Unknown rule\")"
   ]
  },
  {
   "cell_type": "code",
   "execution_count": null,
   "id": "da1b03d2-5bed-4026-b341-588f15453322",
   "metadata": {},
   "outputs": [],
   "source": [
    "# Define the namedtuple for storing ruleset information\n",
    "RuleSet = namedtuple('RuleSet', ['goal', 'rules', 'init_tiles'])\n",
    "\n",
    "def print_rulesets(rulesets):\n",
    "    \"\"\"Converts each ruleset dictionary into a namedtuple and prints it.\"\"\"\n",
    "    for ruleset in rulesets:\n",
    "        # Convert dictionary to namedtuple\n",
    "        ruleset_nt = RuleSet(\n",
    "            goal=ruleset['goal'],\n",
    "            rules=ruleset['rules'],\n",
    "            init_tiles=ruleset['init_tiles']\n",
    "        )\n",
    "        # Print the converted ruleset\n",
    "        print_ruleset(ruleset_nt)\n",
    "        print(\"\\n===============================\")"
   ]
  }
 ],
 "metadata": {
  "kernelspec": {
   "display_name": "Python 3 (ipykernel)",
   "language": "python",
   "name": "python3"
  },
  "language_info": {
   "codemirror_mode": {
    "name": "ipython",
    "version": 3
   },
   "file_extension": ".py",
   "mimetype": "text/x-python",
   "name": "python",
   "nbconvert_exporter": "python",
   "pygments_lexer": "ipython3",
   "version": "3.11.5"
  }
 },
 "nbformat": 4,
 "nbformat_minor": 5
}
